{
 "cells": [
  {
   "cell_type": "markdown",
   "metadata": {
    "collapsed": true,
    "pycharm": {
     "name": "#%% md\n"
    }
   },
   "source": [
    "# 基础\n",
    "## 数据类型"
   ]
  },
  {
   "cell_type": "code",
   "execution_count": null,
   "outputs": [],
   "source": [
    "# 整数 <class 'int'>\n",
    "n1, n2, n3 = 20, 0xa1b3_c3d4, 1000_000_000\n",
    "# 浮点数 <class 'float'>\n",
    "f1, f2 = 5.5, 1.2e5\n",
    "# 布尔值  <class 'bool'> 只有True、False两种值\n",
    "b1, b2 = True, False\n",
    "# 空值 None 不能理解为0\n",
    "# 变量n1 和 常量PI\n",
    "# 复数 <class 'complex'>\n",
    "ff1 = 4+3j\n",
    "\n",
    "print(\"数据类型转换===========\")\n",
    "print(int('123'), int(12.34))\n",
    "print(float('12.34'))\n",
    "print(str(1.23), str(100))\n",
    "print(bool(1), bool(''))"
   ],
   "metadata": {
    "collapsed": false,
    "pycharm": {
     "name": "#%%\n"
    }
   }
  },
  {
   "cell_type": "markdown",
   "source": [
    "## 运算符"
   ],
   "metadata": {
    "collapsed": false,
    "pycharm": {
     "name": "#%% md\n"
    }
   }
  },
  {
   "cell_type": "code",
   "execution_count": null,
   "outputs": [],
   "source": [
    "# 算数运算符\n",
    "print(\"a\" * 10)  # aaaaaaaaaa\n",
    "print(2 ** 11)  # 幂运算符  2048\n",
    "print(5 / 2)  # 除法 2.5\n",
    "print(5 // 2)  # 取整 2\n",
    "print(5.0 // 2)  # 2.0 不同类型运算会将整数转换为浮点数\n",
    "print(5 // 2.0)  # 2.0\n",
    "print(5 % 2)  # 求余 1\n",
    "# 比较运算符：没什么不同\n",
    "# 赋值运算符：就是把算数运算符后面加个=\n",
    "\n",
    "# 位运算符：\n",
    "a = 60  # 0011 1100\n",
    "b = 13  # 0000 1101\n",
    "print(a & b, a | b, a ^ b, ~a, a << 2, a >> 2)  # 12 61 49 -61 240 15\n",
    "\n",
    "# 逻辑运算符\n",
    "a = 0\n",
    "b = 20\n",
    "c = 10\n",
    "print(a and b)  # 0 如果 x 为 False，x and y 返回 False，否则它返回 y 的计算值。\n",
    "print(a or c)  # 10 如果 x 是 True，它返回 x 的值，否则它返回 y 的计算值。\n",
    "print(not a)  # True 如果 x 为 True，返回 False 。如果 x 为 False，它返回 True。\n",
    "\n",
    "# 成员运算符\n",
    "a, b = 1, 20\n",
    "list1 = [1, 2, 3, 4, 5]\n",
    "print(a in list1)\n",
    "print(b not in list1)\n",
    "\n",
    "# 身份运算符\n",
    "a = [1, 2, 3]\n",
    "b = [1, 2, 3]\n",
    "print(a is b)  # 判断是否为同一个对象 False\n",
    "print(id(a) == id(b))  # 同上\n",
    "print(a == b)  # 判断值是否相等 True"
   ],
   "metadata": {
    "collapsed": false,
    "pycharm": {
     "name": "#%%\n"
    }
   }
  },
  {
   "cell_type": "markdown",
   "source": [
    "## 输入输出"
   ],
   "metadata": {
    "collapsed": false,
    "pycharm": {
     "name": "#%% md\n"
    }
   }
  },
  {
   "cell_type": "code",
   "execution_count": null,
   "outputs": [],
   "source": [
    "name = input(\"输入你的名字：\")  # input()返回的数据类型是str\n",
    "print(\"你好\", name)  # 逗号表示一个空格\n",
    "print(\"你好\", name, sep=\"--\", end=\";\\n\")  # 有默认选项的\n",
    "print(f\"你好:{name}\")"
   ],
   "metadata": {
    "collapsed": false,
    "pycharm": {
     "name": "#%%\n"
    }
   }
  },
  {
   "cell_type": "code",
   "execution_count": null,
   "outputs": [],
   "source": [
    "# 输入两个整数或字符串\n",
    "x, y = eval(input(\"请输入2个整数，中间用逗号分开：\"))\n",
    "n, m = input(\"请输入2个字符串，中间用逗号分开：\").split(',')\n",
    "print(type(x), type(y), type(m), type(n))"
   ],
   "metadata": {
    "collapsed": false,
    "pycharm": {
     "name": "#%%\n"
    }
   }
  },
  {
   "cell_type": "markdown",
   "source": [
    "## 文档注释"
   ],
   "metadata": {
    "collapsed": false,
    "pycharm": {
     "name": "#%% md\n"
    }
   }
  },
  {
   "cell_type": "code",
   "execution_count": null,
   "outputs": [],
   "source": [
    "def str_doc(input):\n",
    "    \"\"\"\n",
    "    测试文档注释\n",
    "    一个文档字符串应该这样组织:\n",
    "    首先是一行以句号, 问号或惊叹号结尾的概述(或者该文档字符串单纯只有一行).\n",
    "    接着是一个空行.\n",
    "    接着是文档字符串剩下的部分, 它应该与文档字符串的第一行的第一个引号对齐.\n",
    "    :param input: 传入的参数\n",
    "    :return:  不返回任何东西\n",
    "    \"\"\"\n",
    "    print(\"文档字符串=====\")\n",
    "    print(input)"
   ],
   "metadata": {
    "collapsed": false,
    "pycharm": {
     "name": "#%%\n"
    }
   }
  },
  {
   "cell_type": "code",
   "execution_count": null,
   "outputs": [],
   "source": [
    "if __name__ == '__main__':\n",
    "    str_doc(\"hello\")"
   ],
   "metadata": {
    "collapsed": false,
    "pycharm": {
     "name": "#%%\n"
    }
   }
  },
  {
   "cell_type": "markdown",
   "source": [
    "## 时间和日期\n",
    "日期格式化符号%\n",
    "%c 本地时间 Wed Aug 25 20:47:01 2021\n",
    "%x 本地日期 08/25/21    %X 本地时间 20:44:26    %p AM PM\n",
    "%y 两位数的年份(00-99)    %Y 四位数的年份(0000-9999)\n",
    "%m 月份(01-12)    %b 月份简称(Mar) %B 全称    %d 月内中的一天(0-31)\n",
    "%H 24小时制小时数(0-23)   %I 12小时制小时数(01-12)    %M 分钟数(00=59)   %S 秒(00-59)\n",
    "%a 星期简称(Sat) %A 全称  %w 星期(0-6) 0是星期天\n",
    "%j 今年第几天(001-366)"
   ],
   "metadata": {
    "collapsed": false,
    "pycharm": {
     "name": "#%% md\n"
    }
   }
  },
  {
   "cell_type": "code",
   "execution_count": null,
   "outputs": [],
   "source": [
    "import time\n",
    "# 获取当前时间戳 返回从1970/1/1 0:00 到 当前时间 经过的秒数(浮点数表示)\n",
    "now = time.time()  # 1629894604.6818604\n",
    "# time.struct_time(tm_year=2021, tm_mon=8, tm_mday=25, # tm_hour=19, tm_min=52, tm_sec=3,\n",
    "# tm_wday=2(0是周一), tm_yday=237(一年的第几天), tm_isdst=0)\n",
    "# 将 时间戳 转为 时间元组(上面一长串)\n",
    "local_time = time.localtime(now)\n",
    "# 将 时间元组 转为 时间戳\n",
    "now = time.mktime(local_time)\n",
    "time.mktime((2018, 9, 30, 9, 44, 31, 6, 273, 0))\n",
    "# 将 时间元组 转为 格式化字符串 '2021-08-25 20:17:45' (具体见日期格式化符号)\n",
    "now_str = time.strftime(\"%Y-%m-%d %H:%M:%S\", local_time)\n",
    "# 将 格式化字符串 转换 时间元组\n",
    "now_struct_time = time.strptime(now_str, \"%Y-%m-%d %H:%M:%S\")"
   ],
   "metadata": {
    "collapsed": false,
    "pycharm": {
     "name": "#%%\n"
    }
   }
  },
  {
   "cell_type": "code",
   "execution_count": null,
   "outputs": [],
   "source": [
    "from datetime import datetime, timedelta\n",
    "# 基本的方法操作和time类似\n",
    "# 获取当前时间 datetime.datetime(2021, 8, 25, 20, 59, 28, 820097(毫秒))\n",
    "now = datetime.now()\n",
    "now.weekday()  # 0表示星期一\n",
    "# 获取10天后日期\n",
    "next_day = now + timedelta(days=10)  # 2021-09-04 21:09:53.861642\n",
    "# 获取10天后的日期 及那周的周一\n",
    "week_day = next_day - timedelta(days=next_day.weekday())  # 2021-08-30 21:13:40.952839"
   ],
   "metadata": {
    "collapsed": false,
    "pycharm": {
     "name": "#%%\n"
    }
   }
  },
  {
   "cell_type": "code",
   "execution_count": null,
   "outputs": [],
   "source": [
    "import calendar\n",
    "import time\n",
    "calendar.isleap(2018)  # 是闰年返回True\n",
    "calendar.monthrange(2014, 11)  # (5, 30) 2014年11月份的第一天是周六，共有30天\n",
    "print(calendar.timegm(time.localtime()))  # 接受一个时间元组形式，返回该时刻的时间辍\n",
    "print(calendar.weekday(2018, 10, 27))  # 返回给定日期的日期码 0=星期一"
   ],
   "metadata": {
    "collapsed": false,
    "pycharm": {
     "name": "#%%\n"
    }
   }
  },
  {
   "cell_type": "markdown",
   "source": [
    "# 字符串\n",
    "## 字符串内建函数"
   ],
   "metadata": {
    "collapsed": false,
    "pycharm": {
     "name": "#%% md\n"
    }
   }
  },
  {
   "cell_type": "code",
   "execution_count": null,
   "outputs": [],
   "source": [
    "str1 = \"hello\"\n",
    "str2 = \"123\"\n",
    "print(str1.capitalize())  # 首字母大写 Hello\n",
    "print(str1.center(9, \"-\"))  # 两边扩展字符 --hello--\n",
    "print(str1.count(\"ll\", 0, 5))  # 字母出现的次数 1\n",
    "print(str1.startswith(\"he\", 0, 10))  # 字符串是不是以he开头 True\n",
    "print(str1.endswith(\"lo\", 0, 10))  # 字符串是不是以lo结尾 True\n",
    "print(str1.find(\"e\"))  # 1\n",
    "print(str1.rfind(\"e\"))  # 1\n",
    "print(str1.index(\"e\"))  # 1\n",
    "print(str1.rindex(\"e\"))  # 1\n",
    "print((str1 + str2).isalnum())  # 所有字符都是字母数字返回True\n",
    "print(str2.isdigit())\n",
    "print(str1.isalpha())\n",
    "print(str1.islower())\n",
    "print(str1.isupper())  # 字符串是不是大写\n",
    "print(str1.istitle())\n",
    "print(len(str1))\n",
    "str3 = \"-\"\n",
    "print(str3.join((\"aaa\", \"bbb\", \"ccc\")))\n",
    "print(str1.lower())\n",
    "print(str1.title())  # 单词首字母大写,其他变为小写\n",
    "print(str1.upper())  # 字符串变大写\n",
    "print(str1.swapcase())\n",
    "print(str1.ljust(10, \"-\"))\n",
    "print(str1.rjust(10, \"-\"))\n",
    "print(\"12\".zfill(5))  # str.zfill()用零填充左侧的数字字符串\n",
    "print(str1.lstrip(\"he\"))\n",
    "print(str1.rstrip(\"lo\"))\n",
    "print(str1.strip(\"o\"))\n",
    "print(max(str1))\n",
    "print(min(str1))\n",
    "print(str1.replace(\"he\", \"HE\", 1))\n",
    "print(str1.split(\"e\"))"
   ],
   "metadata": {
    "collapsed": false,
    "pycharm": {
     "name": "#%%\n"
    }
   }
  },
  {
   "cell_type": "markdown",
   "source": [
    "## 字符串编码"
   ],
   "metadata": {
    "collapsed": false,
    "pycharm": {
     "name": "#%% md\n"
    }
   }
  },
  {
   "cell_type": "code",
   "execution_count": null,
   "outputs": [],
   "source": [
    "# 字符串 转义字符 (r默认不转义)\n",
    "s1, s2, s3, s4 = \"abc\", \"I'm OK\", \"I\\'m \\\"OK\\\"\", r\"I'm \\\\ OK\"\n",
    "# 三引号，常用语引用HTML代码，或SQL代码\n",
    "helloword = (\"\"\"\\\n",
    "    hello\n",
    "    world\"\"\")\n",
    "print(helloword)\n",
    "\n",
    "# 字符串编码 Python3所有的字符串都是Unicode字符串(1~6字节)。\n",
    "print(ord(\"A\"))  # 65 获取字符的整数表示\n",
    "print(chr(65))  # A 把编码转换为对应的字符\n",
    "print('\\u4e2d\\u6587')  # 中文\n",
    "\n",
    "# 如果要在网络上传输，或者保存到磁盘上，就需要把str(Unicode)变为以字节为单位的bytes\n",
    "x = b'abc'  # 每个字符都只占用一个字节\n",
    "print('ABC'.encode('ascii'))  # 可以编码为指定的bytes\n",
    "print(b'ABC'.decode('ascii'))\n",
    "print('中文'.encode('utf-8'))  # 长度为6\n",
    "print(b'\\xe4\\xb8\\xad\\xe6\\x96\\x87'.decode('utf-8'))  # 长度为2\n",
    "print(b'\\xe4\\xb8\\xad\\xe6\\xff\\x87'.decode('utf-8', errors='ignore'))  # 忽略错误字节\n",
    "\n",
    "# Python 没有单独的字符类型，一个字符就是长度为1的字符串。"
   ],
   "metadata": {
    "collapsed": false,
    "pycharm": {
     "name": "#%%\n"
    }
   }
  },
  {
   "cell_type": "markdown",
   "source": [
    "## 字符串格式化"
   ],
   "metadata": {
    "collapsed": false,
    "pycharm": {
     "name": "#%% md\n"
    }
   }
  },
  {
   "cell_type": "code",
   "execution_count": null,
   "outputs": [],
   "source": [
    "#  方式1：字符串前面加个f  推荐\n",
    "print(f\"3+3的结果是{3 + 3}\")\n",
    "year, mon = 2018, 10\n",
    "print(f\"今天是{year}年{mon}月\")  # 今天是2018年10月\n",
    "table = {'Sjoerd': 4127, 'Jack': 4098, 'Dcab': 7678}\n",
    "for name, phone in table.items():\n",
    "    print(f'{name:10} ==> {phone:10d}')\n",
    "\n",
    "#  方式2：str.format()\n",
    "print(\"{1} {0} {1}\".format(\"hello\", \"world\"))  # 通过位置设置参数\n",
    "site = {\"name\": \"菜鸟教程\", \"url\": \"www.runoob.com\"}  # 通过字典设置参数\n",
    "print(\"网站名：{name}, 地址：{url}\".format(**site))  # 解压\n",
    "my_list = ['菜鸟教程', 'www.runoob.com', 4444]  # 通过列表索引设置参数\n",
    "print(\"网站名：{0}, 地址：{1}, 价钱：{2:d}\".format(*my_list))  # 解压\n",
    "\n",
    "# 对数字进行格式化\n",
    "print(\"{:.2f}\".format(3.1415926))  # 保留两位小数\n",
    "print(\"{:+.2f}\".format(-3.1415926))  # 带符号保留两位小数\n",
    "print(\"{:.0f}\".format(3.14))  # 不保留小数\n",
    "print(\"{:0>2d}\".format(5))  # 数字补零，填充左边，宽度为2\n",
    "print(\"{:x<4d}\".format(10))  # 数字补x，填充右边，宽度为4\n",
    "print(\"{:,}\".format(1000000))  # 逗号分隔\n",
    "print(\"{:.2%}\".format(0.25))  # 百分比格式，两位小数\n",
    "print(\"{:.2e}\".format(1000000))  # 指数记法 1.00e+06\n",
    "print(\"{:10d}\".format(13))  # 右对齐，保持10位\n",
    "print(\"{:>10d}\".format(13))  # 右对齐，保持10位\n",
    "print(\"{:<10d}\".format(13))  # 左对齐\n",
    "print(\"{:^10d}\".format(13))  # 居中对齐\n",
    "print('{:b}'.format(11))  # 二进制\n",
    "print('{:d}'.format(11))  # 十进制\n",
    "print('{:o}'.format(11))  # 八进制\n",
    "print('{:x}'.format(11))  # 十六进制 b\n",
    "print('{:#x}'.format(11))  # 0xb\n",
    "print('{:#X}'.format(11))  # 0XB\n",
    "# 左边填充空格\n",
    "for x in range(1, 11):\n",
    "    print('{0:2d} {1:3d} {2:4d}'.format(x, x * x, x * x * x))\n",
    "print(\"方式3：%方法(已经过时,但是能用)======\")\n",
    "print(\"我叫 %s 今年 %d 岁!\" % ('小明', 10))  # 我叫 小明 今年 10 岁!\n",
    "\n",
    "# 百分号的用法%[(name)][flags][width].[precision]typecode\n",
    "print(\"%6.3f\" % 2.3)  # 宽度为6，小数3位，右对齐，浮点型，前面有一空格 2.300\n",
    "print(\"%.2f\" % 2.232)  # 保留两位小数\n",
    "print(\"%+5x\" % -10)  # 右对齐，宽度5，前面3空格"
   ],
   "metadata": {
    "collapsed": false,
    "pycharm": {
     "name": "#%%\n"
    }
   }
  },
  {
   "cell_type": "markdown",
   "source": [
    "# 数据结构\n",
    "## 列表list\n",
    "列表就是Python中的数组，但可以动态调整大小，可以包含不同类型的元素；"
   ],
   "metadata": {
    "collapsed": false,
    "pycharm": {
     "name": "#%% md\n"
    }
   }
  },
  {
   "cell_type": "code",
   "execution_count": null,
   "outputs": [],
   "source": [
    "print(\"list访问 切片 修改==============\")\n",
    "# 从后面索引：-6 -5 -4 -3 -2 -1\n",
    "# 从前面索引： 0  1  2  3  4  5\n",
    "#             a  b  c  d  e  f\n",
    "list1 = list(range(20))\n",
    "print(list1, list1[:])  # 输出完整列表 等价\n",
    "print(list1[1:3])  # 从下标1开始输出到下标2 [左毕右开)\n",
    "print(list1[-3:-1])  # 输出后三个数 -1最后一个数\n",
    "print(list1[:10:2])  # 每两个取一个\n",
    "list1[2:5] = []  # 将对应的元素值设置为 []\n",
    "\n",
    "print(\"列表连接和重复===============\")\n",
    "list2 = list(range(5))\n",
    "list3 = list1 + list2 * 2  # 要新建一个列表，并且要复制对象，计算量大。建议使用extend追加元素\n",
    "print(list3)\n",
    "\n",
    "print(\"列表遍历=========================\")\n",
    "list1 = list(range(20))\n",
    "for x in list1:\n",
    "    print(x, end=\"  \")  # 不换行输出\n",
    "for idx, item in enumerate(list1):  # 带索引 类似tuple\n",
    "    print(idx, item)\n",
    "\n",
    "print(\"同时遍历两个或更多的列表序列，使用zip()=========\")\n",
    "index1 = list(range(1, 4))\n",
    "for index, list2 in zip(index1, list1):\n",
    "    print(f\"{index}：{list2}\")\n",
    "\n",
    "print(\"列表生成式：将一种数据转为另一种数据=========================\")\n",
    "print([x ** 2 for x in range(20) if x % 2 == 0])  # 生成偶数x的平方\n",
    "print([x if x % 2 == 0 else 0 for x in range(20)])  # 将奇数变为0\n",
    "print([m + n for m in \"ABC\" for n in \"XYZ\"])  # 两层循环生成全排列\n",
    "\n",
    "print(list(map(lambda x: x ** 2, range(10))))\n",
    "# [0, 1, 4, 9, 16, 25, 36, 49, 64, 81]\n",
    "print([x ** 2 for x in range(10)])  # 和上面等价\n",
    "\n",
    "print(\"list基本方法(可以当堆栈使用)==============\")\n",
    "list2 = list(range(10))\n",
    "list2.append([3, 4])  # 看为1个元素list\n",
    "list2.extend([3, 4])  # 看做2个元素\n",
    "print(list2.index(3, 4))  # 从第4个位置开始查找3的下标\n",
    "list2.insert(3, 666)\n",
    "list2.pop(1)  # 移除下标为1的元素  默认移除最后一个元素\n",
    "list2.remove(666)  # 移除第一个值为666的元素\n",
    "list2.reverse()  # 反转"
   ],
   "metadata": {
    "collapsed": false,
    "pycharm": {
     "name": "#%%\n"
    }
   }
  },
  {
   "cell_type": "markdown",
   "source": [
    "## 元组tuple\n",
    "元组(tuple)与列表类似，访问、切片、遍历相同\n",
    "不同之处：元组的元素不能修改，代码更安全；"
   ],
   "metadata": {
    "collapsed": false,
    "pycharm": {
     "name": "#%% md\n"
    }
   }
  },
  {
   "cell_type": "code",
   "execution_count": null,
   "outputs": [],
   "source": [
    "tuple01 = ('abcd', [786, 2.23], 'toy', 70.2)  # 第二个元素是个列表\n",
    "\n",
    "tup1 = ()  # 空元组\n",
    "# tup2 = (20)  # 是一个加了小括号的数，而不是一个元组\n",
    "tup2 = (20,)  # 一个元素的元组，需要在元素后添加逗号。\n",
    "\n",
    "tuple02 = (123, 'toy', 456)\n",
    "num, name, num2 = tuple02  # 序列解包 123 toy 456"
   ],
   "metadata": {
    "collapsed": false,
    "pycharm": {
     "name": "#%%\n"
    }
   }
  },
  {
   "cell_type": "markdown",
   "source": [
    "## 集合set\n",
    "集合(set)是一个无序不重复元素的序列。"
   ],
   "metadata": {
    "collapsed": false,
    "pycharm": {
     "name": "#%% md\n"
    }
   }
  },
  {
   "cell_type": "code",
   "execution_count": null,
   "outputs": [],
   "source": [
    "nullset = set()  # 创建空集合 {}创建空字典\n",
    "student = {'Tom', 'Jim', 'Mary', 'Tom', 'Jack', 'Rose'}  # 自动去重\n",
    "print('Rose' in student)  # 成员测试\n",
    "student.add(\"zhangshan\")  # 添加\n",
    "student.update({1, 3}, [4, 5])\n",
    "print(student)  # {1, 'Mary', 3, 4, 5, 'Rose', 'Jack', 'Tom', 'Jim', 'zhangshan'}\n",
    "student.remove(1)  # 删除元素，不存在此元素会报错\n",
    "student.discard(3)  # 不存在不会报错\n",
    "print(student)  # {'Mary', 4, 5, 'Rose', 'Jack', 'Tom', 'Jim', 'zhangshan'}\n",
    "\n",
    "print(\"集合运算==============\")\n",
    "a, b = set('abracadabra'), set('alacazam')\n",
    "print(a - b)  # a和b的差集\n",
    "print(a | b)  # a和b的并集\n",
    "print(a & b)  # a和b的交集\n",
    "print(a ^ b)  # a和b中不同时存在的元素"
   ],
   "metadata": {
    "collapsed": false,
    "pycharm": {
     "name": "#%%\n"
    }
   }
  },
  {
   "cell_type": "markdown",
   "source": [
    "## 字典dict\n",
    "字典是一种映射类型，字典用\"{ }\"标识，它是一个无序的键(key) : 值(value)对集合。\n",
    "键(key)必须使用不可变类型(列表不行)。在同一个字典中，键(key)必须是唯一的。\n",
    "\n",
    "dict与list相比：\n",
    "字典是无序的对象集合，列表是有序的对象集合。\n",
    "字典当中的元素是通过键来存取的，而不是通过偏移存取。\n",
    "字典查找和插入的速度极快，不会随着key的增加而变慢，实现原理和查字典是一样的。\n",
    "字典需要占用大量的内存，内存浪费多，是用空间来换取时间的一种方法"
   ],
   "metadata": {
    "collapsed": false,
    "pycharm": {
     "name": "#%% md\n"
    }
   }
  },
  {
   "cell_type": "code",
   "execution_count": null,
   "outputs": [],
   "source": [
    "dict1 = {'one': \"教程\", 2: \"工具\"}  # key必须是不可变对象\n",
    "dict1[7] = \"插入\"\n",
    "print(dict1['one'], dict1[2])  # 输出键为 'one'和2 的值\n",
    "print(dict1.keys(), dict1.values())  # 输出所有键，所有值\n",
    "print(dict1.get(\"one\"))  # 判读key=one是否存在 存在返回value，不存在默认返回None\n",
    "print(\"one\" in dict1)  # 判读key=one是否存在 True\n",
    "print(dict1.pop('one'))  # 删除字典中某个键,不存在报错\n",
    "dict1.update({'b': 'foo', 'c': 12})  # 字典连接\n",
    "\n",
    "# 字典遍历\n",
    "for k, v in dict1.items():\n",
    "    print(k, v)"
   ],
   "metadata": {
    "collapsed": false,
    "pycharm": {
     "name": "#%%\n"
    }
   }
  },
  {
   "cell_type": "markdown",
   "source": [
    "## 队列deque\n",
    "在列表的最后添加或者弹出元素速度快，然而在列表里插入或者从头部弹出速度却不快\n",
    "（因为所有其他的元素都得一个一个地移动）"
   ],
   "metadata": {
    "collapsed": false,
    "pycharm": {
     "name": "#%% md\n"
    }
   }
  },
  {
   "cell_type": "code",
   "execution_count": null,
   "outputs": [],
   "source": [
    "from collections import deque\n",
    "queue = deque([\"aa\", \"bb\", \"cc\"])\n",
    "queue.append(\"dd\")\n",
    "queue.append(\"ee\")\n",
    "print(queue.popleft())\n",
    "print(queue.popleft())\n",
    "print(queue.popleft())"
   ],
   "metadata": {
    "collapsed": false,
    "pycharm": {
     "name": "#%%\n"
    }
   }
  },
  {
   "cell_type": "markdown",
   "source": [
    "## 生成器\n",
    "列表受到内存限制，容量有限，且如果访问100万个元素的列表的前面几个，会浪费大量空间；\n",
    "是否可以在循环的过程中不断推算出后续的元素呢？不必创建完整的list，从而节省大量的空间。\n",
    "在Python中，这种一边循环一边计算的机制，称为生成器：generator。"
   ],
   "metadata": {
    "collapsed": false,
    "pycharm": {
     "name": "#%% md\n"
    }
   }
  },
  {
   "cell_type": "code",
   "execution_count": null,
   "outputs": [],
   "source": [
    "g = (x**2 for x in range(10))\n",
    "print(next(g))\n",
    "for n in g:\n",
    "    print(n, end=\" \")\n",
    "print()\n",
    "\n",
    "# 如果一个函数定义中包含yield关键字，就变成了一个generator\n",
    "# 在每次调用next()的时候执行，遇到yield语句返回，再次执行时从上次返回的yield语句处继续执行。\n",
    "def yanghui_triangles(h):\n",
    "    L, count = [1], 1  # count表示当前打印的层，h表示需要打印的高度\n",
    "    while True:\n",
    "        if count > h:\n",
    "            return \"Done\"\n",
    "        yield L\n",
    "        count += 1\n",
    "        L = [1] + [L[i] + L[i+1] for i in range(count-2)] + [1]\n",
    "\n",
    "\n",
    "f = yanghui_triangles(10)\n",
    "while True:\n",
    "    try:\n",
    "        print(next(f))\n",
    "    except StopIteration as e:\n",
    "        print(e.value)\n",
    "        break"
   ],
   "metadata": {
    "collapsed": false,
    "pycharm": {
     "name": "#%%\n"
    }
   }
  },
  {
   "cell_type": "markdown",
   "source": [
    "## 枚举类Enum"
   ],
   "metadata": {
    "collapsed": false,
    "pycharm": {
     "name": "#%% md\n"
    }
   }
  },
  {
   "cell_type": "code",
   "execution_count": 12,
   "outputs": [
    {
     "name": "stdout",
     "output_type": "stream",
     "text": [
      "0\n"
     ]
    }
   ],
   "source": [
    "from enum import Enum, unique\n",
    "\n",
    "@unique  # 帮助我们检查保证没有重复值\n",
    "class Weekday(Enum):\n",
    "    Sun = 0 # Sun的value被设定为0\n",
    "    Mon = 1\n",
    "    Tue = 2\n",
    "    Wed = 3\n",
    "    Thu = 4\n",
    "    Fri = 5\n",
    "    Sat = 6\n",
    "\n",
    "print(Weekday.Sun.value)"
   ],
   "metadata": {
    "collapsed": false,
    "pycharm": {
     "name": "#%%\n"
    }
   }
  },
  {
   "cell_type": "markdown",
   "source": [
    "# 控制结构\n",
    "## 条件判断\n",
    "类型    False               True\n",
    "布尔    False(与0等价)       True(与1等价)\n",
    "数值    0,0.0               非零的数值\n",
    "字符串   '', \"\"(空字符串)    非空字符串\n",
    "容器    [],(),{},set()      至少有一个元素的容器对象\n",
    "None    None                非None对象"
   ],
   "metadata": {
    "collapsed": false,
    "pycharm": {
     "name": "#%% md\n"
    }
   }
  },
  {
   "cell_type": "code",
   "execution_count": null,
   "outputs": [],
   "source": [
    "x, y = eval(input(\"输入x,y：\"))\n",
    "if x > y:\n",
    "    print('x:', x)\n",
    "elif x == y:\n",
    "    print('x+y:', x + y)\n",
    "else:\n",
    "    print('y:', y)"
   ],
   "metadata": {
    "collapsed": false,
    "pycharm": {
     "name": "#%%\n"
    }
   }
  },
  {
   "cell_type": "markdown",
   "source": [
    "## 循环结构"
   ],
   "metadata": {
    "collapsed": false,
    "pycharm": {
     "name": "#%% md\n"
    }
   }
  },
  {
   "cell_type": "code",
   "execution_count": null,
   "outputs": [],
   "source": [
    "# for循环 对一个容器进行迭代\n",
    "sites = [\"Baidu\", \"Google\", \"toy\", \"Taobao\"]\n",
    "for site in sites:\n",
    "    pass\n",
    "else:  # 穷尽列表，没有一次进入循环时执行。\n",
    "    print(\"sites为空，没有循环数据!\")\n",
    "\n",
    "# Range 迭代某一范围的数字(左闭右开)\n",
    "for i in range(5, 20, 1):  # 从5到19 增量为2\n",
    "    pass\n",
    "\n",
    "# 下标循环\n",
    "for i, site in enumerate(sites):\n",
    "    pass"
   ],
   "metadata": {
    "collapsed": false,
    "pycharm": {
     "name": "#%%\n"
    }
   }
  },
  {
   "cell_type": "code",
   "execution_count": null,
   "outputs": [],
   "source": [
    "# while语句 在Python中没有do..while循环\n",
    "while True:\n",
    "    num = int(input(\"输入一个数字 :\"))\n",
    "    print(\"你输入的数字是: \", num)\n",
    "    if num == 999:\n",
    "        break\n",
    "    if num == 666:\n",
    "        print(\"你中奖了\")\n",
    "        continue\n",
    "print(\"Good bye!\")"
   ],
   "metadata": {
    "collapsed": false,
    "pycharm": {
     "name": "#%%\n"
    }
   }
  },
  {
   "cell_type": "markdown",
   "source": [
    "## 迭代器"
   ],
   "metadata": {
    "collapsed": false,
    "pycharm": {
     "name": "#%% md\n"
    }
   }
  },
  {
   "cell_type": "code",
   "execution_count": null,
   "outputs": [],
   "source": [
    "from collections.abc import Iterable, Iterator\n",
    "\n",
    "# 判断一个对象是否可迭代，可直接作用于for循环\n",
    "print(isinstance([1, 2, 3], Iterable))\n",
    "# 判断是否是迭代器 list、dict、str不是，但可用iter()函数变换\n",
    "print(isinstance([1, 2, 3], Iterator))"
   ],
   "metadata": {
    "collapsed": false,
    "pycharm": {
     "name": "#%%\n"
    }
   }
  },
  {
   "cell_type": "markdown",
   "source": [
    "# 函数\n",
    "## 自定义函数"
   ],
   "metadata": {
    "collapsed": false,
    "pycharm": {
     "name": "#%% md\n"
    }
   }
  },
  {
   "cell_type": "code",
   "execution_count": null,
   "outputs": [],
   "source": [
    "# 覆写x的n次幂; 默认参数必须指向不变对象\n",
    "def power(x, n=2):\n",
    "    s, i = 1, n\n",
    "    while i > 0:\n",
    "        i -= 1\n",
    "        s *= x\n",
    "    return x, n, s  # 返回多个值，结果以元组形式表示\n",
    "x, n, s = power(2, 10)\n",
    "print(f\"{x}的{n}次幂为{s}\")\n",
    "\n",
    "# 参数组合顺序：必选参数aabb 默认参数cc *可变参数(元组)dd 命名关键字参数ee **关键字参数(字典)ff\n",
    "def print_strs(aa, bb, cc=0, *dd, ee, **ff):\n",
    "    print(aa, bb, cc, dd, ee, ff)\n",
    "# aa bb 34 ('dd', 'dd2') ee {'ff': 'ff', 'gg': 'gg'}\n",
    "print_strs(\"aa\", \"bb\", 34, \"dd\", \"dd2\", ee=\"ee\", ff=\"ff\", gg=\"gg\")\n",
    "\n",
    "# 可接受任意参数的调用见 装饰器"
   ],
   "metadata": {
    "collapsed": false,
    "pycharm": {
     "name": "#%%\n"
    }
   }
  },
  {
   "cell_type": "markdown",
   "source": [
    "## 数学函数"
   ],
   "metadata": {
    "collapsed": false,
    "pycharm": {
     "name": "#%% md\n"
    }
   }
  },
  {
   "cell_type": "code",
   "execution_count": null,
   "outputs": [],
   "source": [
    "import math\n",
    "print(abs(-10), math.fabs(-10), math.ceil(4.3), math.floor(4.9), math.exp(1), math.log(100, 10), pow(2, 11))\n",
    "# 10 10.0 5 4 2.718281828459045 2.0 2048\n",
    "print(round(3.14156, 3), math.sqrt(4), max(1, 2, 3), min(1, 2, 3))  # 3.142 2.0 3 1\n",
    "print(round(10.5), round(11.5))  # 10 12\n",
    "\n",
    "# 随机数函数：\n",
    "import random\n",
    "print(random.choice(range(100)))\n",
    "print(random.randrange(100))  # 从 0-99 选取一个随机数\n",
    "print(random.randrange(1, 100, 2))  # 从 1-99 中选取一个奇数(2是递增基数)\n",
    "list1 = [1, 2, 3, 4, 5]\n",
    "random.shuffle(list1)  # 将序列随机排序\n",
    "print(list1)  # [1, 4, 5, 3, 2]\n",
    "print(random.uniform(3, 10))  # 在3-10内随机生成实数\n",
    "print(random.randint(10, 20))  # 整数"
   ],
   "metadata": {
    "collapsed": false,
    "pycharm": {
     "name": "#%%\n"
    }
   }
  },
  {
   "cell_type": "markdown",
   "source": [
    "## 排序算法"
   ],
   "metadata": {
    "collapsed": false,
    "pycharm": {
     "name": "#%% md\n"
    }
   }
  },
  {
   "cell_type": "code",
   "execution_count": null,
   "outputs": [],
   "source": [
    "# ``sorted``函数可以从任意序列的元素返回一个新的排好序的列表：\n",
    "# key指定的函数将作用于list的每一个元素上，并根据key函数返回的结果进行排序\n",
    "print(sorted([36, 5, -12, 9, -21], reverse=True))  # 默认升序排列\n",
    "print(sorted([36, 5, -12, 9, -21], key=abs))  # [5, 9, -12, -21, 36]\n",
    "\n",
    "# 字典排序\n",
    "students = [('Bob', 75), ('Adam', 92), ('Bart', 66), ('Lisa', 88)]\n",
    "print(sorted(students, key=lambda t: t[1]))  # Student未改变\n",
    "students.sort(key=lambda t: t[1])  # 返回None，Student已经改变\n",
    "print(students)\n",
    "\n",
    "# 序列函数 zip函数\n",
    "pitchers = [('Nolan', 'Ryan'), ('Roger', 'Clemens'), ('Schilling', 'Curt')]\n",
    "first_names, last_names = zip(*pitchers)  # zip既能压缩，也能解压"
   ],
   "metadata": {
    "collapsed": false,
    "pycharm": {
     "name": "#%%\n"
    }
   }
  },
  {
   "cell_type": "markdown",
   "source": [
    "## 函数式编程 匿名函数"
   ],
   "metadata": {
    "collapsed": false,
    "pycharm": {
     "name": "#%% md\n"
    }
   }
  },
  {
   "cell_type": "code",
   "execution_count": null,
   "outputs": [],
   "source": [
    "print(\"变量可以指向函数，函数名也是变量(被占用)========\")\n",
    "f = abs  # abs = 20\n",
    "print(\"函数作为参数=========\")\n",
    "\n",
    "def add(x, y, f):\n",
    "    return f(x) + f(y)\n",
    "print(add(-5, 6, f))"
   ],
   "metadata": {
    "collapsed": false,
    "pycharm": {
     "name": "#%%\n"
    }
   }
  },
  {
   "cell_type": "code",
   "execution_count": null,
   "outputs": [],
   "source": [
    "print(\"map reduce======================\")\n",
    "# Lambda表达式(匿名函数)：只能有一个表达式，不用写return，返回值就是该表达式的结果。\n",
    "# map将传入的函数依次作用到序列的每个元素，并把结果作为新的Iterator返回；惰性序列\n",
    "iter1 = map(lambda x: x*x, [1, 2, 3, 4, 5])\n",
    "print(list(iter1))\n",
    "\n",
    "#  reduce对所有元素进行折叠，把结果继续和序列的下一个元素做累积计算\n",
    "from functools import reduce\n",
    "sum = reduce(lambda x, y: x+y, list(range(10)))\n",
    "print(sum)  # 45 返回一个数\n",
    "\n",
    "# filter() 同map，保留为True的元素；\n",
    "iter2 = filter(lambda x: x%2==1, [1, 2, 4, 5, 6, 9, 10, 15])  # 过滤奇数\n",
    "print(list(iter2))  # [1, 5, 9, 15]"
   ],
   "metadata": {
    "collapsed": false,
    "pycharm": {
     "name": "#%%\n"
    }
   }
  },
  {
   "cell_type": "markdown",
   "source": [
    "## 装饰器"
   ],
   "metadata": {
    "collapsed": false,
    "pycharm": {
     "name": "#%% md\n"
    }
   }
  },
  {
   "cell_type": "code",
   "execution_count": null,
   "outputs": [],
   "source": [
    "import functools\n",
    "import time\n",
    "\n",
    "# 装饰器：增强某函数的功能，但又不修改该函数的定义；\n",
    "def execute_time(func):\n",
    "    @functools.wraps(func)  # 不改变原函数名\n",
    "    def wrapper(*args, **kw):  # 可以接受任意参数的调用\n",
    "        start = time.time()\n",
    "        res = func(*args, **kw)  # 调用原函数，并返回结果\n",
    "        stop = time.time()\n",
    "        print('%s函数 executed in %s ms' % (func.__name__, stop - start))\n",
    "        return res\n",
    "    return wrapper\n",
    "\n",
    "@execute_time\n",
    "def now():\n",
    "    print(\"现在\")\n",
    "\n",
    "print(now())  # now = log(now)"
   ],
   "metadata": {
    "collapsed": false,
    "pycharm": {
     "name": "#%%\n"
    }
   }
  },
  {
   "cell_type": "markdown",
   "source": [
    "## 返回函数 闭包"
   ],
   "metadata": {
    "collapsed": false,
    "pycharm": {
     "name": "#%% md\n"
    }
   }
  },
  {
   "cell_type": "code",
   "execution_count": null,
   "outputs": [],
   "source": [
    "print(\"函数作为返回值================\")\n",
    "\n",
    "# 当lazy_sum返回函数sum时，相关参数和变量都保存在返回的函数中，称为闭包\n",
    "def lazy_sum(*args):\n",
    "    def sum():\n",
    "        ax = 0\n",
    "        for n in args:\n",
    "            ax = ax + n\n",
    "        return ax\n",
    "\n",
    "    return sum\n",
    "\n",
    "f = lazy_sum(1, 3, 5)  # 返回sum()\n",
    "print(f())  # 调用函数f时，才真正计算\n",
    "\n",
    "# 返回闭包时牢记一点：返回函数不要引用任何循环变量，或者后续会发生变化的变量。\n",
    "def count():\n",
    "    fs = []\n",
    "    for i in range(1, 4):\n",
    "        def f():\n",
    "            return i * i\n",
    "        fs.append(f)\n",
    "    return fs  # 返回list，包含3个函数\n",
    "f1, f2, f3 = count()\n",
    "# 原因就在于返回的函数引用了变量i，但它并非立刻执行。\n",
    "# 等到3个函数都返回时，它们所引用的变量i已经变成了3，因此最终结果为9。\n",
    "print(f1(), f2(), f3())  # 9 9 9\n",
    "\n",
    "# 改进：再创建一个函数，用该函数的参数绑定循环变量当前的值，无论该循环变量后续如何更改，已绑定到函数参数的值不变：\n",
    "def count():\n",
    "    fs = []\n",
    "    def f(n):\n",
    "        def j():\n",
    "            return n * n\n",
    "        return j\n",
    "    for i in range(1, 4):\n",
    "        fs.append(f(i))  # f(i)立刻被执行，因此i的当前值被传入f()\n",
    "    return fs\n",
    "\n",
    "f1, f2, f3 = count()\n",
    "print(f1(), f2(), f3())  # 1 4 9\n",
    "\n",
    "# nonlocal 使用闭包时，对外层变量赋值前，需要先使用nonlocal声明该变量不是当前函数的局部变量。\n",
    "def inc():\n",
    "    x = 0\n",
    "    def fn():\n",
    "        nonlocal x  # 解释器把fn()的x看作外层函数的局部变量，它已经被初始化了，可以正确计算x+1。\n",
    "        x = x + 1  # x作为局部变量并没有初始化，直接计算x+1是不行的，必须加nonlocal\n",
    "        return x\n",
    "    return fn\n",
    "f = inc()\n",
    "print(f())  # 1\n",
    "print(f())  # 2\n"
   ],
   "metadata": {
    "collapsed": false,
    "pycharm": {
     "name": "#%%\n"
    }
   }
  },
  {
   "cell_type": "markdown",
   "source": [
    "# 文件操作\n",
    "'r'       读文件 (default)\n",
    "'w'       写文件\n",
    "'x'       创建新文件，并写文件\n",
    "'a'       追加模式\n",
    "-----------------------------\n",
    "'b'       二进制模式\n",
    "'t'       文本模式 (default)\n",
    "'+'       open a disk file for updating (reading and writing)\n",
    "'U'       universal newline mode (deprecated)"
   ],
   "metadata": {
    "collapsed": false,
    "pycharm": {
     "name": "#%% md\n"
    }
   }
  },
  {
   "cell_type": "code",
   "execution_count": 8,
   "outputs": [
    {
     "name": "stdout",
     "output_type": "stream",
     "text": [
      "Hello, world!\n",
      "Hello, world!\n"
     ]
    }
   ],
   "source": [
    "# with自动调用close()方法\n",
    "with open('../data/test.txt', 'a') as f:\n",
    "    f.write(\"Hello, world!\\n\")\n",
    "with open('../data/test.txt', 'r') as f:\n",
    "    # print(f.read())  # 全部读取，容易爆内存，适合小文件，或read(size)\n",
    "    for line in f.readlines():  # 逐行读取，适合配置文件\n",
    "        print(line.strip()) # 把末尾的'\\n'删掉"
   ],
   "metadata": {
    "collapsed": false,
    "pycharm": {
     "name": "#%%\n"
    }
   }
  },
  {
   "cell_type": "code",
   "execution_count": 1,
   "outputs": [],
   "source": [
    "try:\n",
    "    f = open('../data/test.txt', 'r')\n",
    "    f.read()\n",
    "finally:\n",
    "    if f:\n",
    "        f.close()  # 与上面等价，但是麻烦，需要手动close"
   ],
   "metadata": {
    "collapsed": false,
    "pycharm": {
     "name": "#%%\n"
    }
   }
  },
  {
   "cell_type": "markdown",
   "source": [
    "## 二进制 编码"
   ],
   "metadata": {
    "collapsed": false,
    "pycharm": {
     "name": "#%% md\n"
    }
   }
  },
  {
   "cell_type": "code",
   "execution_count": null,
   "outputs": [],
   "source": [
    "f = open('../data/test.jpg', 'rb')  # 读取二进制文件\n",
    "f = open('../data/gbk.txt', 'r', encoding='gbk', errors='ignore')\n",
    "f.close()"
   ],
   "metadata": {
    "collapsed": false,
    "pycharm": {
     "name": "#%%\n"
    }
   }
  },
  {
   "cell_type": "markdown",
   "source": [
    "## 内存中读写 StringIO BytesIO\n",
    "StringIO操作的只能是str，如果要操作二进制数据，就需要使用BytesIO。"
   ],
   "metadata": {
    "collapsed": false
   }
  },
  {
   "cell_type": "code",
   "execution_count": 10,
   "outputs": [
    {
     "name": "stdout",
     "output_type": "stream",
     "text": [
      "hello world!\n"
     ]
    }
   ],
   "source": [
    "from io import StringIO\n",
    "f = StringIO()\n",
    "f.write('hello'); f.write(\" \"); f.write(\"world!\")\n",
    "print(f.getvalue())\n",
    "f.close()"
   ],
   "metadata": {
    "collapsed": false,
    "pycharm": {
     "name": "#%%\n"
    }
   }
  },
  {
   "cell_type": "code",
   "source": [
    "from io import BytesIO\n",
    "f = BytesIO()\n",
    "f.write('中文'.encode('utf-8'))\n",
    "print(f.getvalue())\n",
    "f.close()"
   ],
   "metadata": {
    "collapsed": false,
    "pycharm": {
     "name": "#%%\n"
    }
   },
   "execution_count": 11,
   "outputs": [
    {
     "name": "stdout",
     "output_type": "stream",
     "text": [
      "b'\\xe4\\xb8\\xad\\xe6\\x96\\x87'\n"
     ]
    }
   ]
  },
  {
   "cell_type": "markdown",
   "source": [
    "## 操作文件和目录(重点)\n",
    "print(os.name)\n",
    "os.environ.get(\"PATH\")\n",
    "\n",
    "os.rename('test.txt', 'test.py')\n",
    "os.remove('test.py')"
   ],
   "metadata": {
    "collapsed": false,
    "pycharm": {
     "name": "#%% md\n"
    }
   }
  },
  {
   "cell_type": "code",
   "execution_count": 41,
   "outputs": [
    {
     "name": "stdout",
     "output_type": "stream",
     "text": [
      "D:\\pro\\python01\\笔记\n",
      "('../data', 'test.txt')\n",
      "('../data/test', '.txt')\n",
      "['Jupyter测试.ipynb', 'numpy笔记.ipynb', 'pandas笔记.ipynb', 'python笔记.ipynb']\n"
     ]
    }
   ],
   "source": [
    "import os\n",
    "print(os.path.abspath('.'))  # 查看当前目录的绝对路径\n",
    "\n",
    "testpath = \"../data/testdir\"\n",
    "os.mkdir(testpath)  # 创建目录\n",
    "os.rmdir(testpath)  # 删除目录\n",
    "\n",
    "testfile = \"../data/test.txt\"\n",
    "print(os.path.split(testfile))  # 拆分路径  ('../data', 'file.txt')\n",
    "print(os.path.splitext(testfile))  # 拆分后缀 ('../data/file', '.txt')\n",
    "\n",
    "# 一行代码，列出所有的xxx文件\n",
    "list = [x for x in os.listdir('.') if os.path.isfile(x) and os.path.splitext(x)[1]=='.ipynb']\n",
    "print(list)"
   ],
   "metadata": {
    "collapsed": false,
    "pycharm": {
     "name": "#%%\n"
    }
   }
  },
  {
   "cell_type": "markdown",
   "source": [
    "## 序列化 pickle.dumps\n",
    "我们把变量从内存中变成可存储或传输的过程称之为序列化，\n",
    "可以把序列化后的内容写入磁盘，或者通过网络传输到别的机器上。"
   ],
   "metadata": {
    "collapsed": false
   }
  },
  {
   "cell_type": "code",
   "execution_count": 43,
   "outputs": [
    {
     "name": "stdout",
     "output_type": "stream",
     "text": [
      "{'name': 'Bob', 'age': 20, 'score': 88}\n"
     ]
    }
   ],
   "source": [
    "import pickle\n",
    "d = dict(name='Bob', age=20, score=88)\n",
    "f = open('../data/test.txt', 'wb')\n",
    "d_bytes = pickle.dumps(d)  # 把任意对象序列化成一个bytes\n",
    "f.write(d_bytes)  #上2句与pickle.dumps(d, f)等价\n",
    "\n",
    "# 把对象从磁盘读到内存时，可以先把内容读到一个bytes，然后用pickle.loads()方法反序列化出对象\n",
    "f = open(\"../data/test.txt\", 'rb')\n",
    "print(pickle.load(f))\n",
    "f.close()"
   ],
   "metadata": {
    "collapsed": false,
    "pycharm": {
     "name": "#%%\n"
    }
   }
  },
  {
   "cell_type": "markdown",
   "source": [
    "## 对象到json"
   ],
   "metadata": {
    "collapsed": false
   }
  },
  {
   "cell_type": "code",
   "execution_count": 48,
   "outputs": [
    {
     "name": "stdout",
     "output_type": "stream",
     "text": [
      "{\"name\": \"Bob\", \"age\": 20, \"score\": 88}\n",
      "<__main__.Student object at 0x0000014AF8EC5B48>\n"
     ]
    }
   ],
   "source": [
    "import json\n",
    "d = dict(name='Bob', age=20, score=88)\n",
    "print(json.dumps(d))\n",
    "\n",
    "class Student(object):\n",
    "    def __init__(self, name, age, score):\n",
    "        self.name = name\n",
    "        self.age = age\n",
    "        self.score = score\n",
    "\n",
    "def student2dict(std):\n",
    "    return {\n",
    "        'name': std.name,\n",
    "        'age': std.age,\n",
    "        'score': std.score\n",
    "    }\n",
    "\n",
    "def dict2student(d):\n",
    "    return Student(d['name'], d['age'], d['score'])\n",
    "\n",
    "s = Student('Bob', 20, 88)\n",
    "json_str = json.dumps(s, default=student2dict)\n",
    "s2 = json.loads(json_str, object_hook=dict2student)"
   ],
   "metadata": {
    "collapsed": false,
    "pycharm": {
     "name": "#%%\n"
    }
   }
  },
  {
   "cell_type": "markdown",
   "source": [
    "# 面向对象\n",
    "## init和call"
   ],
   "metadata": {
    "collapsed": false,
    "pycharm": {
     "name": "#%% md\n"
    }
   }
  },
  {
   "cell_type": "code",
   "execution_count": null,
   "outputs": [],
   "source": [
    "class people():\n",
    "    def __init__(self, init_age):\n",
    "        print(\"调用init函数(类的初始化函数)\")\n",
    "        super(people, self).__init__()\n",
    "        print(f'我年龄是:{init_age}')\n",
    "        self.age = init_age\n",
    "\n",
    "    def __call__(self, added_age):\n",
    "        print(\"调用call函数, 使得类对象具有类似函数的功能\")\n",
    "        res = self.forward(added_age)\n",
    "        return res\n",
    "\n",
    "    def forward(self, input_):\n",
    "        print(f'调用forward函数，给年龄增加{self.age}岁')\n",
    "        return input_ + self.age"
   ],
   "metadata": {
    "collapsed": false,
    "pycharm": {
     "name": "#%%\n"
    }
   }
  },
  {
   "cell_type": "code",
   "execution_count": null,
   "outputs": [],
   "source": [
    "a = people(10)  # 调用init()\n",
    "res = a(2)  # 调用call()\n",
    "print(\"我现在的年龄是：\", res)"
   ],
   "metadata": {
    "collapsed": false,
    "pycharm": {
     "name": "#%%\n"
    }
   }
  },
  {
   "cell_type": "markdown",
   "source": [
    "## 类和实例"
   ],
   "metadata": {
    "collapsed": false,
    "pycharm": {
     "name": "#%% md\n"
    }
   }
  },
  {
   "cell_type": "code",
   "execution_count": 10,
   "outputs": [
    {
     "name": "stdout",
     "output_type": "stream",
     "text": [
      "李四今年10岁，体重30斤\n",
      "李四今年10岁，体重44斤\n",
      "100\n"
     ]
    }
   ],
   "source": [
    "class People:\n",
    "    name = ''  # 定义基本属性  (_name类型的实例变量外部是可以访问的，但不推荐)\n",
    "    age = 0\n",
    "    __weight = 0  # 定义私有属性 (两个下划线开头) 无法从外部直接进行访问(或设置set和get方法)\n",
    "\n",
    "    def __init__(self, name, age, weight):\n",
    "        \"\"\"定义构造方法(用来初始化类，等同于java的构造方法)\n",
    "        self表示实例本身，必为第一个参数\n",
    "        __xxx__是特殊变量，可以直接访问的，不是private变量\"\"\"\n",
    "        self.name = name\n",
    "        self.age = age\n",
    "        self.__weight = weight\n",
    "    def speak(self):\n",
    "        \"\"\"公共方法\"\"\"\n",
    "        self.__speak()\n",
    "    def __speak(self):\n",
    "        \"\"\"私有方法 (两个下划线开头) 只能在类的内部调用 self.__spark()\"\"\"\n",
    "        print(f\"{self.name}今年{self.age}岁，体重{self.__weight}斤\")\n",
    "\n",
    "    def __str__(self):\n",
    "        \"\"\"自定义打印函数\"\"\"\n",
    "        return f\"{self.name}今年{self.age}岁，体重{self.__weight}斤\"\n",
    "\n",
    "    @property\n",
    "    def weight(self):\n",
    "        \"\"\"property装饰器负责把一个方法变成属性调用\"\"\"\n",
    "        return self.__weight\n",
    "\n",
    "    @weight.setter\n",
    "    def weight(self, value):\n",
    "        self.__weight = value\n",
    "\n",
    "p = People('李四', 10, 30)\n",
    "p.speak()\n",
    "p.weight = 44\n",
    "print(p)\n",
    "p.score = 100  # 绑定实例属性\n",
    "print(p.score)"
   ],
   "metadata": {
    "collapsed": false,
    "pycharm": {
     "name": "#%%\n"
    }
   }
  },
  {
   "cell_type": "markdown",
   "source": [
    "## 单继承"
   ],
   "metadata": {
    "collapsed": false,
    "pycharm": {
     "name": "#%% md\n"
    }
   }
  },
  {
   "cell_type": "code",
   "execution_count": 8,
   "outputs": [
    {
     "name": "stdout",
     "output_type": "stream",
     "text": [
      "ken说：我今年10岁了，在读3年级\n",
      "True\n",
      "True\n"
     ]
    }
   ],
   "source": [
    "class Student(People):\n",
    "    grade = ''\n",
    "    def __init__(self, name, age, weight, grade):\n",
    "        People.__init__(self, name, age, weight)\n",
    "        self.grade = grade\n",
    "    def speak(self):\n",
    "        \"\"\"覆写父类的方法\"\"\"\n",
    "        print(f\"{self.name}说：我今年{self.age}岁了，在读{self.grade}年级\")\n",
    "s = Student('ken', 10, 60, 3)\n",
    "s.speak()\n",
    "print(isinstance(s, People))\n",
    "print(isinstance(s, Student))"
   ],
   "metadata": {
    "collapsed": false,
    "pycharm": {
     "name": "#%%\n"
    }
   }
  },
  {
   "cell_type": "markdown",
   "source": [
    "## 多态\n",
    "多态的好处就是，当我们需要传入Dog、Cat、Tortoise……时，我们只需要接收Animal类型就可以了，因为Dog、Cat、Tortoise……都是Animal类型，然后，按照Animal类型进行操作即可。由于Animal类型有speak()方法，因此，传入的任意类型，只要是Animal类或者子类，就会自动调用实际类型的identity()方法，这就是多态的意思"
   ],
   "metadata": {
    "collapsed": false
   }
  },
  {
   "cell_type": "code",
   "execution_count": 10,
   "outputs": [
    {
     "name": "stdout",
     "output_type": "stream",
     "text": [
      "我是狗\n",
      "我是猫\n"
     ]
    }
   ],
   "source": [
    "class Animal:\n",
    "    def speak(self):\n",
    "        print(\"我是动物\")\n",
    "class Dog(Animal):\n",
    "    def speak(self):\n",
    "        print(\"我是狗\")\n",
    "class Cat():\n",
    "    \"\"\"动态语言的“鸭子类型”，它并不要求严格的继承体系，\n",
    "    一个对象只要“看起来像鸭子，走起路来像鸭子”，那它就可以被看做是鸭子。\"\"\"\n",
    "    def speak(self):\n",
    "        print(\"我是猫\")\n",
    "dog = Dog()\n",
    "cat = Cat()\n",
    "def identity(animal):\n",
    "    animal.speak()\n",
    "identity(dog)\n",
    "identity(cat)"
   ],
   "metadata": {
    "collapsed": false,
    "pycharm": {
     "name": "#%%\n"
    }
   }
  },
  {
   "cell_type": "markdown",
   "source": [
    "## 多重继承"
   ],
   "metadata": {
    "collapsed": false
   }
  },
  {
   "cell_type": "code",
   "execution_count": 11,
   "outputs": [
    {
     "name": "stdout",
     "output_type": "stream",
     "text": [
      "我叫 Tim，我是一个演说家，我演讲的主题是 Python\n"
     ]
    }
   ],
   "source": [
    "class Speaker():\n",
    "    topic = ''\n",
    "    name = ''\n",
    "    def __init__(self, n, t):\n",
    "        self.name = n\n",
    "        self.topic = t\n",
    "    def speak(self):\n",
    "        print(\"我叫 %s，我是一个演说家，我演讲的主题是 %s\" % (self.name, self.topic))\n",
    "class Sample(Speaker, Student):\n",
    "    \"\"\"方法名同，默认调用的是在括号中排在前面的父类的方法，即Speaker方法\"\"\"\n",
    "    a = ''\n",
    "    def __init__(self, n, a, w, g, t):\n",
    "        Student.__init__(self, n, a, w, g)\n",
    "        Speaker.__init__(self, n, t)\n",
    "test = Sample(\"Tim\", 25, 80, 4, \"Python\")\n",
    "test.speak()  # 我叫 Tim，我是一个演说家，我演讲的主题是 Python"
   ],
   "metadata": {
    "collapsed": false,
    "pycharm": {
     "name": "#%%\n"
    }
   }
  },
  {
   "cell_type": "markdown",
   "source": [
    "## 定制类"
   ],
   "metadata": {
    "collapsed": false,
    "pycharm": {
     "name": "#%% md\n"
    }
   }
  },
  {
   "cell_type": "code",
   "execution_count": null,
   "outputs": [],
   "source": [
    "class Fib(object):\n",
    "    def __init__(self):\n",
    "        self.a, self.b = 0, 1 # 初始化两个计数器a，b\n",
    "\n",
    "    def __iter__(self):\n",
    "        \"\"\"用于for...in循环，类似list或tuple那样，返回一个迭代对象\"\"\"\n",
    "        return self # 实例本身就是迭代对象，故返回自己\n",
    "\n",
    "    def __next__(self):\n",
    "        \"\"\"for循环就会不断调用该迭代对象的__next__()方法拿到循环的下一个值，\n",
    "        直到遇到StopIteration错误时退出循环;\"\"\"\n",
    "        self.a, self.b = self.b, self.a + self.b # 计算下一个值\n",
    "        if self.a > 100: # 退出循环的条件\n",
    "            raise StopIteration()\n",
    "        return self.a # 返回下一个值\n",
    "\n",
    "    def __getitem__(self, n):\n",
    "        \"\"\"表现得像list那样按照下标取出元素\"\"\"\n",
    "        a, b = 1, 1\n",
    "        for x in range(n):\n",
    "            a, b = b, a + b\n",
    "        return a\n",
    "\n",
    "for n in Fib():\n",
    "    print(n)"
   ],
   "metadata": {
    "collapsed": false,
    "pycharm": {
     "name": "#%%\n",
     "is_executing": true
    }
   }
  },
  {
   "cell_type": "markdown",
   "source": [
    "# 错误处理"
   ],
   "metadata": {
    "collapsed": false,
    "pycharm": {
     "name": "#%% md\n"
    }
   }
  },
  {
   "cell_type": "code",
   "execution_count": 16,
   "outputs": [
    {
     "name": "stderr",
     "output_type": "stream",
     "text": [
      "ERROR:root:division by zero\n",
      "Traceback (most recent call last):\n",
      "  File \"C:\\Users\\李浩然\\AppData\\Local\\Temp\\ipykernel_23352\\1401103633.py\", line 4, in <module>\n",
      "    r = 10 / 0\n",
      "ZeroDivisionError: division by zero\n"
     ]
    },
    {
     "name": "stdout",
     "output_type": "stream",
     "text": [
      "try...\n",
      "ZeroDivisionError: division by zero\n",
      "finally...\n"
     ]
    },
    {
     "ename": "ZeroDivisionError",
     "evalue": "division by zero",
     "output_type": "error",
     "traceback": [
      "\u001B[1;31m---------------------------------------------------------------------------\u001B[0m",
      "\u001B[1;31mZeroDivisionError\u001B[0m                         Traceback (most recent call last)",
      "\u001B[1;32m~\\AppData\\Local\\Temp\\ipykernel_23352\\1401103633.py\u001B[0m in \u001B[0;36m<module>\u001B[1;34m\u001B[0m\n\u001B[0;32m      2\u001B[0m \u001B[1;32mtry\u001B[0m\u001B[1;33m:\u001B[0m\u001B[1;33m\u001B[0m\u001B[1;33m\u001B[0m\u001B[0m\n\u001B[0;32m      3\u001B[0m     \u001B[0mprint\u001B[0m\u001B[1;33m(\u001B[0m\u001B[1;34m'try...'\u001B[0m\u001B[1;33m)\u001B[0m\u001B[1;33m\u001B[0m\u001B[1;33m\u001B[0m\u001B[0m\n\u001B[1;32m----> 4\u001B[1;33m     \u001B[0mr\u001B[0m \u001B[1;33m=\u001B[0m \u001B[1;36m10\u001B[0m \u001B[1;33m/\u001B[0m \u001B[1;36m0\u001B[0m\u001B[1;33m\u001B[0m\u001B[1;33m\u001B[0m\u001B[0m\n\u001B[0m\u001B[0;32m      5\u001B[0m     \u001B[0mprint\u001B[0m\u001B[1;33m(\u001B[0m\u001B[1;34m'result:'\u001B[0m\u001B[1;33m,\u001B[0m \u001B[0mr\u001B[0m\u001B[1;33m)\u001B[0m\u001B[1;33m\u001B[0m\u001B[1;33m\u001B[0m\u001B[0m\n\u001B[0;32m      6\u001B[0m \u001B[1;32mexcept\u001B[0m \u001B[0mValueError\u001B[0m \u001B[1;32mas\u001B[0m \u001B[0me\u001B[0m\u001B[1;33m:\u001B[0m\u001B[1;33m\u001B[0m\u001B[1;33m\u001B[0m\u001B[0m\n",
      "\u001B[1;31mZeroDivisionError\u001B[0m: division by zero"
     ]
    }
   ],
   "source": [
    "import logging\n",
    "try:\n",
    "    print('try...')\n",
    "    r = 10 / 0\n",
    "    print('result:', r)\n",
    "except ValueError as e:\n",
    "    print('ValueError:', e)\n",
    "except ZeroDivisionError as e:\n",
    "    print('ZeroDivisionError:', e)\n",
    "    logging.exception(e)\n",
    "    raise  # 无法处理，抛出错误\n",
    "else:\n",
    "    print('no error!')\n",
    "finally:  # 如果有，则一定会被执行\n",
    "    print('finally...')\n",
    "print('END')"
   ],
   "metadata": {
    "collapsed": false,
    "pycharm": {
     "name": "#%%\n"
    }
   }
  },
  {
   "cell_type": "markdown",
   "source": [
    "## 调试 | 断言\n",
    "最好使用IDE\n",
    "1. 用print()最大的坏处是将来还得删掉它，想想程序里到处都是print()，运行结果也会包含很多垃圾信息\n",
    "2. 如果到处充斥着assert，也好不到哪去。不过，启动Python解释器时可以用-O参数来关闭assert：\n",
    "$ python -O err.py\n",
    "关闭后，你可以把所有的assert语句当成pass来看。"
   ],
   "metadata": {
    "collapsed": false,
    "pycharm": {
     "name": "#%% md\n"
    }
   }
  },
  {
   "cell_type": "code",
   "execution_count": 17,
   "outputs": [
    {
     "ename": "AssertionError",
     "evalue": "n is zero!",
     "output_type": "error",
     "traceback": [
      "\u001B[1;31m---------------------------------------------------------------------------\u001B[0m",
      "\u001B[1;31mAssertionError\u001B[0m                            Traceback (most recent call last)",
      "\u001B[1;32m~\\AppData\\Local\\Temp\\ipykernel_23352\\1758035644.py\u001B[0m in \u001B[0;36m<module>\u001B[1;34m\u001B[0m\n\u001B[0;32m      4\u001B[0m     \u001B[1;32mreturn\u001B[0m \u001B[1;36m10\u001B[0m \u001B[1;33m/\u001B[0m \u001B[0mn\u001B[0m\u001B[1;33m\u001B[0m\u001B[1;33m\u001B[0m\u001B[0m\n\u001B[0;32m      5\u001B[0m \u001B[1;33m\u001B[0m\u001B[0m\n\u001B[1;32m----> 6\u001B[1;33m \u001B[0mfoo\u001B[0m\u001B[1;33m(\u001B[0m\u001B[1;34m'0'\u001B[0m\u001B[1;33m)\u001B[0m\u001B[1;33m\u001B[0m\u001B[1;33m\u001B[0m\u001B[0m\n\u001B[0m",
      "\u001B[1;32m~\\AppData\\Local\\Temp\\ipykernel_23352\\1758035644.py\u001B[0m in \u001B[0;36mfoo\u001B[1;34m(s)\u001B[0m\n\u001B[0;32m      1\u001B[0m \u001B[1;32mdef\u001B[0m \u001B[0mfoo\u001B[0m\u001B[1;33m(\u001B[0m\u001B[0ms\u001B[0m\u001B[1;33m)\u001B[0m\u001B[1;33m:\u001B[0m\u001B[1;33m\u001B[0m\u001B[1;33m\u001B[0m\u001B[0m\n\u001B[0;32m      2\u001B[0m     \u001B[0mn\u001B[0m \u001B[1;33m=\u001B[0m \u001B[0mint\u001B[0m\u001B[1;33m(\u001B[0m\u001B[0ms\u001B[0m\u001B[1;33m)\u001B[0m\u001B[1;33m\u001B[0m\u001B[1;33m\u001B[0m\u001B[0m\n\u001B[1;32m----> 3\u001B[1;33m     \u001B[1;32massert\u001B[0m \u001B[0mn\u001B[0m \u001B[1;33m!=\u001B[0m \u001B[1;36m0\u001B[0m\u001B[1;33m,\u001B[0m \u001B[1;34m'n is zero!'\u001B[0m\u001B[1;33m\u001B[0m\u001B[1;33m\u001B[0m\u001B[0m\n\u001B[0m\u001B[0;32m      4\u001B[0m     \u001B[1;32mreturn\u001B[0m \u001B[1;36m10\u001B[0m \u001B[1;33m/\u001B[0m \u001B[0mn\u001B[0m\u001B[1;33m\u001B[0m\u001B[1;33m\u001B[0m\u001B[0m\n\u001B[0;32m      5\u001B[0m \u001B[1;33m\u001B[0m\u001B[0m\n",
      "\u001B[1;31mAssertionError\u001B[0m: n is zero!"
     ]
    }
   ],
   "source": [
    "def foo(s):\n",
    "    n = int(s)\n",
    "    assert n != 0, 'n is zero!'\n",
    "    return 10 / n\n",
    "\n",
    "foo('0')"
   ],
   "metadata": {
    "collapsed": false,
    "pycharm": {
     "name": "#%%\n"
    }
   }
  },
  {
   "cell_type": "markdown",
   "source": [
    "logginglogging不会抛出错误，而且可以输出到文件：\n",
    "通过简单的配置，一条语句可以同时输出到不同的地方，比如console和文件。"
   ],
   "metadata": {
    "collapsed": false
   }
  },
  {
   "cell_type": "code",
   "execution_count": 20,
   "outputs": [],
   "source": [
    "import logging\n",
    "logging.basicConfig(level=logging.INFO)\n",
    "\n",
    "s = '0'\n",
    "n = int(s)\n",
    "logging.info('n = %d' % n)\n",
    "print(10 / n)"
   ],
   "metadata": {
    "collapsed": false,
    "pycharm": {
     "name": "#%%\n"
    }
   }
  },
  {
   "cell_type": "markdown",
   "source": [
    "# 学到进程和线程了\n",
    "[进程和线程](https://www.liaoxuefeng.com/wiki/1016959663602400/1017627212385376)"
   ],
   "metadata": {
    "collapsed": false,
    "pycharm": {
     "name": "#%% md\n"
    }
   }
  },
  {
   "cell_type": "code",
   "execution_count": null,
   "outputs": [],
   "source": [],
   "metadata": {
    "collapsed": false,
    "pycharm": {
     "name": "#%%\n"
    }
   }
  }
 ],
 "metadata": {
  "kernelspec": {
   "display_name": "Python 3",
   "language": "python",
   "name": "python3"
  },
  "language_info": {
   "codemirror_mode": {
    "name": "ipython",
    "version": 2
   },
   "file_extension": ".py",
   "mimetype": "text/x-python",
   "name": "python",
   "nbconvert_exporter": "python",
   "pygments_lexer": "ipython2",
   "version": "2.7.6"
  }
 },
 "nbformat": 4,
 "nbformat_minor": 0
}