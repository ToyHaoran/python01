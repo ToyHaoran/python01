{
 "cells": [
  {
   "cell_type": "code",
   "execution_count": 1,
   "outputs": [],
   "source": [
    "import pandas as pd\n",
    "import numpy as np"
   ],
   "metadata": {
    "collapsed": false,
    "pycharm": {
     "name": "#%%\n"
    }
   }
  },
  {
   "cell_type": "markdown",
   "source": [
    "# Series\n",
    "Series可以看成一个定长的有序字典，能够保存任何数据类型;\n",
    "最重要的一个功能：会根据运算的索引标签自动对齐数据；类似join的操作\n",
    "## 数据访问 索引"
   ],
   "metadata": {
    "collapsed": false
   }
  },
  {
   "cell_type": "code",
   "execution_count": 28,
   "outputs": [
    {
     "name": "stdout",
     "output_type": "stream",
     "text": [
      "Index(['d', 'b', 'a', 'c'], dtype='object') [ 4  7 -5  3]\n",
      "通过索引获取 -5 nan\n",
      "通过下标获取\n",
      " c    3\n",
      "a   -5\n",
      "dtype: int64\n",
      "通过条件获取\n",
      " d    4\n",
      "b    7\n",
      "c    3\n",
      "dtype: int64\n"
     ]
    },
    {
     "data": {
      "text/plain": "d      4\nb      7\na     -5\nc      3\ne    100\nName: demo, dtype: int64"
     },
     "execution_count": 28,
     "metadata": {},
     "output_type": "execute_result"
    }
   ],
   "source": [
    "s = pd.Series([4, 7, -5, 3], index=['d', 'b', 'a', 'c'])  # 默认带索引 0~n-1\n",
    "print(s.index, s.values)\n",
    "print(\"通过索引获取\", s['a'], s.get('e', np.nan))  #\n",
    "print(\"通过下标获取\\n\", s[[3,2]])  #\n",
    "print(\"通过条件获取\\n\", s[s.values > 0])\n",
    "s[\"e\"] = 100  # 修改某个值\n",
    "s.rename(\"demo\")"
   ],
   "metadata": {
    "collapsed": false,
    "pycharm": {
     "name": "#%%\n"
    }
   }
  },
  {
   "cell_type": "markdown",
   "source": [
    "## 运算"
   ],
   "metadata": {
    "collapsed": false,
    "pycharm": {
     "name": "#%% md\n"
    }
   }
  },
  {
   "cell_type": "code",
   "execution_count": 27,
   "outputs": [
    {
     "name": "stdout",
     "output_type": "stream",
     "text": [
      "d     8\n",
      "b    14\n",
      "a   -10\n",
      "c     6\n",
      "dtype: int64\n",
      "d      54.598150\n",
      "b    1096.633158\n",
      "a       0.006738\n",
      "c      20.085537\n",
      "dtype: float64\n",
      "a   -10.0\n",
      "b    14.0\n",
      "c     NaN\n",
      "d     NaN\n",
      "dtype: float64\n"
     ]
    }
   ],
   "source": [
    "s = pd.Series([4, 7, -5, 3], index=['d', 'b', 'a', 'c'])\n",
    "print(s * 2)\n",
    "print(np.exp(s))\n",
    "print(s[1:] + s[:-1])  # ??"
   ],
   "metadata": {
    "collapsed": false,
    "pycharm": {
     "name": "#%%\n"
    }
   }
  },
  {
   "cell_type": "markdown",
   "source": [
    "## 时间和日期\n",
    "H小时 T min分钟 S秒 L ms毫秒  D天 W周 M月 Q季度"
   ],
   "metadata": {
    "collapsed": false,
    "pycharm": {
     "name": "#%% md\n"
    }
   }
  },
  {
   "cell_type": "code",
   "execution_count": 45,
   "outputs": [
    {
     "name": "stdout",
     "output_type": "stream",
     "text": [
      "DatetimeIndex(['2011-01-01', '2011-01-03', '2011-01-05', '2011-01-07',\n",
      "               '2011-01-09'],\n",
      "              dtype='datetime64[ns]', freq='2D')\n"
     ]
    }
   ],
   "source": [
    "print(pd.date_range('1/1/2011', periods=5, freq='2D'))"
   ],
   "metadata": {
    "collapsed": false,
    "pycharm": {
     "name": "#%%\n"
    }
   }
  },
  {
   "cell_type": "markdown",
   "source": [
    "# DataFrame\n",
    "一个表格型的数据结构"
   ],
   "metadata": {
    "collapsed": false,
    "pycharm": {
     "name": "#%% md\n"
    }
   }
  },
  {
   "cell_type": "markdown",
   "source": [
    "## 数据获取\n",
    "### 从文件中获取"
   ],
   "metadata": {
    "collapsed": false,
    "pycharm": {
     "name": "#%% md\n"
    }
   }
  },
  {
   "cell_type": "code",
   "execution_count": 5,
   "outputs": [
    {
     "data": {
      "text/plain": "    Unnamed: 0  Education     Income\n0            1  10.000000  26.658839\n1            2  10.401338  27.306435\n2            3  10.842809  22.132410\n3            4  11.244147  21.169841\n4            5  11.645485  15.192634\n5            6  12.086957  26.398951\n6            7  12.488294  17.435307\n7            8  12.889632  25.507885\n8            9  13.290970  36.884595\n9           10  13.732441  39.666109\n10          11  14.133779  34.396281\n11          12  14.535117  41.497994\n12          13  14.976589  44.981575\n13          14  15.377926  47.039595\n14          15  15.779264  48.252578\n15          16  16.220736  57.034251\n16          17  16.622074  51.490919\n17          18  17.023411  61.336621\n18          19  17.464883  57.581988\n19          20  17.866221  68.553714\n20          21  18.267559  64.310925\n21          22  18.709030  68.959009\n22          23  19.110368  74.614639\n23          24  19.511706  71.867195\n24          25  19.913043  76.098135\n25          26  20.354515  75.775218\n26          27  20.755853  72.486055\n27          28  21.157191  77.355021\n28          29  21.598662  72.118790\n29          30  22.000000  80.260571",
      "text/html": "<div>\n<style scoped>\n    .dataframe tbody tr th:only-of-type {\n        vertical-align: middle;\n    }\n\n    .dataframe tbody tr th {\n        vertical-align: top;\n    }\n\n    .dataframe thead th {\n        text-align: right;\n    }\n</style>\n<table border=\"1\" class=\"dataframe\">\n  <thead>\n    <tr style=\"text-align: right;\">\n      <th></th>\n      <th>Unnamed: 0</th>\n      <th>Education</th>\n      <th>Income</th>\n    </tr>\n  </thead>\n  <tbody>\n    <tr>\n      <th>0</th>\n      <td>1</td>\n      <td>10.000000</td>\n      <td>26.658839</td>\n    </tr>\n    <tr>\n      <th>1</th>\n      <td>2</td>\n      <td>10.401338</td>\n      <td>27.306435</td>\n    </tr>\n    <tr>\n      <th>2</th>\n      <td>3</td>\n      <td>10.842809</td>\n      <td>22.132410</td>\n    </tr>\n    <tr>\n      <th>3</th>\n      <td>4</td>\n      <td>11.244147</td>\n      <td>21.169841</td>\n    </tr>\n    <tr>\n      <th>4</th>\n      <td>5</td>\n      <td>11.645485</td>\n      <td>15.192634</td>\n    </tr>\n    <tr>\n      <th>5</th>\n      <td>6</td>\n      <td>12.086957</td>\n      <td>26.398951</td>\n    </tr>\n    <tr>\n      <th>6</th>\n      <td>7</td>\n      <td>12.488294</td>\n      <td>17.435307</td>\n    </tr>\n    <tr>\n      <th>7</th>\n      <td>8</td>\n      <td>12.889632</td>\n      <td>25.507885</td>\n    </tr>\n    <tr>\n      <th>8</th>\n      <td>9</td>\n      <td>13.290970</td>\n      <td>36.884595</td>\n    </tr>\n    <tr>\n      <th>9</th>\n      <td>10</td>\n      <td>13.732441</td>\n      <td>39.666109</td>\n    </tr>\n    <tr>\n      <th>10</th>\n      <td>11</td>\n      <td>14.133779</td>\n      <td>34.396281</td>\n    </tr>\n    <tr>\n      <th>11</th>\n      <td>12</td>\n      <td>14.535117</td>\n      <td>41.497994</td>\n    </tr>\n    <tr>\n      <th>12</th>\n      <td>13</td>\n      <td>14.976589</td>\n      <td>44.981575</td>\n    </tr>\n    <tr>\n      <th>13</th>\n      <td>14</td>\n      <td>15.377926</td>\n      <td>47.039595</td>\n    </tr>\n    <tr>\n      <th>14</th>\n      <td>15</td>\n      <td>15.779264</td>\n      <td>48.252578</td>\n    </tr>\n    <tr>\n      <th>15</th>\n      <td>16</td>\n      <td>16.220736</td>\n      <td>57.034251</td>\n    </tr>\n    <tr>\n      <th>16</th>\n      <td>17</td>\n      <td>16.622074</td>\n      <td>51.490919</td>\n    </tr>\n    <tr>\n      <th>17</th>\n      <td>18</td>\n      <td>17.023411</td>\n      <td>61.336621</td>\n    </tr>\n    <tr>\n      <th>18</th>\n      <td>19</td>\n      <td>17.464883</td>\n      <td>57.581988</td>\n    </tr>\n    <tr>\n      <th>19</th>\n      <td>20</td>\n      <td>17.866221</td>\n      <td>68.553714</td>\n    </tr>\n    <tr>\n      <th>20</th>\n      <td>21</td>\n      <td>18.267559</td>\n      <td>64.310925</td>\n    </tr>\n    <tr>\n      <th>21</th>\n      <td>22</td>\n      <td>18.709030</td>\n      <td>68.959009</td>\n    </tr>\n    <tr>\n      <th>22</th>\n      <td>23</td>\n      <td>19.110368</td>\n      <td>74.614639</td>\n    </tr>\n    <tr>\n      <th>23</th>\n      <td>24</td>\n      <td>19.511706</td>\n      <td>71.867195</td>\n    </tr>\n    <tr>\n      <th>24</th>\n      <td>25</td>\n      <td>19.913043</td>\n      <td>76.098135</td>\n    </tr>\n    <tr>\n      <th>25</th>\n      <td>26</td>\n      <td>20.354515</td>\n      <td>75.775218</td>\n    </tr>\n    <tr>\n      <th>26</th>\n      <td>27</td>\n      <td>20.755853</td>\n      <td>72.486055</td>\n    </tr>\n    <tr>\n      <th>27</th>\n      <td>28</td>\n      <td>21.157191</td>\n      <td>77.355021</td>\n    </tr>\n    <tr>\n      <th>28</th>\n      <td>29</td>\n      <td>21.598662</td>\n      <td>72.118790</td>\n    </tr>\n    <tr>\n      <th>29</th>\n      <td>30</td>\n      <td>22.000000</td>\n      <td>80.260571</td>\n    </tr>\n  </tbody>\n</table>\n</div>"
     },
     "execution_count": 5,
     "metadata": {},
     "output_type": "execute_result"
    }
   ],
   "source": [
    "data = pd.read_csv('../pytorch_note/dataset/Income1.csv')  # 从文件中获取DataFrame\n",
    "data"
   ],
   "metadata": {
    "collapsed": false,
    "pycharm": {
     "name": "#%%\n"
    }
   }
  },
  {
   "cell_type": "markdown",
   "source": [
    "### 从字典中获取"
   ],
   "metadata": {
    "collapsed": false,
    "pycharm": {
     "name": "#%% md\n"
    }
   }
  },
  {
   "cell_type": "code",
   "execution_count": 43,
   "outputs": [
    {
     "data": {
      "text/plain": "       year   state  pop       date\none    2000    Ohio  1.5 2020-08-08\ntwo    2001    Ohio  1.7 2020-08-10\nthree  2002    Ohio  3.6 2020-08-12\nfour   2001  Nevada  2.4 2020-08-14\nfive   2002  Nevada  2.9 2020-08-16\nsix    2003  Nevada  3.2 2020-08-18",
      "text/html": "<div>\n<style scoped>\n    .dataframe tbody tr th:only-of-type {\n        vertical-align: middle;\n    }\n\n    .dataframe tbody tr th {\n        vertical-align: top;\n    }\n\n    .dataframe thead th {\n        text-align: right;\n    }\n</style>\n<table border=\"1\" class=\"dataframe\">\n  <thead>\n    <tr style=\"text-align: right;\">\n      <th></th>\n      <th>year</th>\n      <th>state</th>\n      <th>pop</th>\n      <th>date</th>\n    </tr>\n  </thead>\n  <tbody>\n    <tr>\n      <th>one</th>\n      <td>2000</td>\n      <td>Ohio</td>\n      <td>1.5</td>\n      <td>2020-08-08</td>\n    </tr>\n    <tr>\n      <th>two</th>\n      <td>2001</td>\n      <td>Ohio</td>\n      <td>1.7</td>\n      <td>2020-08-10</td>\n    </tr>\n    <tr>\n      <th>three</th>\n      <td>2002</td>\n      <td>Ohio</td>\n      <td>3.6</td>\n      <td>2020-08-12</td>\n    </tr>\n    <tr>\n      <th>four</th>\n      <td>2001</td>\n      <td>Nevada</td>\n      <td>2.4</td>\n      <td>2020-08-14</td>\n    </tr>\n    <tr>\n      <th>five</th>\n      <td>2002</td>\n      <td>Nevada</td>\n      <td>2.9</td>\n      <td>2020-08-16</td>\n    </tr>\n    <tr>\n      <th>six</th>\n      <td>2003</td>\n      <td>Nevada</td>\n      <td>3.2</td>\n      <td>2020-08-18</td>\n    </tr>\n  </tbody>\n</table>\n</div>"
     },
     "execution_count": 43,
     "metadata": {},
     "output_type": "execute_result"
    }
   ],
   "source": [
    "d1 = {'state': ['Ohio', 'Ohio', 'Ohio', 'Nevada', 'Nevada', 'Nevada'],\n",
    "        'year': [2000, 2001, 2002, 2001, 2002, 2003],\n",
    "        'pop': [1.5, 1.7, 3.6, 2.4, 2.9, 3.2]}\n",
    "df = pd.DataFrame(d1,\n",
    "                  columns=['year', 'state', 'pop', 'date'],\n",
    "                  index=['one', 'two', 'three', 'four','five', 'six'])\n",
    "df[\"date\"] = pd.date_range(\"20200808\", periods=6, freq=\"2D\")\n",
    "df"
   ],
   "metadata": {
    "collapsed": false,
    "pycharm": {
     "name": "#%%\n"
    }
   }
  },
  {
   "cell_type": "markdown",
   "source": [
    "## 数据访问 索引\n",
    "和Series类似，和二维数组切片一致"
   ],
   "metadata": {
    "collapsed": false,
    "pycharm": {
     "name": "#%% md\n"
    }
   }
  },
  {
   "cell_type": "code",
   "execution_count": 50,
   "outputs": [
    {
     "name": "stdout",
     "output_type": "stream",
     "text": [
      "       year state  pop       date\n",
      "one    2000  Ohio  1.5 2020-08-08\n",
      "two    2001  Ohio  1.7 2020-08-10\n",
      "three  2002  Ohio  3.6 2020-08-12\n",
      "one        Ohio\n",
      "two        Ohio\n",
      "three      Ohio\n",
      "four     Nevada\n",
      "five     Nevada\n",
      "six      Nevada\n",
      "Name: state, dtype: object\n",
      "year                    2001\n",
      "state                   Ohio\n",
      "pop                      1.7\n",
      "date     2020-08-10 00:00:00\n",
      "Name: two, dtype: object\n"
     ]
    },
    {
     "data": {
      "text/plain": "       pop       date\none    1.5 2020-08-08\ntwo    1.7 2020-08-10\nthree  3.6 2020-08-12",
      "text/html": "<div>\n<style scoped>\n    .dataframe tbody tr th:only-of-type {\n        vertical-align: middle;\n    }\n\n    .dataframe tbody tr th {\n        vertical-align: top;\n    }\n\n    .dataframe thead th {\n        text-align: right;\n    }\n</style>\n<table border=\"1\" class=\"dataframe\">\n  <thead>\n    <tr style=\"text-align: right;\">\n      <th></th>\n      <th>pop</th>\n      <th>date</th>\n    </tr>\n  </thead>\n  <tbody>\n    <tr>\n      <th>one</th>\n      <td>1.5</td>\n      <td>2020-08-08</td>\n    </tr>\n    <tr>\n      <th>two</th>\n      <td>1.7</td>\n      <td>2020-08-10</td>\n    </tr>\n    <tr>\n      <th>three</th>\n      <td>3.6</td>\n      <td>2020-08-12</td>\n    </tr>\n  </tbody>\n</table>\n</div>"
     },
     "execution_count": 50,
     "metadata": {},
     "output_type": "execute_result"
    }
   ],
   "source": [
    "print(df.head(3))  # 前几行\n",
    "print(df['state'])  # 选择列 类似select  = df.state\n",
    "print(df.loc['two'])  # 选择行 第二行\n",
    "df.iloc[:3, -2:]  # 前3行后两列"
   ],
   "metadata": {
    "collapsed": false,
    "pycharm": {
     "name": "#%%\n"
    }
   }
  },
  {
   "cell_type": "markdown",
   "source": [
    "## 方法"
   ],
   "metadata": {
    "collapsed": false,
    "pycharm": {
     "name": "#%% md\n"
    }
   }
  },
  {
   "cell_type": "code",
   "execution_count": 47,
   "outputs": [
    {
     "name": "stdout",
     "output_type": "stream",
     "text": [
      "24 (6, 4)\n",
      "6\n",
      "one      4\n",
      "two      4\n",
      "three    4\n",
      "four     4\n",
      "five     4\n",
      "six      4\n",
      "dtype: int64\n",
      "1.5    1\n",
      "1.7    1\n",
      "3.6    1\n",
      "2.4    1\n",
      "2.9    1\n",
      "3.2    1\n",
      "Name: pop, dtype: int64\n"
     ]
    }
   ],
   "source": [
    "print(df.size, df.shape)  # 多少个元素, 形状\n",
    "print(len(df))  # 多少行\n",
    "print(df.count(axis=1))  # 默认0轴\n",
    "print(df[\"pop\"].value_counts())"
   ],
   "metadata": {
    "collapsed": false,
    "pycharm": {
     "name": "#%%\n"
    }
   }
  },
  {
   "cell_type": "markdown",
   "source": [
    "## 分组 groupby"
   ],
   "metadata": {
    "collapsed": false,
    "pycharm": {
     "name": "#%% md\n"
    }
   }
  },
  {
   "cell_type": "code",
   "execution_count": 13,
   "outputs": [
    {
     "name": "stdout",
     "output_type": "stream",
     "text": [
      "Devils\n",
      "     Team  Rank  Year  Points\n",
      "2  Devils     2  2014     863\n",
      "3  Devils     3  2015     673\n",
      "Kings\n",
      "    Team  Rank  Year  Points\n",
      "4  Kings     3  2014     741\n",
      "5  Kings     4  2015     812\n",
      "6  Kings     1  2016     756\n",
      "7  Kings     1  2017     788\n",
      "Riders\n",
      "      Team  Rank  Year  Points\n",
      "0   Riders     1  2014     876\n",
      "1   Riders     2  2015     789\n",
      "8   Riders     2  2016     694\n",
      "11  Riders     2  2017     690\n",
      "Royals\n",
      "      Team  Rank  Year  Points\n",
      "9   Royals     4  2014     701\n",
      "10  Royals     1  2015     804\n",
      "Devils Int64Index([2, 3], dtype='int64')\n",
      "Kings Int64Index([4, 5, 6, 7], dtype='int64')\n",
      "Riders Int64Index([0, 1, 8, 11], dtype='int64')\n",
      "Royals Int64Index([9, 10], dtype='int64')\n"
     ]
    }
   ],
   "source": [
    "ipl_data = {'Team': ['Riders', 'Riders', 'Devils', 'Devils', 'Kings',\n",
    "                     'Kings', 'Kings', 'Kings', 'Riders', 'Royals', 'Royals', 'Riders'],\n",
    "            'Rank': [1, 2, 2, 3, 3, 4, 1, 1, 2, 4, 1, 2],\n",
    "            'Year': [2014, 2015, 2014, 2015, 2014, 2015, 2016, 2017, 2016, 2014, 2015, 2017],\n",
    "            'Points': [876, 789, 863, 673, 741, 812, 756, 788, 694, 701, 804, 690]}\n",
    "df = pd.DataFrame(ipl_data)\n",
    "grouped = df.groupby('Team')  # 分组 或groupby(['Team', 'Year'])\n",
    "for name, group in grouped:  # 遍历组\n",
    "    print(name)\n",
    "    print(group)\n",
    "\n",
    "groups = grouped.groups  # 字典\n",
    "for k, v in groups.items():\n",
    "    print(k, v)"
   ],
   "metadata": {
    "collapsed": false,
    "pycharm": {
     "name": "#%%\n"
    }
   }
  },
  {
   "cell_type": "code",
   "execution_count": 12,
   "outputs": [
    {
     "name": "stdout",
     "output_type": "stream",
     "text": [
      "    Team  Rank  Year  Points\n",
      "4  Kings     3  2014     741\n",
      "5  Kings     4  2015     812\n",
      "6  Kings     1  2016     756\n",
      "7  Kings     1  2017     788\n",
      "Team\n",
      "Devils    768.00\n",
      "Kings     774.25\n",
      "Riders    762.25\n",
      "Royals    752.50\n",
      "Name: Points, dtype: float64\n",
      "         sum    mean         std\n",
      "Team                            \n",
      "Devils  1536  768.00  134.350288\n",
      "Kings   3097  774.25   31.899582\n",
      "Riders  3049  762.25   88.567771\n",
      "Royals  1505  752.50   72.831998\n",
      "    Rank   Year  Points\n",
      "0     10  20140    8760\n",
      "1     20  20150    7890\n",
      "2     20  20140    8630\n",
      "3     30  20150    6730\n",
      "4     30  20140    7410\n",
      "5     40  20150    8120\n",
      "6     10  20160    7560\n",
      "7     10  20170    7880\n",
      "8     20  20160    6940\n",
      "9     40  20140    7010\n",
      "10    10  20150    8040\n",
      "11    20  20170    6900\n",
      "      Team  Rank  Year  Points\n",
      "0   Riders     1  2014     876\n",
      "1   Riders     2  2015     789\n",
      "4    Kings     3  2014     741\n",
      "5    Kings     4  2015     812\n",
      "6    Kings     1  2016     756\n",
      "7    Kings     1  2017     788\n",
      "8   Riders     2  2016     694\n",
      "11  Riders     2  2017     690\n"
     ]
    }
   ],
   "source": [
    "print(grouped.get_group(\"Kings\"))  # 选择组\n",
    "print(grouped['Points'].agg(np.mean))  # 聚合\n",
    "print(grouped['Points'].agg([np.sum, np.mean, np.std]))\n",
    "print(grouped.transform(lambda x: (x * 10)))  # 转换\n",
    "print(grouped.filter(lambda x: len(x) >= 3))  # 过滤"
   ],
   "metadata": {
    "collapsed": false,
    "pycharm": {
     "name": "#%%\n"
    }
   }
  },
  {
   "cell_type": "markdown",
   "source": [
    "## 连接 join"
   ],
   "metadata": {
    "collapsed": false,
    "pycharm": {
     "name": "#%% md\n"
    }
   }
  },
  {
   "cell_type": "code",
   "execution_count": 14,
   "outputs": [
    {
     "name": "stdout",
     "output_type": "stream",
     "text": [
      "   id    Name subject_id\n",
      "0   1    Alex       sub1\n",
      "1   2     Amy       sub2\n",
      "2   3   Allen       sub4\n",
      "3   4   Alice       sub6\n",
      "4   5  Ayoung       sub5\n",
      "   id   Name subject_id\n",
      "0   1  Billy       sub2\n",
      "1   2  Brian       sub4\n",
      "2   3   Bran       sub3\n",
      "3   4  Bryce       sub6\n",
      "4   5  Betty       sub5\n"
     ]
    }
   ],
   "source": [
    "left = pd.DataFrame({\n",
    "    'id': [1, 2, 3, 4, 5],\n",
    "    'Name': ['Alex', 'Amy', 'Allen', 'Alice', 'Ayoung'],\n",
    "    'subject_id': ['sub1', 'sub2', 'sub4', 'sub6', 'sub5']})\n",
    "right = pd.DataFrame(\n",
    "    {'id': [1, 2, 3, 4, 5],\n",
    "     'Name': ['Billy', 'Brian', 'Bran', 'Bryce', 'Betty'],\n",
    "     'subject_id': ['sub2', 'sub4', 'sub3', 'sub6', 'sub5']})\n",
    "print(left)\n",
    "print(right)"
   ],
   "metadata": {
    "collapsed": false,
    "pycharm": {
     "name": "#%%\n"
    }
   }
  },
  {
   "cell_type": "code",
   "execution_count": 16,
   "outputs": [
    {
     "name": "stdout",
     "output_type": "stream",
     "text": [
      "   id  Name_x subject_id_x Name_y subject_id_y\n",
      "0   1    Alex         sub1  Billy         sub2\n",
      "1   2     Amy         sub2  Brian         sub4\n",
      "2   3   Allen         sub4   Bran         sub3\n",
      "3   4   Alice         sub6  Bryce         sub6\n",
      "4   5  Ayoung         sub5  Betty         sub5\n",
      "   id  Name_x subject_id Name_y\n",
      "0   4   Alice       sub6  Bryce\n",
      "1   5  Ayoung       sub5  Betty\n",
      "   id_x  Name_x subject_id  id_y Name_y\n",
      "0     2     Amy       sub2     1  Billy\n",
      "1     3   Allen       sub4     2  Brian\n",
      "2     4   Alice       sub6     4  Bryce\n",
      "3     5  Ayoung       sub5     5  Betty\n"
     ]
    }
   ],
   "source": [
    "print(pd.merge(left, right, on='id'))\n",
    "print(pd.merge(left, right, on=['id', 'subject_id']))\n",
    "print(pd.merge(left, right, on='subject_id', how='inner'))  # left左连接 right右连接 outer外连接 inner自然连接(默认)"
   ],
   "metadata": {
    "collapsed": false,
    "pycharm": {
     "name": "#%%\n"
    }
   }
  },
  {
   "cell_type": "markdown",
   "source": [
    "## Concat连接"
   ],
   "metadata": {
    "collapsed": false,
    "pycharm": {
     "name": "#%% md\n"
    }
   }
  },
  {
   "cell_type": "code",
   "execution_count": 17,
   "outputs": [
    {
     "name": "stdout",
     "output_type": "stream",
     "text": [
      "     Name subject_id  Marks_scored\n",
      "1    Alex       sub1            98\n",
      "2     Amy       sub2            90\n",
      "3   Allen       sub4            87\n",
      "4   Alice       sub6            69\n",
      "5  Ayoung       sub5            78\n",
      "    Name subject_id  Marks_scored\n",
      "1  Billy       sub2            89\n",
      "2  Brian       sub4            80\n",
      "3   Bran       sub3            79\n",
      "4  Bryce       sub6            97\n",
      "5  Betty       sub5            88\n"
     ]
    }
   ],
   "source": [
    "one = pd.DataFrame({\n",
    "    'Name': ['Alex', 'Amy', 'Allen', 'Alice', 'Ayoung'],\n",
    "    'subject_id': ['sub1', 'sub2', 'sub4', 'sub6', 'sub5'],\n",
    "    'Marks_scored': [98, 90, 87, 69, 78]},\n",
    "    index=[1, 2, 3, 4, 5])\n",
    "two = pd.DataFrame({\n",
    "    'Name': ['Billy', 'Brian', 'Bran', 'Bryce', 'Betty'],\n",
    "    'subject_id': ['sub2', 'sub4', 'sub3', 'sub6', 'sub5'],\n",
    "    'Marks_scored': [89, 80, 79, 97, 88]},\n",
    "    index=[1, 2, 3, 4, 5])\n",
    "print(one)\n",
    "print(two)"
   ],
   "metadata": {
    "collapsed": false,
    "pycharm": {
     "name": "#%%\n"
    }
   }
  },
  {
   "cell_type": "code",
   "execution_count": 19,
   "outputs": [
    {
     "name": "stdout",
     "output_type": "stream",
     "text": [
      "     Name subject_id  Marks_scored\n",
      "1    Alex       sub1            98\n",
      "2     Amy       sub2            90\n",
      "3   Allen       sub4            87\n",
      "4   Alice       sub6            69\n",
      "5  Ayoung       sub5            78\n",
      "1   Billy       sub2            89\n",
      "2   Brian       sub4            80\n",
      "3    Bran       sub3            79\n",
      "4   Bryce       sub6            97\n",
      "5   Betty       sub5            88\n",
      "     Name subject_id  Marks_scored   Name subject_id  Marks_scored\n",
      "1    Alex       sub1            98  Billy       sub2            89\n",
      "2     Amy       sub2            90  Brian       sub4            80\n",
      "3   Allen       sub4            87   Bran       sub3            79\n",
      "4   Alice       sub6            69  Bryce       sub6            97\n",
      "5  Ayoung       sub5            78  Betty       sub5            88\n",
      "     Name subject_id  Marks_scored\n",
      "0    Alex       sub1            98\n",
      "1     Amy       sub2            90\n",
      "2   Allen       sub4            87\n",
      "3   Alice       sub6            69\n",
      "4  Ayoung       sub5            78\n",
      "5   Billy       sub2            89\n",
      "6   Brian       sub4            80\n",
      "7    Bran       sub3            79\n",
      "8   Bryce       sub6            97\n",
      "9   Betty       sub5            88\n"
     ]
    }
   ],
   "source": [
    "print(pd.concat([one, two]))  # 默认连接0轴(多行合并)\n",
    "print(pd.concat([one, two], axis=1))\n",
    "print(pd.concat([one, two], keys=['x', 'y'], ignore_index=True))  # 重建索引"
   ],
   "metadata": {
    "collapsed": false,
    "pycharm": {
     "name": "#%%\n"
    }
   }
  },
  {
   "cell_type": "markdown",
   "source": [
    "# 索引对象\n",
    "就类似数据库表中的主键id\n",
    "负责管理轴标签和其他元数据（比如轴名称等）\n",
    "\n",
    "append 连接另一个Index对象,产生一个新的Index\n",
    "difference 计算差集,并得到一个Index\n",
    "intersection 计算交集\n",
    "union 计算并集\n",
    "isin 计算一个指示各值是否都包含在参数集合中的布尔型数组\n",
    "delete 删除索引i处的元素,并得到新的Index\n",
    "drop 删除传入的值,并得到新的Index\n",
    "insert 将元素插入到索引i处,并得到新的Index\n",
    "is_monotonic 当各元素均大于等于前一个元素时,返回True\n",
    "is_unique 当Index没有重复值时,返回True\n",
    "unique计算Index中唯一值的数组"
   ],
   "metadata": {
    "collapsed": false,
    "pycharm": {
     "name": "#%% md\n"
    }
   }
  },
  {
   "cell_type": "code",
   "execution_count": 38,
   "outputs": [
    {
     "name": "stdout",
     "output_type": "stream",
     "text": [
      "RangeIndex(start=0, stop=4, step=1)\n"
     ]
    }
   ],
   "source": [
    "s = pd.Series([4, 7, -5, 3])\n",
    "print(s.index)"
   ],
   "metadata": {
    "collapsed": false,
    "pycharm": {
     "name": "#%%\n"
    }
   }
  },
  {
   "cell_type": "markdown",
   "source": [
    "## 重新索引\n",
    "reindex函数的参数：\n",
    "    index用作索引的新序列。\n",
    "    method插值(填充)方式,具体参数请参见表5-4\n",
    "    fill_value 在重新索引的过程中,需要引入缺失值时使用的替代值\n",
    "    limit前向或后向填充时的最大填充量\n",
    "    tolerance向前后向后填充时,填充不准确匹配项的最大间距(绝对值距离)\n",
    "    level在Multilndex的指定级别上匹配简单索引,否则选取其子集\n",
    "    copy默认为True,无论如何都复制;如果为False,则新旧相等就不复制"
   ],
   "metadata": {
    "collapsed": false,
    "pycharm": {
     "name": "#%% md\n"
    }
   }
  },
  {
   "cell_type": "code",
   "execution_count": 45,
   "outputs": [
    {
     "name": "stdout",
     "output_type": "stream",
     "text": [
      "0    4.5\n",
      "1    7.2\n",
      "2   -5.3\n",
      "3    3.6\n",
      "4    3.6\n",
      "5    3.6\n",
      "dtype: float64\n"
     ]
    }
   ],
   "source": [
    "s = pd.Series([4.5, 7.2, -5.3, 3.6])\n",
    "print(s.reindex(range(6), method=\"ffill\"))  # 前向值填充，用于时间序列这样的有序数据"
   ],
   "metadata": {
    "collapsed": false,
    "pycharm": {
     "name": "#%%\n"
    }
   }
  },
  {
   "cell_type": "markdown",
   "source": [
    "# 看到5.2.2节了"
   ],
   "metadata": {
    "collapsed": false,
    "pycharm": {
     "name": "#%% md\n"
    }
   }
  },
  {
   "cell_type": "code",
   "execution_count": null,
   "outputs": [],
   "source": [],
   "metadata": {
    "collapsed": false,
    "pycharm": {
     "name": "#%%\n"
    }
   }
  }
 ],
 "metadata": {
  "kernelspec": {
   "display_name": "Python 3",
   "language": "python",
   "name": "python3"
  },
  "language_info": {
   "codemirror_mode": {
    "name": "ipython",
    "version": 2
   },
   "file_extension": ".py",
   "mimetype": "text/x-python",
   "name": "python",
   "nbconvert_exporter": "python",
   "pygments_lexer": "ipython2",
   "version": "2.7.6"
  }
 },
 "nbformat": 4,
 "nbformat_minor": 0
}