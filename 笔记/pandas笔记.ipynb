{
 "cells": [
  {
   "cell_type": "code",
   "execution_count": 2,
   "outputs": [],
   "source": [
    "import pandas as pd\n",
    "import numpy as np"
   ],
   "metadata": {
    "collapsed": false,
    "pycharm": {
     "name": "#%%\n"
    }
   }
  },
  {
   "cell_type": "markdown",
   "source": [
    "# 数据结构\n",
    "## Series\n",
    "Series可以看成一个定长的有序字典，能够保存任何数据类型;\n",
    "最重要的一个功能：会根据运算的索引标签自动对齐数据；类似join的操作"
   ],
   "metadata": {
    "collapsed": false
   }
  },
  {
   "cell_type": "code",
   "execution_count": 35,
   "outputs": [
    {
     "name": "stdout",
     "output_type": "stream",
     "text": [
      "Index(['d', 'b', 'a', 'c'], dtype='object', name='索引') [ 4  7 -5  3]\n",
      "-5\n",
      "索引\n",
      "d     8\n",
      "b    14\n",
      "a   -10\n",
      "c     6\n",
      "dtype: int64\n"
     ]
    }
   ],
   "source": [
    "obj = pd.Series([4, 7, -5, 3])  # 默认带索引 0~n-1\n",
    "obj = pd.Series([4, 7, -5, 3], index=['d', 'b', 'a', 'c'])\n",
    "obj.index.name = \"索引\"\n",
    "print(obj.index, obj.values)\n",
    "print(obj['a'])\n",
    "print(obj * 2)"
   ],
   "metadata": {
    "collapsed": false,
    "pycharm": {
     "name": "#%%\n"
    }
   }
  },
  {
   "cell_type": "markdown",
   "source": [
    "## DataFrame\n",
    "一个表格型的数据结构"
   ],
   "metadata": {
    "collapsed": false,
    "pycharm": {
     "name": "#%% md\n"
    }
   }
  },
  {
   "cell_type": "code",
   "execution_count": 33,
   "outputs": [
    {
     "name": "stdout",
     "output_type": "stream",
     "text": [
      "       year   state  pop test\n",
      "one    2000    Ohio  1.5  NaN\n",
      "two    2001    Ohio  1.7  NaN\n",
      "three  2002    Ohio  3.6  NaN\n",
      "four   2001  Nevada  2.4  NaN\n",
      "five   2002  Nevada  2.9  NaN\n",
      "six    2003  Nevada  3.2  NaN\n",
      "one        Ohio\n",
      "two        Ohio\n",
      "three      Ohio\n",
      "four     Nevada\n",
      "five     Nevada\n",
      "six      Nevada\n",
      "Name: state, dtype: object\n",
      "year     2001\n",
      "state    Ohio\n",
      "pop       1.7\n",
      "test      NaN\n",
      "Name: two, dtype: object\n",
      "       year   state  pop  test\n",
      "one    2000    Ohio  1.5   NaN\n",
      "two    2001    Ohio  1.7  -1.2\n",
      "three  2002    Ohio  3.6   NaN\n",
      "four   2001  Nevada  2.4  -1.5\n",
      "five   2002  Nevada  2.9  -1.7\n",
      "six    2003  Nevada  3.2   NaN\n"
     ]
    }
   ],
   "source": [
    "data = {'state': ['Ohio', 'Ohio', 'Ohio', 'Nevada', 'Nevada', 'Nevada'],\n",
    "        'year': [2000, 2001, 2002, 2001, 2002, 2003],\n",
    "        'pop': [1.5, 1.7, 3.6, 2.4, 2.9, 3.2]}\n",
    "df = pd.DataFrame(data,\n",
    "                  columns=['year', 'state', 'pop', 'test'],\n",
    "                  index=['one', 'two', 'three', 'four','five', 'six'])\n",
    "print(df.head(6))  # 前几行\n",
    "print(df['state'])  # 类似select  = df.state\n",
    "print(df.loc['two'])  # 第二行\n",
    "df['test'] = pd.Series([-1.2, -1.5, -1.7], index=['two', 'four', 'five'])\n",
    "print(df)"
   ],
   "metadata": {
    "collapsed": false,
    "pycharm": {
     "name": "#%%\n"
    }
   }
  },
  {
   "cell_type": "markdown",
   "source": [
    "# 索引对象\n",
    "就类似数据库表中的主键id\n",
    "负责管理轴标签和其他元数据（比如轴名称等）\n",
    "\n",
    "append 连接另一个Index对象,产生一个新的Index\n",
    "difference 计算差集,并得到一个Index\n",
    "intersection 计算交集\n",
    "union 计算并集\n",
    "isin 计算一个指示各值是否都包含在参数集合中的布尔型数组\n",
    "delete 删除索引i处的元素,并得到新的Index\n",
    "drop 删除传入的值,并得到新的Index\n",
    "insert 将元素插入到索引i处,并得到新的Index\n",
    "is_monotonic 当各元素均大于等于前一个元素时,返回True\n",
    "is_unique 当Index没有重复值时,返回True\n",
    "unique计算Index中唯一值的数组"
   ],
   "metadata": {
    "collapsed": false,
    "pycharm": {
     "name": "#%% md\n"
    }
   }
  },
  {
   "cell_type": "code",
   "execution_count": 38,
   "outputs": [
    {
     "name": "stdout",
     "output_type": "stream",
     "text": [
      "RangeIndex(start=0, stop=4, step=1)\n"
     ]
    }
   ],
   "source": [
    "obj = pd.Series([4, 7, -5, 3])\n",
    "print(obj.index)"
   ],
   "metadata": {
    "collapsed": false,
    "pycharm": {
     "name": "#%%\n"
    }
   }
  },
  {
   "cell_type": "markdown",
   "source": [
    "## 重新索引\n",
    "reindex函数的参数：\n",
    "    index用作索引的新序列。\n",
    "    method插值(填充)方式,具体参数请参见表5-4\n",
    "    fill_value 在重新索引的过程中,需要引入缺失值时使用的替代值\n",
    "    limit前向或后向填充时的最大填充量\n",
    "    tolerance向前后向后填充时,填充不准确匹配项的最大间距(绝对值距离)\n",
    "    level在Multilndex的指定级别上匹配简单索引,否则选取其子集\n",
    "    copy默认为True,无论如何都复制;如果为False,则新旧相等就不复制"
   ],
   "metadata": {
    "collapsed": false,
    "pycharm": {
     "name": "#%% md\n"
    }
   }
  },
  {
   "cell_type": "code",
   "execution_count": 45,
   "outputs": [
    {
     "name": "stdout",
     "output_type": "stream",
     "text": [
      "0    4.5\n",
      "1    7.2\n",
      "2   -5.3\n",
      "3    3.6\n",
      "4    3.6\n",
      "5    3.6\n",
      "dtype: float64\n"
     ]
    }
   ],
   "source": [
    "obj = pd.Series([4.5, 7.2, -5.3, 3.6])\n",
    "print(obj.reindex(range(6), method=\"ffill\"))  # 前向值填充，用于时间序列这样的有序数据"
   ],
   "metadata": {
    "collapsed": false,
    "pycharm": {
     "name": "#%%\n"
    }
   }
  },
  {
   "cell_type": "markdown",
   "source": [
    "# 处理缺失数据\n",
    "第7张详解"
   ],
   "metadata": {
    "collapsed": false,
    "pycharm": {
     "name": "#%% md\n"
    }
   }
  },
  {
   "cell_type": "code",
   "execution_count": null,
   "outputs": [],
   "source": [],
   "metadata": {
    "collapsed": false,
    "pycharm": {
     "name": "#%%\n"
    }
   }
  },
  {
   "cell_type": "markdown",
   "source": [
    "# 看到5.2.2节了"
   ],
   "metadata": {
    "collapsed": false,
    "pycharm": {
     "name": "#%% md\n"
    }
   }
  }
 ],
 "metadata": {
  "kernelspec": {
   "display_name": "Python 3",
   "language": "python",
   "name": "python3"
  },
  "language_info": {
   "codemirror_mode": {
    "name": "ipython",
    "version": 2
   },
   "file_extension": ".py",
   "mimetype": "text/x-python",
   "name": "python",
   "nbconvert_exporter": "python",
   "pygments_lexer": "ipython2",
   "version": "2.7.6"
  }
 },
 "nbformat": 4,
 "nbformat_minor": 0
}