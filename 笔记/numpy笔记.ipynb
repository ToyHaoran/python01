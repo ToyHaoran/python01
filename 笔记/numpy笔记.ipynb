{
 "cells": [
  {
   "cell_type": "code",
   "execution_count": 1,
   "outputs": [],
   "source": [
    "import numpy as np"
   ],
   "metadata": {
    "collapsed": false,
    "pycharm": {
     "name": "#%%\n"
    }
   }
  },
  {
   "cell_type": "markdown",
   "source": [
    "# 创建数组\n",
    "数学上将一维数组称为向量，将二维数组称为矩阵，将三维及以上的数组称为\"张量tensor\"或\"多维数组\"。"
   ],
   "metadata": {
    "collapsed": false,
    "pycharm": {
     "name": "#%% md\n"
    }
   }
  },
  {
   "cell_type": "code",
   "execution_count": 5,
   "outputs": [
    {
     "name": "stdout",
     "output_type": "stream",
     "text": [
      "[1. 1. 1.]\n",
      "[[0. 0. 0.]\n",
      " [0. 0. 0.]]\n"
     ]
    }
   ],
   "source": [
    "b = np.array([[1, 2], [3, 4]])\n",
    "b = np.arange(-10, 10, 2)  # 类似range，返回ndarray\n",
    "b.reshape(2, 5)  # 变为二维数组\n",
    "b.flatten()  # 降为一维数组\n",
    "print(np.ones(3))  # [1. 1. 1.]\n",
    "print(np.zeros((2, 3)))  # 二维数组 两行三列"
   ],
   "metadata": {
    "collapsed": false,
    "pycharm": {
     "name": "#%%\n"
    }
   }
  },
  {
   "cell_type": "markdown",
   "source": [
    "## 数组属性 shape dtype"
   ],
   "metadata": {
    "collapsed": false,
    "pycharm": {
     "name": "#%% md\n"
    }
   }
  },
  {
   "cell_type": "code",
   "execution_count": 10,
   "outputs": [
    {
     "name": "stdout",
     "output_type": "stream",
     "text": [
      "(5,) int64\n",
      "float32\n"
     ]
    }
   ],
   "source": [
    "a = np.array([1, 2, 3, 4, 5], dtype=np.int64)\n",
    "print(a.shape, a.dtype)\n",
    "a = a.astype(np.float32)  # 类型转换\n",
    "print(a.dtype)"
   ],
   "metadata": {
    "collapsed": false,
    "pycharm": {
     "name": "#%%\n"
    }
   }
  },
  {
   "cell_type": "markdown",
   "source": [
    "## 数组运算 dot\n",
    "逐元素 加减乘除 + - * /\n",
    "函数 np.sqrt(x) np.exp(x)"
   ],
   "metadata": {
    "collapsed": false,
    "pycharm": {
     "name": "#%% md\n"
    }
   }
  },
  {
   "cell_type": "code",
   "execution_count": 18,
   "outputs": [
    {
     "name": "stdout",
     "output_type": "stream",
     "text": [
      "(2, 2) 2\n",
      "[[19 22]\n",
      " [43 50]]\n",
      "[[19 22]\n",
      " [43 50]]\n",
      "[[False False]\n",
      " [False False]]\n",
      "[[5 6]\n",
      " [7 8]]\n",
      "[[1 2]\n",
      " [3 4]\n",
      " [5 6]\n",
      " [7 8]]\n"
     ]
    }
   ],
   "source": [
    "# 数组运算\n",
    "a = np.array([[1, 2],\n",
    "              [3, 4]])\n",
    "b = np.array([[5, 6],\n",
    "              [7, 8]])\n",
    "print(a.shape, a.ndim)  # (2, 2) 2维\n",
    "print(a.dot(b), np.dot(a, b), sep=\"\\n\")  # 矩阵乘法 Matrix Product\n",
    "print(a > b)  # 生成布尔值数组\n",
    "print(np.maximum(a, b))  # 生成一个最大值数组 fmax忽略NaN\n",
    "print(np.vstack((a, b)))  # 两个数组按垂直方向叠加"
   ],
   "metadata": {
    "collapsed": false,
    "pycharm": {
     "name": "#%%\n"
    }
   }
  },
  {
   "cell_type": "markdown",
   "source": [
    "## 统计方法 sum mean std标准差 var方差"
   ],
   "metadata": {
    "collapsed": false,
    "pycharm": {
     "name": "#%% md\n"
    }
   }
  },
  {
   "cell_type": "code",
   "execution_count": 41,
   "outputs": [
    {
     "name": "stdout",
     "output_type": "stream",
     "text": [
      "[[ 1  2  3  4  5]\n",
      " [ 6  7  8  9 10]]\n",
      "[3. 8.] 5.5\n",
      "10 9\n",
      "[ 1  3  6 10 15 21 28 36 45 55] \n",
      " [      1       2       6      24     120     720    5040   40320  362880\n",
      " 3628800]\n"
     ]
    }
   ],
   "source": [
    "a = np.arange(1, 11).reshape(2, 5)\n",
    "print(a)\n",
    "print(a.mean(axis=1), np.mean(a))  # 关于axis详见tensorflow\n",
    "print(np.max(a), np.argmax(a))  # 最大值 最大值的索引\n",
    "print(np.cumsum(a), \"\\n\" , np.cumprod(a))  # 所有元素的累积和 累计积"
   ],
   "metadata": {
    "collapsed": false,
    "pycharm": {
     "name": "#%%\n"
    }
   }
  },
  {
   "cell_type": "markdown",
   "source": [
    "## 广播\n",
    "低维c扩展到高维a相同的形状"
   ],
   "metadata": {
    "collapsed": false,
    "pycharm": {
     "name": "#%% md\n"
    }
   }
  },
  {
   "cell_type": "code",
   "execution_count": 3,
   "outputs": [
    {
     "name": "stdout",
     "output_type": "stream",
     "text": [
      "[[10 40]\n",
      " [30 80]]\n"
     ]
    }
   ],
   "source": [
    "a = np.array([[1, 2],\n",
    "              [3, 4]])\n",
    "b = np.array([10, 20])\n",
    "print(a * b)"
   ],
   "metadata": {
    "collapsed": false,
    "pycharm": {
     "name": "#%%\n"
    }
   }
  },
  {
   "cell_type": "markdown",
   "source": [
    "## 数组切片\n",
    "类似列表切片"
   ],
   "metadata": {
    "collapsed": false
   }
  },
  {
   "cell_type": "code",
   "execution_count": 15,
   "outputs": [
    {
     "name": "stdout",
     "output_type": "stream",
     "text": [
      "[[0 1 2 3 4]\n",
      " [5 6 7 8 9]]\n",
      "[1 6]\n"
     ]
    }
   ],
   "source": [
    "a = np.arange(10)\n",
    "a_slice = a[5:8]\n",
    "b = a.reshape(2, 5)\n",
    "print(b)\n",
    "print(b[:, 1])  # 提取 列下标=1 的所有元素"
   ],
   "metadata": {
    "collapsed": false,
    "pycharm": {
     "name": "#%%\n"
    }
   }
  },
  {
   "cell_type": "markdown",
   "source": [
    "## 布尔型索引|数组 where"
   ],
   "metadata": {
    "collapsed": false,
    "pycharm": {
     "name": "#%% md\n"
    }
   }
  },
  {
   "cell_type": "code",
   "execution_count": 42,
   "outputs": [
    {
     "name": "stdout",
     "output_type": "stream",
     "text": [
      "[[0 0 0 0 0]\n",
      " [0 0 0 0 0]\n",
      " [0 1 2 3 4]\n",
      " [5 6 7 8 9]]\n",
      "True False\n"
     ]
    }
   ],
   "source": [
    "a = np.arange(-10, 10).reshape(4, 5)\n",
    "# 将data中的所有负值都设置为0\n",
    "# a[a < 0] = 0  # 改变原始值\n",
    "res = np.where(a > 0, a, 0)  # where(条件, True, False)\n",
    "print(res)\n",
    "bools = a > 0\n",
    "print(a.any(), a.all())  # 是否有一个为True，是否全部为True"
   ],
   "metadata": {
    "collapsed": false,
    "pycharm": {
     "name": "#%%\n"
    }
   }
  },
  {
   "cell_type": "markdown",
   "source": [
    "## 数组转置和轴对换 a.T  transpose"
   ],
   "metadata": {
    "collapsed": false,
    "pycharm": {
     "name": "#%% md\n"
    }
   }
  },
  {
   "cell_type": "code",
   "execution_count": 17,
   "outputs": [
    {
     "name": "stdout",
     "output_type": "stream",
     "text": [
      "[[ 0  5 10]\n",
      " [ 1  6 11]\n",
      " [ 2  7 12]\n",
      " [ 3  8 13]\n",
      " [ 4  9 14]]\n"
     ]
    }
   ],
   "source": [
    "a = np.arange(15).reshape((3, 5))\n",
    "print(a.T)  # 数组转置\n",
    "# 高维数组转置见tensorflow笔记 维度变换transpose"
   ],
   "metadata": {
    "collapsed": false,
    "pycharm": {
     "name": "#%%\n"
    }
   }
  },
  {
   "cell_type": "markdown",
   "source": [
    "## 排序 交并差集\n",
    "np.intersect1d(a, b)交集  np.union1d(a, b)并集"
   ],
   "metadata": {
    "collapsed": false,
    "pycharm": {
     "name": "#%% md\n"
    }
   }
  },
  {
   "cell_type": "code",
   "execution_count": null,
   "outputs": [],
   "source": [
    "a = np.random.randint(-10, 10, 15, np.int32).reshape(3,5)\n",
    "b = np.random.randint(-10, 10, 15, np.int32).reshape(3,5)\n",
    "a.sort(1)  # 对行排序 axis=1\n",
    "print(a)\n",
    "print(np.unique(a))  # 返回唯一值并排序  =sorted(set(names))\n",
    "np.intersect1d(a, b)  # 交集\n",
    "np.union1d(a, b)  # 并集\n",
    "np.setdiff1d(a, b)  # 差集=a-交集 在a不在b中的元素"
   ],
   "metadata": {
    "collapsed": false,
    "pycharm": {
     "name": "#%%\n",
     "is_executing": true
    }
   }
  },
  {
   "cell_type": "markdown",
   "source": [
    "# 使用数组进行数据处理\n",
    "在一组值(网格型)上计算函数``sqrt(x^2+y^2)``"
   ],
   "metadata": {
    "collapsed": false,
    "pycharm": {
     "name": "#%% md\n"
    }
   }
  },
  {
   "cell_type": "code",
   "execution_count": null,
   "outputs": [],
   "source": [
    "points = np.arange(-5, 5, 0.01)\n",
    "xs, ys = np.meshgrid(points, points)\n",
    "z = np.sqrt(xs ** 2 + ys ** 2)\n",
    "import matplotlib.pyplot as plt\n",
    "plt.imshow(z, cmap=plt.cm.gray); plt.colorbar()\n",
    "plt.title(\"Image plot of $\\sqrt{x^2 + y^2}$ for a grid of values\")"
   ],
   "metadata": {
    "collapsed": false,
    "pycharm": {
     "name": "#%%\n",
     "is_executing": true
    }
   }
  },
  {
   "cell_type": "markdown",
   "source": [
    "## 生成等间隔数值点"
   ],
   "metadata": {
    "collapsed": false,
    "pycharm": {
     "name": "#%% md\n"
    }
   }
  },
  {
   "cell_type": "code",
   "execution_count": 43,
   "outputs": [
    {
     "name": "stdout",
     "output_type": "stream",
     "text": [
      "grid:\n",
      " [[1.  2. ]\n",
      " [1.  2.5]\n",
      " [1.  3. ]\n",
      " [1.  3.5]\n",
      " [2.  2. ]\n",
      " [2.  2.5]\n",
      " [2.  3. ]\n",
      " [2.  3.5]]\n"
     ]
    }
   ],
   "source": [
    "x, y = np.mgrid[1:3:1, 2:4:0.5]  # [起始值:结束值:步长，起始值:结束值:步长，... ]  左闭右开\n",
    "x, y = x.ravel(), y.ravel()  # 将x, y变成一维数组\n",
    "grid = np.c_[x, y]  # 合并配对为二维张量，生成二维坐标点 (感觉像zip)\n",
    "print('grid:\\n', grid)"
   ],
   "metadata": {
    "collapsed": false,
    "pycharm": {
     "name": "#%%\n"
    }
   }
  },
  {
   "cell_type": "markdown",
   "source": [
    "# 文件操作\n",
    "一般使用pandas或其它工具加载文本或表格数据"
   ],
   "metadata": {
    "collapsed": false,
    "pycharm": {
     "name": "#%% md\n"
    }
   }
  }
 ],
 "metadata": {
  "kernelspec": {
   "display_name": "Python 3",
   "language": "python",
   "name": "python3"
  },
  "language_info": {
   "codemirror_mode": {
    "name": "ipython",
    "version": 2
   },
   "file_extension": ".py",
   "mimetype": "text/x-python",
   "name": "python",
   "nbconvert_exporter": "python",
   "pygments_lexer": "ipython2",
   "version": "2.7.6"
  }
 },
 "nbformat": 4,
 "nbformat_minor": 0
}