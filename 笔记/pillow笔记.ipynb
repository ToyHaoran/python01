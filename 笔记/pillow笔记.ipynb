{
 "cells": [
  {
   "cell_type": "markdown",
   "metadata": {
    "collapsed": true,
    "pycharm": {
     "name": "#%% md\n"
    }
   },
   "source": [
    "Python Imaging Library (PIL)：是python下的图像处理模块,支持多种格式,并提供强大的图形与图像处理功能。\n",
    "Python的快速开发能力以及面向对象等等诸多特点使得它非常适合用来进行原型开发，以及对于简单的图像处理或者大批量的简单图像处理任务。\n",
    "Pillow 是友好的 PIL 复刻；"
   ]
  },
  {
   "cell_type": "code",
   "execution_count": null,
   "outputs": [],
   "source": [
    "import os\n",
    "from PIL import Image  # 调用库"
   ],
   "metadata": {
    "collapsed": false,
    "pycharm": {
     "name": "#%%\n"
    }
   }
  },
  {
   "cell_type": "code",
   "execution_count": null,
   "outputs": [],
   "source": [
    "# 读取 压缩 另存为\n",
    "path = \"D:/图片/A-Z/A.jpg\"\n",
    "files = os.listdir(\"D:/图片/A-Z\")  # 该文件下所有文件名称\n",
    "im = Image.open(path)  # 加载图片，\\也能用，但是与转义字符冲突；\n",
    "# print(im.format, im.size, im.mode)  # 图片属性 JPEG (1366, 768) RGB\n",
    "# im.show()  # 用默认程序显示图像\n",
    "f, e = os.path.splitext(path)  # ('D:/图片/A-Z/A', '.jpg')\n",
    "# im.thumbnail((128, 128))  # 压缩图片(像素)\n",
    "# im.save(f+\".png\")  # 另存为png图片\n",
    "# Image.new(\"RGB\", (2000, 768))  # 创建白板"
   ],
   "metadata": {
    "collapsed": false,
    "pycharm": {
     "name": "#%%\n"
    }
   }
  },
  {
   "cell_type": "code",
   "execution_count": null,
   "outputs": [],
   "source": [
    "# 剪切 处理 粘贴矩形 (滚动图像 合并图像)\n",
    "box = (500, 100, 800, 400)  # 坐标(左、上、右、下) 左上角是(0,0)\n",
    "region = im.crop(box)  # 从图像中复制矩形\n",
    "region = region.transpose(Image.ROTATE_180)  # 处理矩形，旋转180度\n",
    "region = region.rotate(45)  # 逆时针旋转45度\n",
    "region = region.resize((400, 400))\n",
    "# im.paste(region, box)  # 粘贴子矩形\n",
    "im.show()"
   ],
   "metadata": {
    "collapsed": false,
    "pycharm": {
     "name": "#%%\n"
    }
   }
  }
 ],
 "metadata": {
  "kernelspec": {
   "display_name": "Python 3",
   "language": "python",
   "name": "python3"
  },
  "language_info": {
   "codemirror_mode": {
    "name": "ipython",
    "version": 2
   },
   "file_extension": ".py",
   "mimetype": "text/x-python",
   "name": "python",
   "nbconvert_exporter": "python",
   "pygments_lexer": "ipython2",
   "version": "2.7.6"
  }
 },
 "nbformat": 4,
 "nbformat_minor": 0
}