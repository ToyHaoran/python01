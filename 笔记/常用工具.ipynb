{
 "cells": [
  {
   "cell_type": "markdown",
   "source": [
    "# 正则表达式详解\n",
    "[参考](https://www.runoob.com/python/python-reg-expressions.html)"
   ],
   "metadata": {
    "collapsed": false,
    "pycharm": {
     "name": "#%% md\n"
    }
   }
  },
  {
   "cell_type": "code",
   "execution_count": 20,
   "outputs": [],
   "source": [
    "import re"
   ],
   "metadata": {
    "collapsed": false,
    "pycharm": {
     "name": "#%%\n"
    }
   }
  },
  {
   "cell_type": "markdown",
   "source": [
    "## match 全匹配\n",
    "从字符串的[起始位置]匹配一个模式，失败返回none"
   ],
   "metadata": {
    "collapsed": false,
    "pycharm": {
     "name": "#%% md\n"
    }
   }
  },
  {
   "cell_type": "code",
   "execution_count": 26,
   "outputs": [
    {
     "name": "stdout",
     "output_type": "stream",
     "text": [
      "cat1.png\n",
      "cat\n",
      "1\n",
      "png\n"
     ]
    }
   ],
   "source": [
    "match_obj = re.match(r\"(\\w+)(\\d+)\\.(\\w+)\", 'cat1.png')\n",
    "for i in range(4):\n",
    "    print(match_obj.group(i))"
   ],
   "metadata": {
    "collapsed": false,
    "pycharm": {
     "name": "#%%\n"
    }
   }
  },
  {
   "cell_type": "markdown",
   "source": [
    "## search 查找\n",
    "扫描整个字符串并返回第一个成功的匹配"
   ],
   "metadata": {
    "collapsed": false,
    "pycharm": {
     "name": "#%% md\n"
    }
   }
  },
  {
   "cell_type": "code",
   "execution_count": 29,
   "outputs": [
    {
     "name": "stdout",
     "output_type": "stream",
     "text": [
      "1\n"
     ]
    }
   ],
   "source": [
    "res = re.search(r\"\\d+\", 'cat1.png')\n",
    "print(res.group(0))"
   ],
   "metadata": {
    "collapsed": false,
    "pycharm": {
     "name": "#%%\n"
    }
   }
  },
  {
   "cell_type": "markdown",
   "source": [
    "## sub 替换"
   ],
   "metadata": {
    "collapsed": false,
    "pycharm": {
     "name": "#%% md\n"
    }
   }
  },
  {
   "cell_type": "code",
   "execution_count": 31,
   "outputs": [
    {
     "name": "stdout",
     "output_type": "stream",
     "text": [
      "2004-959-559 哈哈\n"
     ]
    }
   ],
   "source": [
    "# 删除字符串中的 Python注释\n",
    "phone = \"2004-959-559 # 这是一个国外电话号码\"\n",
    "num = re.sub(r'#.*$', \"哈哈\", phone)\n",
    "print(num)"
   ],
   "metadata": {
    "collapsed": false,
    "pycharm": {
     "name": "#%%\n"
    }
   }
  },
  {
   "cell_type": "code",
   "execution_count": 32,
   "outputs": [
    {
     "name": "stdout",
     "output_type": "stream",
     "text": [
      "A46G8HFD1134\n"
     ]
    }
   ],
   "source": [
    "# 将匹配的数字乘以 2\n",
    "def double(matched):\n",
    "    value = int(matched.group('value'))\n",
    "    return str(value * 2)\n",
    "\n",
    "s = 'A23G4HFD567'\n",
    "print(re.sub('(?P<value>\\d+)', double, s))"
   ],
   "metadata": {
    "collapsed": false,
    "pycharm": {
     "name": "#%%\n"
    }
   }
  },
  {
   "cell_type": "markdown",
   "source": [
    "## compile\n",
    "编译正则表达式，生成一个正则表达式(Pattern)）对象，供 match() 和 search() 这两个函数使用"
   ],
   "metadata": {
    "collapsed": false,
    "pycharm": {
     "name": "#%% md\n"
    }
   }
  },
  {
   "cell_type": "code",
   "execution_count": 35,
   "outputs": [
    {
     "data": {
      "text/plain": "('12', (3, 5), 3, 5)"
     },
     "execution_count": 35,
     "metadata": {},
     "output_type": "execute_result"
    }
   ],
   "source": [
    "pattern = re.compile(r'\\d+')                    # 用于匹配至少一个数字\n",
    "m = pattern.match('one12twothree34four', 3) # 从'1'的位置开始匹配，正好匹配\n",
    "m.group(), m.span(), m.start(), m.end()"
   ],
   "metadata": {
    "collapsed": false,
    "pycharm": {
     "name": "#%%\n"
    }
   }
  },
  {
   "cell_type": "markdown",
   "source": [
    "## findall\n",
    "在字符串中找到正则表达式所匹配的所有子串，并返回一个列表，如果有多个匹配模式，则返回元组列表，如果没有找到匹配的，则返回空列表。\n",
    "注意： match 和 search 是匹配一次 findall 匹配所有。"
   ],
   "metadata": {
    "collapsed": false,
    "pycharm": {
     "name": "#%% md\n"
    }
   }
  },
  {
   "cell_type": "code",
   "execution_count": 36,
   "outputs": [
    {
     "data": {
      "text/plain": "(['123', '456'], ['88', '12'])"
     },
     "execution_count": 36,
     "metadata": {},
     "output_type": "execute_result"
    }
   ],
   "source": [
    "pattern = re.compile(r'\\d+')   # 查找数字\n",
    "result1 = pattern.findall('runoob 123 google 456')\n",
    "result2 = pattern.findall('run88oob123google456', 0, 10)\n",
    "result1, result2"
   ],
   "metadata": {
    "collapsed": false,
    "pycharm": {
     "name": "#%%\n"
    }
   }
  },
  {
   "cell_type": "markdown",
   "source": [
    "## finditer\n",
    "和 findall 类似，在字符串中找到正则表达式所匹配的所有子串，并把它们作为一个迭代器返回。"
   ],
   "metadata": {
    "collapsed": false,
    "pycharm": {
     "name": "#%% md\n"
    }
   }
  },
  {
   "cell_type": "code",
   "execution_count": 37,
   "outputs": [
    {
     "name": "stdout",
     "output_type": "stream",
     "text": [
      "12\n",
      "32\n",
      "43\n",
      "3\n"
     ]
    }
   ],
   "source": [
    "it = re.finditer(r\"\\d+\",\"12a32bc43jf3\")\n",
    "for match in it:\n",
    "    print (match.group() )"
   ],
   "metadata": {
    "collapsed": false,
    "pycharm": {
     "name": "#%%\n"
    }
   }
  },
  {
   "cell_type": "markdown",
   "source": [
    "## split\n",
    "split 方法按照能够匹配的子串将字符串分割后返回列表"
   ],
   "metadata": {
    "collapsed": false,
    "pycharm": {
     "name": "#%% md\n"
    }
   }
  },
  {
   "cell_type": "code",
   "execution_count": 43,
   "outputs": [
    {
     "data": {
      "text/plain": "['', 'runoob,1  runoob.']"
     },
     "execution_count": 43,
     "metadata": {},
     "output_type": "execute_result"
    }
   ],
   "source": [
    "re.split('\\W+',' runoob,1  runoob.', 1)"
   ],
   "metadata": {
    "collapsed": false,
    "pycharm": {
     "name": "#%%\n"
    }
   }
  },
  {
   "cell_type": "markdown",
   "source": [
    "# 将文件 xxx1.png 改为 xxx001.png\n",
    "glob.glob读取文件顺序为1 10 100 2这种，显然不正常"
   ],
   "metadata": {
    "collapsed": false
   }
  },
  {
   "cell_type": "code",
   "execution_count": 4,
   "outputs": [],
   "source": [
    "import os\n",
    "import re\n",
    "\n",
    "def change_name(path, max_length, num_start=True):\n",
    "    files = os.listdir(path)\n",
    "    for filename in files:\n",
    "        oldname = path + \"/\" + filename\n",
    "        # 匹配文件名\n",
    "        if num_start:  # 以数字开头\n",
    "            res = re.match(r\"(\\d+)(\\w+)\", filename)\n",
    "            prefix = \"\"\n",
    "            num = res.group(1)\n",
    "            suffix = res.group(2)  # 带.\n",
    "        else:  # 以字符串开头\n",
    "            res = re.match(r\"(\\D+)(\\d+)(\\D+)\", filename)\n",
    "            prefix = res.group(1)\n",
    "            num = res.group(2)\n",
    "            suffix = res.group(3)\n",
    "        # 修改数字1为001\n",
    "        num = \"0\"*(max_length-len(num)) + num\n",
    "        newname = path + \"/\" + prefix + num + suffix\n",
    "        # print(newname)\n",
    "        os.rename(oldname, newname)\n",
    "\n",
    "if __name__ == '__main__':\n",
    "    base_path = \"../data/Oxford-IIIT Pets Dataset/annotations/xmls\"\n",
    "    max_length = 3  # 序号的最大长度，如3表示999\n",
    "    change_name(base_path, max_length, num_start=False)"
   ],
   "metadata": {
    "collapsed": false,
    "pycharm": {
     "name": "#%%\n"
    }
   }
  },
  {
   "cell_type": "markdown",
   "source": [
    "# 图片任意位置切割\n",
    "可用transforms代替"
   ],
   "metadata": {
    "collapsed": false
   }
  },
  {
   "cell_type": "code",
   "execution_count": null,
   "outputs": [],
   "source": [
    "from PIL import Image\n",
    "import os\n",
    "import random\n",
    "\n",
    "def solve(src, dest):\n",
    "    \"\"\"\n",
    "    首先读取文件夹里的所有图片，然后对这些图片进行任意位置的切割，切割尺寸是128*128，最后把切割好的图片保存在另一个文件夹里。\n",
    "    :param src: 源文件夹\n",
    "    :param dest: 目标文件夹\n",
    "    :return: None\n",
    "    \"\"\"\n",
    "    # 读取文件列表\n",
    "    files = os.listdir(src)\n",
    "    for filename in files:\n",
    "        path = src + \"/\" + filename\n",
    "        if not os.path.isdir(path):\n",
    "            img = Image.open(path)\n",
    "            # 进行任意位置切割128*128的矩形\n",
    "            (width, high) = img.size\n",
    "            left = random.randrange(width - 128)\n",
    "            top = random.randrange(high - 128)\n",
    "            box = (left, top, left + 128, top + 128)\n",
    "            region = img.crop(box)\n",
    "            # 保存文件\n",
    "            region.save(dest + \"/\" + filename)\n",
    "\n",
    "\n",
    "if __name__ == '__main__':\n",
    "    src = \"D:/图片/A-Z\"\n",
    "    dest = \"D:/下载\"\n",
    "    solve(src, dest)"
   ],
   "metadata": {
    "collapsed": false,
    "pycharm": {
     "name": "#%%\n"
    }
   }
  },
  {
   "cell_type": "code",
   "execution_count": null,
   "outputs": [],
   "source": [],
   "metadata": {
    "collapsed": false,
    "pycharm": {
     "name": "#%%\n"
    }
   }
  }
 ],
 "metadata": {
  "kernelspec": {
   "display_name": "Python 3",
   "language": "python",
   "name": "python3"
  },
  "language_info": {
   "codemirror_mode": {
    "name": "ipython",
    "version": 2
   },
   "file_extension": ".py",
   "mimetype": "text/x-python",
   "name": "python",
   "nbconvert_exporter": "python",
   "pygments_lexer": "ipython2",
   "version": "2.7.6"
  }
 },
 "nbformat": 4,
 "nbformat_minor": 0
}