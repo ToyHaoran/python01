{
 "cells": [
  {
   "cell_type": "markdown",
   "source": [
    "# 图片任意位置切割"
   ],
   "metadata": {
    "collapsed": false,
    "pycharm": {
     "name": "#%% md\n"
    }
   }
  },
  {
   "cell_type": "code",
   "execution_count": null,
   "outputs": [],
   "source": [
    "from PIL import Image\n",
    "import os\n",
    "import random\n",
    "\n",
    "def solve(src, dest):\n",
    "    \"\"\"\n",
    "    首先读取文件夹里的所有图片，然后对这些图片进行任意位置的切割，切割尺寸是128*128，最后把切割好的图片保存在另一个文件夹里。\n",
    "    :param src: 源文件夹\n",
    "    :param dest: 目标文件夹\n",
    "    :return: None\n",
    "    \"\"\"\n",
    "    # 读取文件列表\n",
    "    files = os.listdir(src)\n",
    "    for filename in files:\n",
    "        path = src + \"/\" + filename\n",
    "        if not os.path.isdir(path):\n",
    "            img = Image.open(path)\n",
    "            # 进行任意位置切割128*128的矩形\n",
    "            (width, high) = img.size\n",
    "            left = random.randrange(width - 128)\n",
    "            top = random.randrange(high - 128)\n",
    "            box = (left, top, left + 128, top + 128)\n",
    "            region = img.crop(box)\n",
    "            # 保存文件\n",
    "            region.save(dest + \"/\" + filename)\n",
    "\n",
    "\n",
    "if __name__ == '__main__':\n",
    "    src = \"D:/图片/A-Z\"\n",
    "    dest = \"D:/下载\"\n",
    "    solve(src, dest)"
   ],
   "metadata": {
    "collapsed": false,
    "pycharm": {
     "name": "#%%\n"
    }
   }
  }
 ],
 "metadata": {
  "kernelspec": {
   "display_name": "Python 3",
   "language": "python",
   "name": "python3"
  },
  "language_info": {
   "codemirror_mode": {
    "name": "ipython",
    "version": 2
   },
   "file_extension": ".py",
   "mimetype": "text/x-python",
   "name": "python",
   "nbconvert_exporter": "python",
   "pygments_lexer": "ipython2",
   "version": "2.7.6"
  }
 },
 "nbformat": 4,
 "nbformat_minor": 0
}