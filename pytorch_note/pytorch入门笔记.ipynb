{
 "cells": [
  {
   "cell_type": "code",
   "execution_count": 4,
   "outputs": [],
   "source": [
    "import torch\n",
    "import pandas as pd\n",
    "import numpy as np\n",
    "import matplotlib.pyplot as plt\n",
    "%matplotlib inline\n",
    "from torch import nn"
   ],
   "metadata": {
    "collapsed": false,
    "pycharm": {
     "name": "#%%\n"
    }
   }
  },
  {
   "cell_type": "markdown",
   "source": [
    "# 简单线性回归\n",
    "受教育年限x与收入数据集y\n",
    "\"\" ,  \"Education\",       \"Income\"\n",
    "\"1\",  10,                26.6588387834389\n",
    "\"2\",  10.4013377926421,  27.3064353457772"
   ],
   "metadata": {
    "collapsed": false
   }
  },
  {
   "cell_type": "code",
   "execution_count": 73,
   "metadata": {},
   "outputs": [
    {
     "name": "stdout",
     "output_type": "stream",
     "text": [
      "4.986007213592529 -29.604738235473633\n"
     ]
    },
    {
     "data": {
      "text/plain": "[<matplotlib.lines.Line2D at 0x1f03636e748>]"
     },
     "execution_count": 73,
     "metadata": {},
     "output_type": "execute_result"
    },
    {
     "data": {
      "text/plain": "<Figure size 432x288 with 1 Axes>",
      "image/png": "[encoded data removed]"
     },
     "metadata": {
      "needs_background": "light"
     },
     "output_type": "display_data"
    }
   ],
   "source": [
    "# 数据预处理 values将Series转为numpy.ndarray\n",
    "data = pd.read_csv('dataset/Income1.csv')  # DataFrame\n",
    "X = torch.from_numpy(data.Education.values.reshape(-1, 1)).type(torch.float32)\n",
    "Y = torch.from_numpy(data.Income.values.reshape(-1, 1)).type(torch.float32)\n",
    "\n",
    "# 创建模型\n",
    "model = nn.Linear(1, 1)  # 输入1维，输出1维 y=w*x+b\n",
    "loss_fn = nn.MSELoss()  # 损失函数 均方误差\n",
    "optim = torch.optim.SGD(model.parameters(), lr=0.001)  # 优化算法 随机梯度下降\n",
    "\n",
    "# 开始训练\n",
    "for epoch in range(2000):\n",
    "    for x, y in zip(X, Y):\n",
    "        y_pred = model(x)\n",
    "        loss = loss_fn(y, y_pred)\n",
    "        optim.zero_grad()  # 梯度归零\n",
    "        loss.backward()  # 反向传播自动计算梯度\n",
    "        optim.step()  # update 参数w b\n",
    "\n",
    "print(model.weight.item(), model.bias.item())\n",
    "\n",
    "# 绘图可视化\n",
    "plt.xlabel('Education')\n",
    "plt.ylabel('Income')\n",
    "plt.scatter(data.Education, data.Income)\n",
    "plt.plot(X.numpy(), model(X).data.numpy(), c='r')"
   ]
  },
  {
   "cell_type": "markdown",
   "source": [
    "## 底层实现"
   ],
   "metadata": {
    "collapsed": false,
    "pycharm": {
     "name": "#%% md\n"
    }
   }
  },
  {
   "cell_type": "code",
   "execution_count": 72,
   "outputs": [
    {
     "name": "stdout",
     "output_type": "stream",
     "text": [
      "4.983036041259766 -29.539405822753906\n"
     ]
    },
    {
     "data": {
      "text/plain": "[<matplotlib.lines.Line2D at 0x1f0362aca08>]"
     },
     "execution_count": 72,
     "metadata": {},
     "output_type": "execute_result"
    },
    {
     "data": {
      "text/plain": "<Figure size 432x288 with 1 Axes>",
      "image/png": "[encoded data removed]"
     },
     "metadata": {
      "needs_background": "light"
     },
     "output_type": "display_data"
    }
   ],
   "source": [
    "w = torch.randn(1, requires_grad=True)\n",
    "b = torch.zeros(1, requires_grad=True)\n",
    "learning_rate = 0.001\n",
    "for epoch in range(2000):\n",
    "    for x, y in zip(X, Y):\n",
    "        y_pred = torch.matmul(x, w) + b\n",
    "        loss = (y-y_pred).pow(2).sum()\n",
    "        if not w.grad is None:\n",
    "            w.grad.data.zero_()\n",
    "        if not b.grad is None:\n",
    "            b.grad.data.zero_()\n",
    "        loss.backward()\n",
    "        with torch.no_grad():\n",
    "            w.data -= w.grad.data*learning_rate\n",
    "            b.data -= b.grad.data*learning_rate\n",
    "\n",
    "print(w.item(), b.item())\n",
    "plt.scatter(data.Education, data.Income)\n",
    "plt.plot(X.numpy(), (torch.matmul(X, w) + b).data.numpy(), c='r')"
   ],
   "metadata": {
    "collapsed": false,
    "pycharm": {
     "name": "#%%\n"
    }
   }
  },
  {
   "cell_type": "markdown",
   "source": [
    "# Pytorch语法\n",
    "## 随机生成张量\n",
    "同numpy"
   ],
   "metadata": {
    "collapsed": false,
    "pycharm": {
     "name": "#%% md\n"
    }
   }
  },
  {
   "cell_type": "code",
   "execution_count": 22,
   "outputs": [
    {
     "name": "stdout",
     "output_type": "stream",
     "text": [
      "[0,1)均匀分布的随机数\n",
      " tensor([[0.9485, 0.9842, 0.1609],\n",
      "        [0.9198, 0.6857, 0.2638]])\n",
      "2*3的标准正态分布随机数\n",
      " tensor([[-0.1790,  2.2180,  1.1524],\n",
      "        [ 1.0164,  0.3980, -0.2611]])\n",
      "全0数组\n",
      " tensor([[0., 0., 0.],\n",
      "        [0., 0., 0.]])\n",
      "全1数组\n",
      " tensor([[1., 1., 1.],\n",
      "        [1., 1., 1.]])\n"
     ]
    }
   ],
   "source": [
    "print(\"[0,1)均匀分布的随机数\\n\",torch.rand(2,3))\n",
    "print(\"2*3的标准正态分布随机数\\n\",torch.randn(2,3))\n",
    "print(\"全0数组\\n\", torch.zeros(2,3))\n",
    "print(\"全1数组\\n\", torch.ones(2,3))"
   ],
   "metadata": {
    "collapsed": false,
    "pycharm": {
     "name": "#%%\n"
    }
   }
  },
  {
   "cell_type": "markdown",
   "metadata": {
    "pycharm": {
     "name": "#%% md\n"
    }
   },
   "source": [
    "## 数据类型及转换\n",
    "torch.int16 32 64\n",
    "torch.float32 64"
   ]
  },
  {
   "cell_type": "code",
   "execution_count": 27,
   "outputs": [
    {
     "data": {
      "text/plain": "tensor([6, 2], dtype=torch.int32)"
     },
     "execution_count": 27,
     "metadata": {},
     "output_type": "execute_result"
    }
   ],
   "source": [
    "x = torch.tensor([6,2], dtype=torch.float32)\n",
    "x.type(torch.int32)  # 类型转换"
   ],
   "metadata": {
    "collapsed": false,
    "pycharm": {
     "name": "#%%\n"
    }
   }
  },
  {
   "cell_type": "code",
   "execution_count": 32,
   "outputs": [
    {
     "name": "stdout",
     "output_type": "stream",
     "text": [
      "tensor([[ 0.3955,  1.3541, -0.2947],\n",
      "        [ 0.4407,  0.0360, -0.8637]], dtype=torch.float64)\n"
     ]
    },
    {
     "data": {
      "text/plain": "array([[ 0.39547951,  1.35405147, -0.29468327],\n       [ 0.44065839,  0.03596732, -0.86366915]])"
     },
     "execution_count": 32,
     "metadata": {},
     "output_type": "execute_result"
    }
   ],
   "source": [
    "x = torch.from_numpy(np.random.randn(2,3))  # numpy转为tensor\n",
    "print(x)\n",
    "x.numpy()  # 转为numpy"
   ],
   "metadata": {
    "collapsed": false,
    "pycharm": {
     "name": "#%%\n"
    }
   }
  },
  {
   "cell_type": "markdown",
   "source": [
    "## 张量运算\n",
    "同numpy，直接 + - * /\n"
   ],
   "metadata": {
    "collapsed": false,
    "pycharm": {
     "name": "#%% md\n"
    }
   }
  },
  {
   "cell_type": "code",
   "execution_count": 42,
   "outputs": [
    {
     "data": {
      "text/plain": "tensor([[0.6261, 0.1251, 0.6799],\n        [0.4958, 1.8673, 1.7082]])"
     },
     "execution_count": 42,
     "metadata": {},
     "output_type": "execute_result"
    }
   ],
   "source": [
    "x1 = torch.rand(2,3)   # 均匀分布\n",
    "x2 = torch.rand(2,3)\n",
    "x1.add_(x2)  # 加_会直接改变x1"
   ],
   "metadata": {
    "collapsed": false,
    "pycharm": {
     "name": "#%%\n"
    }
   }
  },
  {
   "cell_type": "code",
   "execution_count": 44,
   "outputs": [
    {
     "data": {
      "text/plain": "tensor([[0.6261],\n        [0.1251],\n        [0.6799],\n        [0.4958],\n        [1.8673],\n        [1.7082]])"
     },
     "execution_count": 44,
     "metadata": {},
     "output_type": "execute_result"
    }
   ],
   "source": [
    "x1.view(-1,1)  # 等价于numpy中的reshape(-1,1) 展平 等价于(n,1)"
   ],
   "metadata": {
    "collapsed": false,
    "pycharm": {
     "name": "#%%\n"
    }
   }
  },
  {
   "cell_type": "code",
   "execution_count": 45,
   "outputs": [
    {
     "data": {
      "text/plain": "5.50242805480957"
     },
     "execution_count": 45,
     "metadata": {},
     "output_type": "execute_result"
    }
   ],
   "source": [
    "x1.sum().item()  # 统计方法sum同numpy; item()将tensor变为标量"
   ],
   "metadata": {
    "collapsed": false,
    "pycharm": {
     "name": "#%%\n"
    }
   }
  },
  {
   "cell_type": "markdown",
   "source": [
    "## 张量的自动微分\n",
    "类似tensorflow中的待优化张量Variable；\n",
    "\n",
    "将Torch.Tensor属性 .requires_grad 设置为True，pytorch将开始跟踪对此张量的所有操作。\n",
    "完成计算后，可以调用 .backward() 并自动计算所有梯度。该张量的梯度将累加到.grad属性中。"
   ],
   "metadata": {
    "collapsed": false,
    "pycharm": {
     "name": "#%% md\n"
    }
   }
  },
  {
   "cell_type": "code",
   "execution_count": 65,
   "outputs": [
    {
     "name": "stdout",
     "output_type": "stream",
     "text": [
      "tensor([[27., 27.],\n",
      "        [27., 27.]], grad_fn=<MulBackward0>) tensor(27., grad_fn=<MeanBackward0>)\n",
      "tensor([[4.5000, 4.5000],\n",
      "        [4.5000, 4.5000]])\n"
     ]
    }
   ],
   "source": [
    "x = torch.ones(2, 2, requires_grad=True)  # 等价于x.requires_grad_(True)\n",
    "y = (x + 2) ** 2 * 3  # y具有grad_fn属性，可计算梯度\n",
    "z = y.mean()\n",
    "print(y, z)\n",
    "z.backward()  # 自动微分运算, z是标量值\n",
    "print(x.grad)  # 打印梯度dz/dx"
   ],
   "metadata": {
    "collapsed": false,
    "pycharm": {
     "name": "#%%\n"
    }
   }
  },
  {
   "cell_type": "markdown",
   "source": [
    "当不需要跟踪计算时，可以通过将代码块包装在with torch.no_grad()上下文中；等价于x.detach()"
   ],
   "metadata": {
    "collapsed": false,
    "pycharm": {
     "name": "#%% md\n"
    }
   }
  },
  {
   "cell_type": "code",
   "execution_count": 63,
   "outputs": [
    {
     "name": "stdout",
     "output_type": "stream",
     "text": [
      "True\n",
      "False\n",
      "False\n"
     ]
    }
   ],
   "source": [
    "print((x ** 2).requires_grad)\n",
    "with torch.no_grad():\n",
    "    print((x ** 2).requires_grad)\n",
    "y = (x ** 2).detach()\n",
    "print(y.requires_grad)"
   ],
   "metadata": {
    "collapsed": false,
    "pycharm": {
     "name": "#%%\n"
    }
   }
  },
  {
   "cell_type": "markdown",
   "source": [
    "# 二分类 逻辑回归 HR数据集\n",
    "人力资源数据集：根据各个特征，预测该员工是否会在近期离职；\n",
    "                                                                                                        离职                       部门\n",
    "satisfaction_level,last_evaluation,number_project,average_montly_hours,time_spend_company,Work_accident,left,promotion_last_5years,part, salary\n",
    "   0.38,                 0.53,           2,              157,              3,                 0,         1,          0,            sales,low\n",
    "   0.8,                  0.86,           5,              262,              6,                 0,         1,          0,            sales,medium"
   ],
   "metadata": {
    "collapsed": false,
    "pycharm": {
     "name": "#%% md\n"
    }
   }
  },
  {
   "cell_type": "code",
   "execution_count": 2,
   "outputs": [],
   "source": [
    "import torch\n",
    "import pandas as pd\n",
    "import numpy as np\n",
    "import matplotlib.pyplot as plt\n",
    "from torch import nn\n",
    "import torch.nn.functional as F\n",
    "from torch.utils.data import Dataset, DataLoader, TensorDataset\n",
    "from sklearn.model_selection import train_test_split\n",
    "%matplotlib inline"
   ],
   "metadata": {
    "collapsed": false,
    "pycharm": {
     "name": "#%%\n"
    }
   }
  },
  {
   "cell_type": "markdown",
   "source": [
    "## 数据预处理 TensorDataset\n",
    "是Dataset的子类，已经覆写了__len__(返回数据集大小)和__getitem__(使实例化后的对象支持下标操作)，只要传入张量即可，它通过第一个维度进行索引。"
   ],
   "metadata": {
    "collapsed": false,
    "pycharm": {
     "name": "#%% md\n"
    }
   }
  },
  {
   "cell_type": "code",
   "execution_count": 11,
   "outputs": [],
   "source": [
    "data = pd.read_csv('dataset/HR.csv')\n",
    "# get_dummies将数据中的英文转为独热编码(如salary变为low medium high 3列)\n",
    "data = data.join(pd.get_dummies(data.part)).join(pd.get_dummies(data.salary))\n",
    "data.drop(columns=['part', 'salary'], inplace=True)\n",
    "X = torch.from_numpy(data[[c for c in data.columns if c != 'left']].values).type(torch.float32)  # Size([14999, 20])\n",
    "Y = torch.from_numpy(data.left.values.reshape(-1, 1)).type(torch.float32)  # Size([14999, 1])\n",
    "\n",
    "batch = 512\n",
    "train_x, test_x, train_y, test_y = train_test_split(X, Y)  # 划分训练集和测试集 默认4:1\n",
    "train_ds, test_ds = TensorDataset(train_x, train_y), TensorDataset(test_x, test_y)\n",
    "train_dl, test_dl = DataLoader(train_ds, batch_size=batch, shuffle=True), DataLoader(test_ds, batch_size=batch)"
   ],
   "metadata": {
    "collapsed": false,
    "pycharm": {
     "name": "#%%\n"
    }
   }
  },
  {
   "cell_type": "markdown",
   "source": [
    "## 创建模型 Class"
   ],
   "metadata": {
    "collapsed": false,
    "pycharm": {
     "name": "#%% md\n"
    }
   }
  },
  {
   "cell_type": "code",
   "execution_count": 12,
   "outputs": [],
   "source": [
    "class Logistic(nn.Module):\n",
    "    def __init__(self):\n",
    "        \"\"\"初始化所有层\"\"\"\n",
    "        super().__init__()\n",
    "        # 当前层 输入x和输出y的特征维度(20,60)\n",
    "        self.lin_1 = nn.Linear(20, 64)\n",
    "        self.lin_2 = nn.Linear(64, 64)\n",
    "        self.lin_3 = nn.Linear(64, 1)\n",
    "        self.relu = nn.ReLU()  # 可用F.relu()代替\n",
    "        self.sigmoid = nn.Sigmoid()\n",
    "\n",
    "    def forward(self, input):\n",
    "        \"\"\"定义模型的前向传播过程\"\"\"\n",
    "        x = self.relu(self.lin_1(input))\n",
    "        x = self.relu(self.lin_2(x))\n",
    "        x = self.sigmoid(self.lin_3(x))\n",
    "        return x\n",
    "model = Logistic()"
   ],
   "metadata": {
    "collapsed": false,
    "pycharm": {
     "name": "#%%\n"
    }
   }
  },
  {
   "cell_type": "markdown",
   "source": [
    "## 损失函数和优化器"
   ],
   "metadata": {
    "collapsed": false,
    "pycharm": {
     "name": "#%% md\n"
    }
   }
  },
  {
   "cell_type": "code",
   "execution_count": 13,
   "outputs": [],
   "source": [
    "loss_fn = torch.nn.BCELoss()  # 交叉熵损失函数\n",
    "optim = torch.optim.Adam(model.parameters(), lr=0.001)  # 优化器 自动完成参数的初始化操作"
   ],
   "metadata": {
    "collapsed": false,
    "pycharm": {
     "name": "#%%\n"
    }
   }
  },
  {
   "cell_type": "markdown",
   "source": [
    "## 开始训练"
   ],
   "metadata": {
    "collapsed": false,
    "pycharm": {
     "name": "#%% md\n"
    }
   }
  },
  {
   "cell_type": "code",
   "execution_count": 14,
   "outputs": [
    {
     "name": "stdout",
     "output_type": "stream",
     "text": [
      "epoch: 9 loss: 0.521 accuracy 0.761 test_loss 0.521 test_accurary 0.763\n",
      "epoch: 19 loss: 0.45 accuracy 0.75 test_loss 0.451 test_accurary 0.752\n",
      "epoch: 29 loss: 0.403 accuracy 0.813 test_loss 0.405 test_accurary 0.812\n",
      "epoch: 39 loss: 0.345 accuracy 0.84 test_loss 0.347 test_accurary 0.841\n",
      "epoch: 49 loss: 0.307 accuracy 0.863 test_loss 0.31 test_accurary 0.861\n",
      "epoch: 59 loss: 0.285 accuracy 0.889 test_loss 0.29 test_accurary 0.886\n",
      "epoch: 69 loss: 0.27 accuracy 0.887 test_loss 0.279 test_accurary 0.881\n",
      "epoch: 79 loss: 0.262 accuracy 0.898 test_loss 0.27 test_accurary 0.896\n",
      "epoch: 89 loss: 0.254 accuracy 0.899 test_loss 0.268 test_accurary 0.893\n",
      "epoch: 99 loss: 0.241 accuracy 0.911 test_loss 0.255 test_accurary 0.909\n"
     ]
    }
   ],
   "source": [
    "def accuracy(y_pred, y_true):\n",
    "    \"\"\"计算正确率\"\"\"\n",
    "    preds = (y_pred > 0.5).type(torch.IntTensor)\n",
    "    acc = (preds == y_true).float().mean()\n",
    "    return acc\n",
    "\n",
    "for epoch in range(100):\n",
    "    for batch, (x, y) in enumerate(train_dl):\n",
    "        y_pred = model(x)\n",
    "        loss = loss_fn(y_pred, y)\n",
    "        optim.zero_grad()\n",
    "        loss.backward()\n",
    "        optim.step()\n",
    "\n",
    "    with torch.no_grad():\n",
    "        epoch_train_accuracy = accuracy(model(train_x), train_y).item()\n",
    "        epoch_train_loss = loss_fn(model(train_x), train_y).data.item()\n",
    "        epoch_test_accuracy = accuracy(model(test_x), test_y).item()\n",
    "        epoch_test_loss = loss_fn(model(test_x), test_y).data.item()\n",
    "        print('epoch:', epoch,\n",
    "              'loss:', round(epoch_train_loss, 3), \"accuracy\", round(epoch_train_accuracy, 3),\n",
    "              \"test_loss\", round(epoch_test_loss, 3), \"test_accurary\", round(epoch_test_accuracy, 3))"
   ],
   "metadata": {
    "collapsed": false,
    "pycharm": {
     "name": "#%%\n"
    }
   }
  },
  {
   "cell_type": "markdown",
   "source": [
    "# 多分类问题 鸢尾花数据集\n",
    "数据集介绍：共有数据150组，每组包括花尊长、花尊宽、花瓣长、花瓣宽4个输入特征。以及这组特征对应的鸢尾花类别。\n",
    "类别包括(狗尾草鸢尾)(杂色鸢尾)(弗吉尼亚鸢尾)三类，分别用数字0，1，2表示。\n",
    "\"\",\"Sepal.Length\",\"Sepal.Width\",\"Petal.Length\",\"Petal.Width\",\"Species\"\n",
    "\"1\",    5.1,           3.5,          1.4,         0.2,         \"setosa\"\n",
    "\"2\",    4.9,           3,            1.4,         0.2,         \"setosa\""
   ],
   "metadata": {
    "collapsed": false,
    "pycharm": {
     "name": "#%% md\n"
    }
   }
  },
  {
   "cell_type": "code",
   "execution_count": 1,
   "outputs": [],
   "source": [
    "import torch\n",
    "import pandas as pd\n",
    "import numpy as np\n",
    "import matplotlib.pyplot as plt\n",
    "from torch import nn\n",
    "import torch.nn.functional as F\n",
    "from torch.utils.data import Dataset, DataLoader, TensorDataset\n",
    "from sklearn.model_selection import train_test_split\n",
    "%matplotlib inline"
   ],
   "metadata": {
    "collapsed": false,
    "pycharm": {
     "name": "#%%\n"
    }
   }
  },
  {
   "cell_type": "markdown",
   "source": [
    "## 数据预处理"
   ],
   "metadata": {
    "collapsed": false,
    "pycharm": {
     "name": "#%% md\n"
    }
   }
  },
  {
   "cell_type": "code",
   "execution_count": 41,
   "outputs": [],
   "source": [
    "data = pd.read_csv(\"dataset/iris.csv\")\n",
    "data['Species'] = pd.factorize(data.Species)[0]  # 将字符串之转为数值类型0 1 2···\n",
    "X = torch.from_numpy(data.iloc[:, 1: -1].values).type(torch.float32) # (150,4)\n",
    "Y = torch.from_numpy(data.Species.values).type(torch.int64)  # (150,)  注意输出类型\n",
    "\n",
    "batch = 8\n",
    "train_x, test_x, train_y, test_y = train_test_split(X, Y)  # 划分训练集和测试集 默认4:1\n",
    "train_ds, test_ds = TensorDataset(train_x, train_y), TensorDataset(test_x, test_y)\n",
    "train_dl, test_dl = DataLoader(train_ds, batch_size=batch, shuffle=True), DataLoader(test_ds, batch_size=batch)"
   ],
   "metadata": {
    "collapsed": false,
    "pycharm": {
     "name": "#%%\n"
    }
   }
  },
  {
   "cell_type": "markdown",
   "source": [
    "## 创建模型"
   ],
   "metadata": {
    "collapsed": false,
    "pycharm": {
     "name": "#%% md\n"
    }
   }
  },
  {
   "cell_type": "code",
   "execution_count": 42,
   "outputs": [],
   "source": [
    "class Model(nn.Module):\n",
    "    def __init__(self):\n",
    "        super().__init__()\n",
    "        self.liner_1 = nn.Linear(4, 32)\n",
    "        self.liner_2 = nn.Linear(32, 32)\n",
    "        self.liner_3 = nn.Linear(32, 3)\n",
    "    def forward(self, input):\n",
    "        x = F.relu(self.liner_1(input))\n",
    "        x = F.relu(self.liner_2(x))\n",
    "        x = self.liner_3(x)  # 因为nn.CrossEntropyLoss()参数是未激活输出，所以这里没激活\n",
    "        return x\n",
    "model = Model()"
   ],
   "metadata": {
    "collapsed": false,
    "pycharm": {
     "name": "#%%\n"
    }
   }
  },
  {
   "cell_type": "markdown",
   "source": [
    "## 损失函数和优化器"
   ],
   "metadata": {
    "collapsed": false,
    "pycharm": {
     "name": "#%% md\n"
    }
   }
  },
  {
   "cell_type": "code",
   "execution_count": 43,
   "outputs": [],
   "source": [
    "loss_fn = nn.CrossEntropyLoss()\n",
    "optim = torch.optim.Adam(model.parameters(), lr=0.0001)"
   ],
   "metadata": {
    "collapsed": false,
    "pycharm": {
     "name": "#%%\n"
    }
   }
  },
  {
   "cell_type": "markdown",
   "source": [
    "## 开始训练"
   ],
   "metadata": {
    "collapsed": false,
    "pycharm": {
     "name": "#%% md\n"
    }
   }
  },
  {
   "cell_type": "code",
   "execution_count": 44,
   "outputs": [
    {
     "name": "stdout",
     "output_type": "stream",
     "text": [
      "epoch: 0 loss: 1.241 accuracy 0.018 test_loss 1.155 test_accurary 0.0\n",
      "epoch: 1 loss: 1.219 accuracy 0.027 test_loss 1.14 test_accurary 0.053\n",
      "epoch: 2 loss: 1.199 accuracy 0.08 test_loss 1.123 test_accurary 0.158\n",
      "epoch: 3 loss: 1.18 accuracy 0.161 test_loss 1.108 test_accurary 0.289\n",
      "epoch: 4 loss: 1.162 accuracy 0.188 test_loss 1.097 test_accurary 0.316\n",
      "epoch: 5 loss: 1.147 accuracy 0.232 test_loss 1.086 test_accurary 0.316\n",
      "epoch: 6 loss: 1.132 accuracy 0.241 test_loss 1.077 test_accurary 0.368\n",
      "epoch: 7 loss: 1.118 accuracy 0.241 test_loss 1.068 test_accurary 0.447\n",
      "epoch: 8 loss: 1.105 accuracy 0.268 test_loss 1.058 test_accurary 0.474\n",
      "epoch: 9 loss: 1.093 accuracy 0.286 test_loss 1.05 test_accurary 0.474\n",
      "epoch: 10 loss: 1.082 accuracy 0.286 test_loss 1.044 test_accurary 0.474\n",
      "epoch: 11 loss: 1.073 accuracy 0.286 test_loss 1.036 test_accurary 0.474\n",
      "epoch: 12 loss: 1.063 accuracy 0.286 test_loss 1.031 test_accurary 0.474\n",
      "epoch: 13 loss: 1.054 accuracy 0.33 test_loss 1.024 test_accurary 0.5\n",
      "epoch: 14 loss: 1.045 accuracy 0.411 test_loss 1.019 test_accurary 0.632\n",
      "epoch: 15 loss: 1.037 accuracy 0.536 test_loss 1.015 test_accurary 0.684\n",
      "epoch: 16 loss: 1.029 accuracy 0.58 test_loss 1.009 test_accurary 0.737\n",
      "epoch: 17 loss: 1.021 accuracy 0.598 test_loss 1.004 test_accurary 0.737\n",
      "epoch: 18 loss: 1.013 accuracy 0.598 test_loss 0.999 test_accurary 0.763\n",
      "epoch: 19 loss: 1.006 accuracy 0.598 test_loss 0.992 test_accurary 0.763\n",
      "epoch: 20 loss: 0.998 accuracy 0.634 test_loss 0.988 test_accurary 0.684\n",
      "epoch: 21 loss: 0.99 accuracy 0.723 test_loss 0.983 test_accurary 0.658\n",
      "epoch: 22 loss: 0.982 accuracy 0.723 test_loss 0.976 test_accurary 0.684\n",
      "epoch: 23 loss: 0.975 accuracy 0.741 test_loss 0.97 test_accurary 0.684\n",
      "epoch: 24 loss: 0.967 accuracy 0.723 test_loss 0.963 test_accurary 0.632\n",
      "epoch: 25 loss: 0.959 accuracy 0.696 test_loss 0.958 test_accurary 0.605\n",
      "epoch: 26 loss: 0.951 accuracy 0.705 test_loss 0.951 test_accurary 0.605\n",
      "epoch: 27 loss: 0.942 accuracy 0.723 test_loss 0.945 test_accurary 0.526\n",
      "epoch: 28 loss: 0.934 accuracy 0.723 test_loss 0.938 test_accurary 0.526\n",
      "epoch: 29 loss: 0.925 accuracy 0.723 test_loss 0.93 test_accurary 0.526\n",
      "epoch: 30 loss: 0.916 accuracy 0.723 test_loss 0.921 test_accurary 0.526\n",
      "epoch: 31 loss: 0.906 accuracy 0.714 test_loss 0.914 test_accurary 0.526\n",
      "epoch: 32 loss: 0.896 accuracy 0.714 test_loss 0.905 test_accurary 0.526\n",
      "epoch: 33 loss: 0.887 accuracy 0.714 test_loss 0.897 test_accurary 0.526\n",
      "epoch: 34 loss: 0.878 accuracy 0.732 test_loss 0.886 test_accurary 0.526\n",
      "epoch: 35 loss: 0.868 accuracy 0.714 test_loss 0.879 test_accurary 0.526\n",
      "epoch: 36 loss: 0.858 accuracy 0.714 test_loss 0.87 test_accurary 0.526\n",
      "epoch: 37 loss: 0.849 accuracy 0.714 test_loss 0.861 test_accurary 0.526\n",
      "epoch: 38 loss: 0.839 accuracy 0.714 test_loss 0.852 test_accurary 0.526\n",
      "epoch: 39 loss: 0.829 accuracy 0.714 test_loss 0.843 test_accurary 0.526\n",
      "epoch: 40 loss: 0.818 accuracy 0.714 test_loss 0.834 test_accurary 0.526\n",
      "epoch: 41 loss: 0.808 accuracy 0.741 test_loss 0.82 test_accurary 0.526\n",
      "epoch: 42 loss: 0.798 accuracy 0.741 test_loss 0.813 test_accurary 0.526\n",
      "epoch: 43 loss: 0.788 accuracy 0.741 test_loss 0.801 test_accurary 0.553\n",
      "epoch: 44 loss: 0.778 accuracy 0.741 test_loss 0.792 test_accurary 0.579\n",
      "epoch: 45 loss: 0.768 accuracy 0.741 test_loss 0.784 test_accurary 0.526\n",
      "epoch: 46 loss: 0.758 accuracy 0.741 test_loss 0.774 test_accurary 0.579\n",
      "epoch: 47 loss: 0.748 accuracy 0.741 test_loss 0.763 test_accurary 0.658\n",
      "epoch: 48 loss: 0.739 accuracy 0.768 test_loss 0.752 test_accurary 0.684\n",
      "epoch: 49 loss: 0.729 accuracy 0.777 test_loss 0.744 test_accurary 0.658\n",
      "epoch: 50 loss: 0.72 accuracy 0.777 test_loss 0.735 test_accurary 0.684\n",
      "epoch: 51 loss: 0.71 accuracy 0.777 test_loss 0.725 test_accurary 0.684\n",
      "epoch: 52 loss: 0.701 accuracy 0.795 test_loss 0.716 test_accurary 0.684\n",
      "epoch: 53 loss: 0.691 accuracy 0.804 test_loss 0.707 test_accurary 0.684\n",
      "epoch: 54 loss: 0.682 accuracy 0.804 test_loss 0.699 test_accurary 0.711\n",
      "epoch: 55 loss: 0.672 accuracy 0.848 test_loss 0.688 test_accurary 0.763\n",
      "epoch: 56 loss: 0.66 accuracy 0.821 test_loss 0.679 test_accurary 0.737\n",
      "epoch: 57 loss: 0.649 accuracy 0.839 test_loss 0.668 test_accurary 0.737\n",
      "epoch: 58 loss: 0.638 accuracy 0.857 test_loss 0.658 test_accurary 0.763\n",
      "epoch: 59 loss: 0.628 accuracy 0.839 test_loss 0.651 test_accurary 0.737\n",
      "epoch: 60 loss: 0.619 accuracy 0.812 test_loss 0.644 test_accurary 0.737\n",
      "epoch: 61 loss: 0.61 accuracy 0.866 test_loss 0.633 test_accurary 0.763\n",
      "epoch: 62 loss: 0.602 accuracy 0.884 test_loss 0.625 test_accurary 0.816\n",
      "epoch: 63 loss: 0.593 accuracy 0.884 test_loss 0.618 test_accurary 0.816\n",
      "epoch: 64 loss: 0.585 accuracy 0.92 test_loss 0.607 test_accurary 0.921\n",
      "epoch: 65 loss: 0.578 accuracy 0.929 test_loss 0.602 test_accurary 0.921\n",
      "epoch: 66 loss: 0.571 accuracy 0.929 test_loss 0.597 test_accurary 0.921\n",
      "epoch: 67 loss: 0.564 accuracy 0.893 test_loss 0.592 test_accurary 0.816\n",
      "epoch: 68 loss: 0.557 accuracy 0.938 test_loss 0.584 test_accurary 0.974\n",
      "epoch: 69 loss: 0.55 accuracy 0.929 test_loss 0.577 test_accurary 0.974\n",
      "epoch: 70 loss: 0.544 accuracy 0.946 test_loss 0.573 test_accurary 0.974\n",
      "epoch: 71 loss: 0.538 accuracy 0.938 test_loss 0.565 test_accurary 0.974\n",
      "epoch: 72 loss: 0.531 accuracy 0.938 test_loss 0.559 test_accurary 0.974\n",
      "epoch: 73 loss: 0.525 accuracy 0.938 test_loss 0.553 test_accurary 0.974\n",
      "epoch: 74 loss: 0.518 accuracy 0.938 test_loss 0.549 test_accurary 0.947\n",
      "epoch: 75 loss: 0.512 accuracy 0.955 test_loss 0.543 test_accurary 0.974\n",
      "epoch: 76 loss: 0.507 accuracy 0.938 test_loss 0.54 test_accurary 0.947\n",
      "epoch: 77 loss: 0.501 accuracy 0.964 test_loss 0.533 test_accurary 1.0\n",
      "epoch: 78 loss: 0.496 accuracy 0.964 test_loss 0.529 test_accurary 1.0\n",
      "epoch: 79 loss: 0.491 accuracy 0.955 test_loss 0.525 test_accurary 1.0\n",
      "epoch: 80 loss: 0.487 accuracy 0.982 test_loss 0.518 test_accurary 1.0\n",
      "epoch: 81 loss: 0.482 accuracy 0.982 test_loss 0.514 test_accurary 1.0\n",
      "epoch: 82 loss: 0.478 accuracy 0.973 test_loss 0.511 test_accurary 1.0\n",
      "epoch: 83 loss: 0.474 accuracy 0.982 test_loss 0.506 test_accurary 1.0\n",
      "epoch: 84 loss: 0.47 accuracy 0.982 test_loss 0.503 test_accurary 1.0\n",
      "epoch: 85 loss: 0.466 accuracy 0.964 test_loss 0.502 test_accurary 1.0\n",
      "epoch: 86 loss: 0.463 accuracy 0.982 test_loss 0.496 test_accurary 1.0\n",
      "epoch: 87 loss: 0.459 accuracy 0.973 test_loss 0.49 test_accurary 1.0\n",
      "epoch: 88 loss: 0.455 accuracy 0.982 test_loss 0.489 test_accurary 1.0\n",
      "epoch: 89 loss: 0.452 accuracy 0.973 test_loss 0.489 test_accurary 1.0\n",
      "epoch: 90 loss: 0.449 accuracy 0.982 test_loss 0.482 test_accurary 1.0\n",
      "epoch: 91 loss: 0.445 accuracy 0.973 test_loss 0.482 test_accurary 1.0\n",
      "epoch: 92 loss: 0.442 accuracy 0.973 test_loss 0.479 test_accurary 1.0\n",
      "epoch: 93 loss: 0.439 accuracy 0.982 test_loss 0.475 test_accurary 1.0\n",
      "epoch: 94 loss: 0.436 accuracy 0.982 test_loss 0.471 test_accurary 1.0\n",
      "epoch: 95 loss: 0.433 accuracy 0.982 test_loss 0.469 test_accurary 1.0\n",
      "epoch: 96 loss: 0.43 accuracy 0.973 test_loss 0.463 test_accurary 1.0\n",
      "epoch: 97 loss: 0.426 accuracy 0.982 test_loss 0.462 test_accurary 1.0\n",
      "epoch: 98 loss: 0.423 accuracy 0.973 test_loss 0.456 test_accurary 1.0\n",
      "epoch: 99 loss: 0.42 accuracy 0.982 test_loss 0.455 test_accurary 1.0\n"
     ]
    }
   ],
   "source": [
    "def accuracy(y_pred, y_true):\n",
    "    y_pred = torch.argmax(y_pred, dim=1)  # 按(概率)最大值所在位置，转换为实际的预测结果(0 1 2)\n",
    "    acc = (y_pred == y_true).float().mean()\n",
    "    return acc\n",
    "\n",
    "train_loss, train_acc, test_loss, test_acc = [], [], [], []\n",
    "epochs = 100\n",
    "for epoch in range(epochs):\n",
    "    for batch, (x, y) in enumerate(train_dl):\n",
    "        y_pred = model(x)\n",
    "        loss = loss_fn(y_pred, y)\n",
    "        optim.zero_grad()\n",
    "        loss.backward()\n",
    "        optim.step()\n",
    "\n",
    "    with torch.no_grad():\n",
    "        epoch_train_accuracy = accuracy(model(train_x), train_y).item()\n",
    "        epoch_train_loss = loss_fn(model(train_x), train_y).data.item()\n",
    "        epoch_test_accuracy = accuracy(model(test_x), test_y).item()\n",
    "        epoch_test_loss = loss_fn(model(test_x), test_y).data.item()\n",
    "        print('epoch:', epoch,\n",
    "              'loss:', round(epoch_train_loss, 3), \"accuracy\", round(epoch_train_accuracy, 3),\n",
    "              \"test_loss\", round(epoch_test_loss, 3), \"test_accurary\", round(epoch_test_accuracy, 3))\n",
    "        train_loss.append(epoch_train_loss)\n",
    "        train_acc.append(epoch_train_accuracy)\n",
    "        test_loss.append(epoch_test_loss)\n",
    "        test_acc.append(epoch_test_accuracy)"
   ],
   "metadata": {
    "collapsed": false,
    "pycharm": {
     "name": "#%%\n"
    }
   }
  },
  {
   "cell_type": "markdown",
   "source": [
    "## 模板 可视化函数"
   ],
   "metadata": {
    "collapsed": false,
    "pycharm": {
     "name": "#%% md\n"
    }
   }
  },
  {
   "cell_type": "code",
   "execution_count": 66,
   "outputs": [],
   "source": [
    "def show_acc(train_loss, test_loss, train_acc, test_acc):\n",
    "    fig = plt.figure(figsize=(14, 4))\n",
    "    ax1 = fig.add_subplot(1, 2, 1)\n",
    "    plt.plot(range(1, epochs+1), train_loss, label='train_loss')\n",
    "    plt.plot(range(1, epochs+1), test_loss, label='test_loss')\n",
    "    plt.legend()\n",
    "\n",
    "    ax2 = fig.add_subplot(1, 2, 2)\n",
    "    plt.plot(range(1, epochs+1), train_acc, label='train_acc')\n",
    "    plt.plot(range(1, epochs+1), test_acc, label='test_acc')\n",
    "    plt.legend()"
   ],
   "metadata": {
    "collapsed": false,
    "pycharm": {
     "name": "#%%\n"
    }
   }
  },
  {
   "cell_type": "code",
   "execution_count": 46,
   "outputs": [
    {
     "data": {
      "text/plain": "<Figure size 1008x288 with 2 Axes>",
      "image/png": "[encoded data removed]"
     },
     "metadata": {
      "needs_background": "light"
     },
     "output_type": "display_data"
    }
   ],
   "source": [
    "show_acc(train_loss, test_loss, train_acc, test_acc)"
   ],
   "metadata": {
    "collapsed": false,
    "pycharm": {
     "name": "#%%\n"
    }
   }
  },
  {
   "cell_type": "markdown",
   "source": [
    "## 模板 fit函数"
   ],
   "metadata": {
    "collapsed": false,
    "pycharm": {
     "name": "#%% md\n"
    }
   }
  },
  {
   "cell_type": "code",
   "execution_count": 67,
   "outputs": [],
   "source": [
    "def fit(epoch, model, trainloader, testloader):\n",
    "    \"\"\"输入模型、输入数据(train_dl, test_dl)， 对数据输入在模型上训练，并且返回loss和acc变化\"\"\"\n",
    "    correct = 0\n",
    "    total = 0\n",
    "    running_loss = 0\n",
    "    for x, y in trainloader:\n",
    "        y_pred = model(x)\n",
    "        loss = loss_fn(y_pred, y)\n",
    "        optim.zero_grad()\n",
    "        loss.backward()\n",
    "        optim.step()\n",
    "\n",
    "        with torch.no_grad():\n",
    "            y_pred = torch.argmax(y_pred, dim=1)\n",
    "            correct += (y_pred == y).sum().item()\n",
    "            total += y.size(0)\n",
    "            running_loss += loss.item()\n",
    "\n",
    "    epoch_loss = running_loss / len(trainloader.dataset)  # 平均loss\n",
    "    epoch_acc = correct / total\n",
    "\n",
    "\n",
    "    test_correct = 0\n",
    "    test_total = 0\n",
    "    test_running_loss = 0\n",
    "    with torch.no_grad():\n",
    "        for x, y in testloader:\n",
    "            y_pred = model(x)\n",
    "            loss = loss_fn(y_pred, y)\n",
    "            y_pred = torch.argmax(y_pred, dim=1)\n",
    "            test_correct += (y_pred == y).sum().item()\n",
    "            test_total += y.size(0)\n",
    "            test_running_loss += loss.item()\n",
    "\n",
    "    epoch_test_loss = test_running_loss / len(testloader.dataset)\n",
    "    epoch_test_acc = test_correct / test_total\n",
    "\n",
    "    print('epoch: ', epoch,\n",
    "          'loss： ', round(epoch_loss, 3),\n",
    "          'accuracy:', round(epoch_acc, 3),\n",
    "          'test_loss： ', round(epoch_test_loss, 3),\n",
    "          'test_accuracy:', round(epoch_test_acc, 3)\n",
    "             )\n",
    "\n",
    "    return epoch_loss, epoch_acc, epoch_test_loss, epoch_test_acc"
   ],
   "metadata": {
    "collapsed": false,
    "pycharm": {
     "name": "#%%\n"
    }
   }
  },
  {
   "cell_type": "markdown",
   "source": [
    "## 将模板应用到手写数字识别"
   ],
   "metadata": {
    "collapsed": false,
    "pycharm": {
     "name": "#%% md\n"
    }
   }
  },
  {
   "cell_type": "code",
   "execution_count": 69,
   "outputs": [
    {
     "name": "stdout",
     "output_type": "stream",
     "text": [
      "epoch:  0 loss：  0.005 accuracy: 0.903 test_loss：  0.001 test_accuracy: 0.953\n",
      "epoch:  1 loss：  0.002 accuracy: 0.959 test_loss：  0.0 test_accuracy: 0.963\n",
      "epoch:  2 loss：  0.001 accuracy: 0.971 test_loss：  0.0 test_accuracy: 0.971\n",
      "epoch:  3 loss：  0.001 accuracy: 0.978 test_loss：  0.0 test_accuracy: 0.974\n",
      "epoch:  4 loss：  0.001 accuracy: 0.982 test_loss：  0.0 test_accuracy: 0.976\n",
      "epoch:  5 loss：  0.001 accuracy: 0.986 test_loss：  0.0 test_accuracy: 0.976\n",
      "epoch:  6 loss：  0.001 accuracy: 0.988 test_loss：  0.0 test_accuracy: 0.976\n",
      "epoch:  7 loss：  0.0 accuracy: 0.99 test_loss：  0.0 test_accuracy: 0.977\n"
     ]
    },
    {
     "data": {
      "text/plain": "<Figure size 1008x288 with 2 Axes>",
      "image/png": "[encoded data removed]"
     },
     "metadata": {
      "needs_background": "light"
     },
     "output_type": "display_data"
    }
   ],
   "source": [
    "# 数据预处理\n",
    "from torchvision import datasets, transforms\n",
    "transformation = transforms.Compose([transforms.ToTensor(),])  # 转化为tensor，归一化 到0-1之间，将channel放在第一维度\n",
    "train_ds = datasets.MNIST('data/', train=True, transform=transformation, download=False)\n",
    "test_ds = datasets.MNIST('data/', train=False, transform=transformation, download=False)\n",
    "train_dl = DataLoader(train_ds, batch_size=64, shuffle=True)\n",
    "test_dl = DataLoader(test_ds, batch_size=256)\n",
    "\n",
    "# 创建模型\n",
    "class Model(nn.Module):\n",
    "    def __init__(self):\n",
    "        super().__init__()\n",
    "        self.liner_1 = nn.Linear(28*28, 120)\n",
    "        self.liner_2 = nn.Linear(120, 84)\n",
    "        self.liner_3 = nn.Linear(84, 10)\n",
    "    def forward(self, input):\n",
    "        x = input.view(-1, 28*28)  # 展平\n",
    "        x = F.relu(self.liner_1(x))\n",
    "        x = F.relu(self.liner_2(x))\n",
    "        x = self.liner_3(x)\n",
    "        return x\n",
    "model = Model()\n",
    "\n",
    "\n",
    "# 损失函数和优化器 超参数\n",
    "loss_fn = nn.CrossEntropyLoss()\n",
    "optim = torch.optim.Adam(model.parameters(), lr=0.001)\n",
    "train_loss, train_acc, test_loss, test_acc = [], [], [], []\n",
    "epochs = 8\n",
    "\n",
    "# 开始训练\n",
    "for epoch in range(epochs):\n",
    "    epoch_loss, epoch_acc, epoch_test_loss, epoch_test_acc = fit(epoch, model, train_dl, test_dl)\n",
    "    train_loss.append(epoch_loss)\n",
    "    train_acc.append(epoch_acc)\n",
    "    test_loss.append(epoch_test_loss)\n",
    "    test_acc.append(epoch_test_acc)\n",
    "\n",
    "show_acc(train_loss, test_loss, train_acc, test_acc)"
   ],
   "metadata": {
    "collapsed": false,
    "pycharm": {
     "name": "#%%\n"
    }
   }
  },
  {
   "cell_type": "code",
   "execution_count": 65,
   "outputs": [
    {
     "name": "stdout",
     "output_type": "stream",
     "text": [
      "tensor([5, 3, 0, 8, 3, 4, 6, 4, 9, 0])\n"
     ]
    },
    {
     "data": {
      "text/plain": "<Figure size 720x72 with 10 Axes>",
      "image/png": "[encoded data removed]"
     },
     "metadata": {
      "needs_background": "light"
     },
     "output_type": "display_data"
    }
   ],
   "source": [
    "## 看看长什么样\n",
    "def imshow(img):\n",
    "    npimg = np.squeeze(img.numpy())  # 删除掉唯一的维度\n",
    "    plt.imshow(npimg)\n",
    "imgs, labels = next(iter(train_dl))  # [64, 1, 28, 28] [batch channel height width]\n",
    "plt.figure(figsize=(10, 1))\n",
    "for i, img in enumerate(imgs[:10]):\n",
    "    plt.subplot(1, 10, i+1)\n",
    "    imshow(img)\n",
    "print(labels[:10])"
   ],
   "metadata": {
    "collapsed": false,
    "pycharm": {
     "name": "#%%\n"
    }
   }
  },
  {
   "cell_type": "code",
   "execution_count": null,
   "outputs": [],
   "source": [],
   "metadata": {
    "collapsed": false,
    "pycharm": {
     "name": "#%%\n"
    }
   }
  }
 ],
 "metadata": {
  "kernelspec": {
   "display_name": "Python 3",
   "language": "python",
   "name": "python3"
  },
  "language_info": {
   "codemirror_mode": {
    "name": "ipython",
    "version": 2
   },
   "file_extension": ".py",
   "mimetype": "text/x-python",
   "name": "python",
   "nbconvert_exporter": "python",
   "pygments_lexer": "ipython2",
   "version": "2.7.6"
  }
 },
 "nbformat": 4,
 "nbformat_minor": 0
}