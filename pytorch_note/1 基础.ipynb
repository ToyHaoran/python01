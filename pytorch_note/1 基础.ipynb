{
 "cells": [
  {
   "cell_type": "code",
   "execution_count": 4,
   "outputs": [],
   "source": [
    "import torch\n",
    "import pandas as pd\n",
    "import numpy as np\n",
    "import matplotlib.pyplot as plt\n",
    "%matplotlib inline\n",
    "from torch import nn"
   ],
   "metadata": {
    "collapsed": false,
    "pycharm": {
     "name": "#%%\n"
    }
   }
  },
  {
   "cell_type": "markdown",
   "source": [
    "# 简单线性回归\n",
    "受教育年限x与收入数据集y\n",
    "\"\" ,  \"Education\",       \"Income\"\n",
    "\"1\",  10,                26.6588387834389\n",
    "\"2\",  10.4013377926421,  27.3064353457772"
   ],
   "metadata": {
    "collapsed": false
   }
  },
  {
   "cell_type": "code",
   "execution_count": 73,
   "metadata": {},
   "outputs": [
    {
     "name": "stdout",
     "output_type": "stream",
     "text": [
      "4.986007213592529 -29.604738235473633\n"
     ]
    },
    {
     "data": {
      "text/plain": "[<matplotlib.lines.Line2D at 0x1f03636e748>]"
     },
     "execution_count": 73,
     "metadata": {},
     "output_type": "execute_result"
    },
    {
     "data": {
      "text/plain": "<Figure size 432x288 with 1 Axes>",
      "image/png": "[encoded data removed]"
     },
     "metadata": {
      "needs_background": "light"
     },
     "output_type": "display_data"
    }
   ],
   "source": [
    "# 数据预处理 values将Series转为numpy.ndarray\n",
    "data = pd.read_csv('dataset/Income1.csv')  # DataFrame\n",
    "X = torch.from_numpy(data.Education.values.reshape(-1, 1)).type(torch.float32)\n",
    "Y = torch.from_numpy(data.Income.values.reshape(-1, 1)).type(torch.float32)\n",
    "\n",
    "# 创建模型\n",
    "model = nn.Linear(1, 1)  # 输入1维，输出1维 y=w*x+b\n",
    "loss_fn = nn.MSELoss()  # 损失函数 均方误差\n",
    "optim = torch.optim.SGD(model.parameters(), lr=0.001)  # 优化算法 随机梯度下降\n",
    "\n",
    "# 开始训练\n",
    "for epoch in range(2000):\n",
    "    for x, y in zip(X, Y):\n",
    "        y_pred = model(x)\n",
    "        loss = loss_fn(y, y_pred)\n",
    "        optim.zero_grad()  # 梯度归零\n",
    "        loss.backward()  # 反向传播自动计算梯度\n",
    "        optim.step()  # update 参数w b\n",
    "\n",
    "print(model.weight.item(), model.bias.item())\n",
    "\n",
    "# 绘图可视化\n",
    "plt.xlabel('Education')\n",
    "plt.ylabel('Income')\n",
    "plt.scatter(data.Education, data.Income)\n",
    "plt.plot(X.numpy(), model(X).data.numpy(), c='r')"
   ]
  },
  {
   "cell_type": "markdown",
   "source": [
    "## 底层实现"
   ],
   "metadata": {
    "collapsed": false,
    "pycharm": {
     "name": "#%% md\n"
    }
   }
  },
  {
   "cell_type": "code",
   "execution_count": 72,
   "outputs": [
    {
     "name": "stdout",
     "output_type": "stream",
     "text": [
      "4.983036041259766 -29.539405822753906\n"
     ]
    },
    {
     "data": {
      "text/plain": "[<matplotlib.lines.Line2D at 0x1f0362aca08>]"
     },
     "execution_count": 72,
     "metadata": {},
     "output_type": "execute_result"
    },
    {
     "data": {
      "text/plain": "<Figure size 432x288 with 1 Axes>",
      "image/png": "[encoded data removed]"
     },
     "metadata": {
      "needs_background": "light"
     },
     "output_type": "display_data"
    }
   ],
   "source": [
    "w = torch.randn(1, requires_grad=True)\n",
    "b = torch.zeros(1, requires_grad=True)\n",
    "learning_rate = 0.001\n",
    "for epoch in range(2000):\n",
    "    for x, y in zip(X, Y):\n",
    "        y_pred = torch.matmul(x, w) + b\n",
    "        loss = (y-y_pred).pow(2).sum()\n",
    "        if not w.grad is None:\n",
    "            w.grad.data.zero_()\n",
    "        if not b.grad is None:\n",
    "            b.grad.data.zero_()\n",
    "        loss.backward()\n",
    "        with torch.no_grad():\n",
    "            w.data -= w.grad.data*learning_rate\n",
    "            b.data -= b.grad.data*learning_rate\n",
    "\n",
    "print(w.item(), b.item())\n",
    "plt.scatter(data.Education, data.Income)\n",
    "plt.plot(X.numpy(), (torch.matmul(X, w) + b).data.numpy(), c='r')"
   ],
   "metadata": {
    "collapsed": false,
    "pycharm": {
     "name": "#%%\n"
    }
   }
  },
  {
   "cell_type": "markdown",
   "source": [
    "# Pytorch语法\n",
    "## 随机生成张量\n",
    "同numpy"
   ],
   "metadata": {
    "collapsed": false,
    "pycharm": {
     "name": "#%% md\n"
    }
   }
  },
  {
   "cell_type": "code",
   "execution_count": 22,
   "outputs": [
    {
     "name": "stdout",
     "output_type": "stream",
     "text": [
      "[0,1)均匀分布的随机数\n",
      " tensor([[0.9485, 0.9842, 0.1609],\n",
      "        [0.9198, 0.6857, 0.2638]])\n",
      "2*3的标准正态分布随机数\n",
      " tensor([[-0.1790,  2.2180,  1.1524],\n",
      "        [ 1.0164,  0.3980, -0.2611]])\n",
      "全0数组\n",
      " tensor([[0., 0., 0.],\n",
      "        [0., 0., 0.]])\n",
      "全1数组\n",
      " tensor([[1., 1., 1.],\n",
      "        [1., 1., 1.]])\n"
     ]
    }
   ],
   "source": [
    "print(\"[0,1)均匀分布的随机数\\n\",torch.rand(2,3))\n",
    "print(\"2*3的标准正态分布随机数\\n\",torch.randn(2,3))\n",
    "print(\"全0数组\\n\", torch.zeros(2,3))\n",
    "print(\"全1数组\\n\", torch.ones(2,3))"
   ],
   "metadata": {
    "collapsed": false,
    "pycharm": {
     "name": "#%%\n"
    }
   }
  },
  {
   "cell_type": "markdown",
   "metadata": {
    "pycharm": {
     "name": "#%% md\n"
    }
   },
   "source": [
    "## 数据类型及转换\n",
    "torch.int16 32 64\n",
    "torch.float32 64"
   ]
  },
  {
   "cell_type": "code",
   "execution_count": 27,
   "outputs": [
    {
     "data": {
      "text/plain": "tensor([6, 2], dtype=torch.int32)"
     },
     "execution_count": 27,
     "metadata": {},
     "output_type": "execute_result"
    }
   ],
   "source": [
    "x = torch.tensor([6,2], dtype=torch.float32)\n",
    "x.type(torch.int32)  # 类型转换"
   ],
   "metadata": {
    "collapsed": false,
    "pycharm": {
     "name": "#%%\n"
    }
   }
  },
  {
   "cell_type": "code",
   "execution_count": 32,
   "outputs": [
    {
     "name": "stdout",
     "output_type": "stream",
     "text": [
      "tensor([[ 0.3955,  1.3541, -0.2947],\n",
      "        [ 0.4407,  0.0360, -0.8637]], dtype=torch.float64)\n"
     ]
    },
    {
     "data": {
      "text/plain": "array([[ 0.39547951,  1.35405147, -0.29468327],\n       [ 0.44065839,  0.03596732, -0.86366915]])"
     },
     "execution_count": 32,
     "metadata": {},
     "output_type": "execute_result"
    }
   ],
   "source": [
    "x = torch.from_numpy(np.random.randn(2,3))  # numpy转为tensor\n",
    "print(x)\n",
    "x.numpy()  # 转为numpy"
   ],
   "metadata": {
    "collapsed": false,
    "pycharm": {
     "name": "#%%\n"
    }
   }
  },
  {
   "cell_type": "markdown",
   "source": [
    "## 张量运算\n",
    "同numpy，直接 + - * /\n"
   ],
   "metadata": {
    "collapsed": false,
    "pycharm": {
     "name": "#%% md\n"
    }
   }
  },
  {
   "cell_type": "code",
   "execution_count": 42,
   "outputs": [
    {
     "data": {
      "text/plain": "tensor([[0.6261, 0.1251, 0.6799],\n        [0.4958, 1.8673, 1.7082]])"
     },
     "execution_count": 42,
     "metadata": {},
     "output_type": "execute_result"
    }
   ],
   "source": [
    "x1 = torch.rand(2,3)   # 均匀分布\n",
    "x2 = torch.rand(2,3)\n",
    "x1.add_(x2)  # 加_会直接改变x1"
   ],
   "metadata": {
    "collapsed": false,
    "pycharm": {
     "name": "#%%\n"
    }
   }
  },
  {
   "cell_type": "code",
   "execution_count": 44,
   "outputs": [
    {
     "data": {
      "text/plain": "tensor([[0.6261],\n        [0.1251],\n        [0.6799],\n        [0.4958],\n        [1.8673],\n        [1.7082]])"
     },
     "execution_count": 44,
     "metadata": {},
     "output_type": "execute_result"
    }
   ],
   "source": [
    "x1.view(-1,1)  # 等价于numpy中的reshape(-1,1) 展平 等价于(n,1)"
   ],
   "metadata": {
    "collapsed": false,
    "pycharm": {
     "name": "#%%\n"
    }
   }
  },
  {
   "cell_type": "code",
   "execution_count": 45,
   "outputs": [
    {
     "data": {
      "text/plain": "5.50242805480957"
     },
     "execution_count": 45,
     "metadata": {},
     "output_type": "execute_result"
    }
   ],
   "source": [
    "x1.sum().item()  # 统计方法sum同numpy; item()将tensor变为标量"
   ],
   "metadata": {
    "collapsed": false,
    "pycharm": {
     "name": "#%%\n"
    }
   }
  },
  {
   "cell_type": "markdown",
   "source": [
    "## 张量的自动微分\n",
    "类似tensorflow中的待优化张量Variable；\n",
    "\n",
    "将Torch.Tensor属性 .requires_grad 设置为True，pytorch将开始跟踪对此张量的所有操作。\n",
    "完成计算后，可以调用 .backward() 并自动计算所有梯度。该张量的梯度将累加到.grad属性中。"
   ],
   "metadata": {
    "collapsed": false,
    "pycharm": {
     "name": "#%% md\n"
    }
   }
  },
  {
   "cell_type": "code",
   "execution_count": 65,
   "outputs": [
    {
     "name": "stdout",
     "output_type": "stream",
     "text": [
      "tensor([[27., 27.],\n",
      "        [27., 27.]], grad_fn=<MulBackward0>) tensor(27., grad_fn=<MeanBackward0>)\n",
      "tensor([[4.5000, 4.5000],\n",
      "        [4.5000, 4.5000]])\n"
     ]
    }
   ],
   "source": [
    "x = torch.ones(2, 2, requires_grad=True)  # 等价于x.requires_grad_(True)\n",
    "y = (x + 2) ** 2 * 3  # y具有grad_fn属性，可计算梯度\n",
    "z = y.mean()\n",
    "print(y, z)\n",
    "z.backward()  # 自动微分运算, z是标量值\n",
    "print(x.grad)  # 打印梯度dz/dx"
   ],
   "metadata": {
    "collapsed": false,
    "pycharm": {
     "name": "#%%\n"
    }
   }
  },
  {
   "cell_type": "markdown",
   "source": [
    "当不需要跟踪计算时，可以通过将代码块包装在with torch.no_grad()上下文中；等价于x.detach()"
   ],
   "metadata": {
    "collapsed": false,
    "pycharm": {
     "name": "#%% md\n"
    }
   }
  },
  {
   "cell_type": "code",
   "execution_count": 63,
   "outputs": [
    {
     "name": "stdout",
     "output_type": "stream",
     "text": [
      "True\n",
      "False\n",
      "False\n"
     ]
    }
   ],
   "source": [
    "print((x ** 2).requires_grad)\n",
    "with torch.no_grad():\n",
    "    print((x ** 2).requires_grad)\n",
    "y = (x ** 2).detach()\n",
    "print(y.requires_grad)"
   ],
   "metadata": {
    "collapsed": false,
    "pycharm": {
     "name": "#%%\n"
    }
   }
  },
  {
   "cell_type": "markdown",
   "source": [
    "# 二分类 逻辑回归 HR数据集\n",
    "人力资源数据集：根据各个特征，预测该员工是否会在近期离职；\n",
    "                                                                                                        离职                       部门\n",
    "satisfaction_level,last_evaluation,number_project,average_montly_hours,time_spend_company,Work_accident,left,promotion_last_5years,part, salary\n",
    "   0.38,                 0.53,           2,              157,              3,                 0,         1,          0,            sales,low\n",
    "   0.8,                  0.86,           5,              262,              6,                 0,         1,          0,            sales,medium"
   ],
   "metadata": {
    "collapsed": false,
    "pycharm": {
     "name": "#%% md\n"
    }
   }
  },
  {
   "cell_type": "code",
   "execution_count": 2,
   "outputs": [],
   "source": [
    "import torch\n",
    "import pandas as pd\n",
    "import numpy as np\n",
    "import matplotlib.pyplot as plt\n",
    "from torch import nn\n",
    "import torch.nn.functional as F\n",
    "from torch.utils.data import Dataset, DataLoader, TensorDataset\n",
    "from sklearn.model_selection import train_test_split\n",
    "%matplotlib inline"
   ],
   "metadata": {
    "collapsed": false,
    "pycharm": {
     "name": "#%%\n"
    }
   }
  },
  {
   "cell_type": "markdown",
   "source": [
    "## 数据预处理 TensorDataset\n",
    "TensorDataset是Dataset的子类，已经覆写了__len__(返回数据集大小)和__getitem__(使实例化后的对象支持下标操作)，只要传入张量即可，它通过第一个维度进行索引。"
   ],
   "metadata": {
    "collapsed": false,
    "pycharm": {
     "name": "#%% md\n"
    }
   }
  },
  {
   "cell_type": "code",
   "execution_count": 11,
   "outputs": [],
   "source": [
    "data = pd.read_csv('dataset/HR.csv')\n",
    "# get_dummies将数据中的英文转为独热编码(如salary变为low medium high 3列)\n",
    "data = data.join(pd.get_dummies(data.part)).join(pd.get_dummies(data.salary))\n",
    "data.drop(columns=['part', 'salary'], inplace=True)\n",
    "X = torch.from_numpy(data[[c for c in data.columns if c != 'left']].values).type(torch.float32)  # Size([14999, 20])\n",
    "Y = torch.from_numpy(data.left.values.reshape(-1, 1)).type(torch.float32)  # Size([14999, 1])\n",
    "\n",
    "batch = 512\n",
    "train_x, test_x, train_y, test_y = train_test_split(X, Y)  # 划分训练集和测试集 默认4:1\n",
    "train_ds, test_ds = TensorDataset(train_x, train_y), TensorDataset(test_x, test_y)\n",
    "train_dl, test_dl = DataLoader(train_ds, batch_size=batch, shuffle=True), DataLoader(test_ds, batch_size=batch)"
   ],
   "metadata": {
    "collapsed": false,
    "pycharm": {
     "name": "#%%\n"
    }
   }
  },
  {
   "cell_type": "markdown",
   "source": [
    "## 创建模型 Class"
   ],
   "metadata": {
    "collapsed": false,
    "pycharm": {
     "name": "#%% md\n"
    }
   }
  },
  {
   "cell_type": "code",
   "execution_count": 12,
   "outputs": [],
   "source": [
    "class Logistic(nn.Module):\n",
    "    def __init__(self):\n",
    "        \"\"\"初始化所有层\"\"\"\n",
    "        super().__init__()\n",
    "        # 当前层 输入x和输出y的特征维度(20,60)\n",
    "        self.lin_1 = nn.Linear(20, 64)\n",
    "        self.lin_2 = nn.Linear(64, 64)\n",
    "        self.lin_3 = nn.Linear(64, 1)\n",
    "        self.relu = nn.ReLU()  # 可用F.relu()代替\n",
    "        self.sigmoid = nn.Sigmoid()\n",
    "\n",
    "    def forward(self, input):\n",
    "        \"\"\"定义模型的前向传播过程\"\"\"\n",
    "        x = self.relu(self.lin_1(input))\n",
    "        x = self.relu(self.lin_2(x))\n",
    "        x = self.sigmoid(self.lin_3(x))\n",
    "        return x\n",
    "model = Logistic()"
   ],
   "metadata": {
    "collapsed": false,
    "pycharm": {
     "name": "#%%\n"
    }
   }
  },
  {
   "cell_type": "markdown",
   "source": [
    "## 损失函数和优化器"
   ],
   "metadata": {
    "collapsed": false,
    "pycharm": {
     "name": "#%% md\n"
    }
   }
  },
  {
   "cell_type": "code",
   "execution_count": 13,
   "outputs": [],
   "source": [
    "loss_fn = torch.nn.BCELoss()  # 交叉熵损失函数\n",
    "optim = torch.optim.Adam(model.parameters(), lr=0.001)  # 优化器 自动完成参数的初始化操作"
   ],
   "metadata": {
    "collapsed": false,
    "pycharm": {
     "name": "#%%\n"
    }
   }
  },
  {
   "cell_type": "markdown",
   "source": [
    "## 开始训练"
   ],
   "metadata": {
    "collapsed": false,
    "pycharm": {
     "name": "#%% md\n"
    }
   }
  },
  {
   "cell_type": "code",
   "execution_count": 14,
   "outputs": [
    {
     "name": "stdout",
     "output_type": "stream",
     "text": [
      "epoch: 9 loss: 0.521 accuracy 0.761 test_loss 0.521 test_accurary 0.763\n",
      "epoch: 19 loss: 0.45 accuracy 0.75 test_loss 0.451 test_accurary 0.752\n",
      "epoch: 29 loss: 0.403 accuracy 0.813 test_loss 0.405 test_accurary 0.812\n",
      "epoch: 39 loss: 0.345 accuracy 0.84 test_loss 0.347 test_accurary 0.841\n",
      "epoch: 49 loss: 0.307 accuracy 0.863 test_loss 0.31 test_accurary 0.861\n",
      "epoch: 59 loss: 0.285 accuracy 0.889 test_loss 0.29 test_accurary 0.886\n",
      "epoch: 69 loss: 0.27 accuracy 0.887 test_loss 0.279 test_accurary 0.881\n",
      "epoch: 79 loss: 0.262 accuracy 0.898 test_loss 0.27 test_accurary 0.896\n",
      "epoch: 89 loss: 0.254 accuracy 0.899 test_loss 0.268 test_accurary 0.893\n",
      "epoch: 99 loss: 0.241 accuracy 0.911 test_loss 0.255 test_accurary 0.909\n"
     ]
    }
   ],
   "source": [
    "def accuracy(y_pred, y_true):\n",
    "    \"\"\"计算正确率\"\"\"\n",
    "    preds = (y_pred > 0.5).type(torch.IntTensor)\n",
    "    acc = (preds == y_true).float().mean()\n",
    "    return acc\n",
    "\n",
    "for epoch in range(100):\n",
    "    for batch, (x, y) in enumerate(train_dl):\n",
    "        y_pred = model(x)\n",
    "        loss = loss_fn(y_pred, y)\n",
    "        optim.zero_grad()\n",
    "        loss.backward()\n",
    "        optim.step()\n",
    "\n",
    "    with torch.no_grad():\n",
    "        epoch_train_accuracy = accuracy(model(train_x), train_y).item()\n",
    "        epoch_train_loss = loss_fn(model(train_x), train_y).data.item()\n",
    "        epoch_test_accuracy = accuracy(model(test_x), test_y).item()\n",
    "        epoch_test_loss = loss_fn(model(test_x), test_y).data.item()\n",
    "        print('epoch:', epoch,\n",
    "              'loss:', round(epoch_train_loss, 3), \"accuracy\", round(epoch_train_accuracy, 3),\n",
    "              \"test_loss\", round(epoch_test_loss, 3), \"test_accurary\", round(epoch_test_accuracy, 3))"
   ],
   "metadata": {
    "collapsed": false,
    "pycharm": {
     "name": "#%%\n"
    }
   }
  },
  {
   "cell_type": "markdown",
   "source": [
    "# 多分类 鸢尾花数据集\n",
    "数据集介绍：共有数据150组，每组包括花尊长、花尊宽、花瓣长、花瓣宽4个输入特征。以及这组特征对应的鸢尾花类别。\n",
    "类别包括(狗尾草鸢尾)(杂色鸢尾)(弗吉尼亚鸢尾)三类，分别用数字0，1，2表示。\n",
    "\"\",\"Sepal.Length\",\"Sepal.Width\",\"Petal.Length\",\"Petal.Width\",\"Species\"\n",
    "\"1\",    5.1,           3.5,          1.4,         0.2,         \"setosa\"\n",
    "\"2\",    4.9,           3,            1.4,         0.2,         \"setosa\""
   ],
   "metadata": {
    "collapsed": false,
    "pycharm": {
     "name": "#%% md\n"
    }
   }
  },
  {
   "cell_type": "code",
   "execution_count": 5,
   "outputs": [],
   "source": [
    "import torch\n",
    "import pandas as pd\n",
    "import numpy as np\n",
    "import matplotlib.pyplot as plt\n",
    "from torch import nn\n",
    "import torch.nn.functional as F\n",
    "from torch.utils.data import Dataset, DataLoader, TensorDataset\n",
    "from sklearn.model_selection import train_test_split\n",
    "%matplotlib inline"
   ],
   "metadata": {
    "collapsed": false,
    "pycharm": {
     "name": "#%%\n"
    }
   }
  },
  {
   "cell_type": "markdown",
   "source": [
    "## 数据预处理"
   ],
   "metadata": {
    "collapsed": false,
    "pycharm": {
     "name": "#%% md\n"
    }
   }
  },
  {
   "cell_type": "code",
   "execution_count": 6,
   "outputs": [],
   "source": [
    "data = pd.read_csv(\"dataset/iris.csv\")\n",
    "data['Species'] = pd.factorize(data.Species)[0]  # 将字符串之转为数值类型0 1 2···\n",
    "X = torch.from_numpy(data.iloc[:, 1: -1].values).type(torch.float32) # (150,4)\n",
    "Y = torch.from_numpy(data.Species.values).type(torch.int64)  # (150,)  注意输出类型\n",
    "\n",
    "batch = 8\n",
    "train_x, test_x, train_y, test_y = train_test_split(X, Y)  # 划分训练集和测试集 默认4:1\n",
    "train_ds, test_ds = TensorDataset(train_x, train_y), TensorDataset(test_x, test_y)\n",
    "train_dl, test_dl = DataLoader(train_ds, batch_size=batch, shuffle=True), DataLoader(test_ds, batch_size=batch)"
   ],
   "metadata": {
    "collapsed": false,
    "pycharm": {
     "name": "#%%\n"
    }
   }
  },
  {
   "cell_type": "markdown",
   "source": [
    "## 创建模型"
   ],
   "metadata": {
    "collapsed": false,
    "pycharm": {
     "name": "#%% md\n"
    }
   }
  },
  {
   "cell_type": "code",
   "execution_count": 7,
   "outputs": [],
   "source": [
    "class Model(nn.Module):\n",
    "    def __init__(self):\n",
    "        super().__init__()\n",
    "        self.liner_1 = nn.Linear(4, 32)\n",
    "        self.liner_2 = nn.Linear(32, 32)\n",
    "        self.liner_3 = nn.Linear(32, 3)\n",
    "    def forward(self, input):\n",
    "        x = F.relu(self.liner_1(input))\n",
    "        x = F.relu(self.liner_2(x))\n",
    "        x = self.liner_3(x)  # 因为nn.CrossEntropyLoss()参数是未激活输出，所以这里没激活\n",
    "        return x\n",
    "model = Model()"
   ],
   "metadata": {
    "collapsed": false,
    "pycharm": {
     "name": "#%%\n"
    }
   }
  },
  {
   "cell_type": "markdown",
   "source": [
    "## 损失函数和优化器"
   ],
   "metadata": {
    "collapsed": false,
    "pycharm": {
     "name": "#%% md\n"
    }
   }
  },
  {
   "cell_type": "code",
   "execution_count": 8,
   "outputs": [],
   "source": [
    "loss_fn = nn.CrossEntropyLoss()\n",
    "optim = torch.optim.Adam(model.parameters(), lr=0.0001)"
   ],
   "metadata": {
    "collapsed": false,
    "pycharm": {
     "name": "#%%\n"
    }
   }
  },
  {
   "cell_type": "markdown",
   "source": [
    "## 训练模型"
   ],
   "metadata": {
    "collapsed": false,
    "pycharm": {
     "name": "#%% md\n"
    }
   }
  },
  {
   "cell_type": "code",
   "execution_count": 9,
   "outputs": [
    {
     "name": "stdout",
     "output_type": "stream",
     "text": [
      "epoch: 0 loss: 1.243 accuracy 0.339 test_loss 1.262 test_accurary 0.316\n",
      "epoch: 1 loss: 1.216 accuracy 0.339 test_loss 1.235 test_accurary 0.316\n",
      "epoch: 2 loss: 1.192 accuracy 0.339 test_loss 1.21 test_accurary 0.316\n",
      "epoch: 3 loss: 1.167 accuracy 0.339 test_loss 1.186 test_accurary 0.316\n",
      "epoch: 4 loss: 1.147 accuracy 0.339 test_loss 1.165 test_accurary 0.316\n",
      "epoch: 5 loss: 1.129 accuracy 0.339 test_loss 1.147 test_accurary 0.316\n",
      "epoch: 6 loss: 1.113 accuracy 0.339 test_loss 1.131 test_accurary 0.316\n",
      "epoch: 7 loss: 1.1 accuracy 0.339 test_loss 1.118 test_accurary 0.316\n",
      "epoch: 8 loss: 1.086 accuracy 0.339 test_loss 1.104 test_accurary 0.316\n",
      "epoch: 9 loss: 1.074 accuracy 0.348 test_loss 1.093 test_accurary 0.316\n",
      "epoch: 10 loss: 1.065 accuracy 0.554 test_loss 1.083 test_accurary 0.5\n",
      "epoch: 11 loss: 1.055 accuracy 0.67 test_loss 1.073 test_accurary 0.632\n",
      "epoch: 12 loss: 1.045 accuracy 0.679 test_loss 1.064 test_accurary 0.632\n",
      "epoch: 13 loss: 1.036 accuracy 0.679 test_loss 1.056 test_accurary 0.632\n",
      "epoch: 14 loss: 1.028 accuracy 0.679 test_loss 1.048 test_accurary 0.632\n",
      "epoch: 15 loss: 1.02 accuracy 0.679 test_loss 1.04 test_accurary 0.632\n",
      "epoch: 16 loss: 1.012 accuracy 0.679 test_loss 1.033 test_accurary 0.632\n",
      "epoch: 17 loss: 1.005 accuracy 0.679 test_loss 1.027 test_accurary 0.632\n",
      "epoch: 18 loss: 0.998 accuracy 0.679 test_loss 1.02 test_accurary 0.632\n",
      "epoch: 19 loss: 0.992 accuracy 0.679 test_loss 1.013 test_accurary 0.632\n",
      "epoch: 20 loss: 0.985 accuracy 0.679 test_loss 1.007 test_accurary 0.632\n",
      "epoch: 21 loss: 0.978 accuracy 0.679 test_loss 1.001 test_accurary 0.632\n",
      "epoch: 22 loss: 0.972 accuracy 0.679 test_loss 0.995 test_accurary 0.632\n",
      "epoch: 23 loss: 0.965 accuracy 0.679 test_loss 0.989 test_accurary 0.632\n",
      "epoch: 24 loss: 0.959 accuracy 0.679 test_loss 0.983 test_accurary 0.632\n",
      "epoch: 25 loss: 0.952 accuracy 0.679 test_loss 0.976 test_accurary 0.632\n",
      "epoch: 26 loss: 0.946 accuracy 0.679 test_loss 0.97 test_accurary 0.632\n",
      "epoch: 27 loss: 0.939 accuracy 0.679 test_loss 0.964 test_accurary 0.632\n",
      "epoch: 28 loss: 0.933 accuracy 0.679 test_loss 0.958 test_accurary 0.632\n",
      "epoch: 29 loss: 0.926 accuracy 0.679 test_loss 0.951 test_accurary 0.632\n",
      "epoch: 30 loss: 0.919 accuracy 0.679 test_loss 0.946 test_accurary 0.632\n",
      "epoch: 31 loss: 0.913 accuracy 0.679 test_loss 0.939 test_accurary 0.632\n",
      "epoch: 32 loss: 0.906 accuracy 0.679 test_loss 0.933 test_accurary 0.632\n",
      "epoch: 33 loss: 0.899 accuracy 0.679 test_loss 0.926 test_accurary 0.632\n",
      "epoch: 34 loss: 0.892 accuracy 0.679 test_loss 0.92 test_accurary 0.632\n",
      "epoch: 35 loss: 0.885 accuracy 0.679 test_loss 0.913 test_accurary 0.632\n",
      "epoch: 36 loss: 0.879 accuracy 0.679 test_loss 0.906 test_accurary 0.632\n",
      "epoch: 37 loss: 0.871 accuracy 0.679 test_loss 0.899 test_accurary 0.632\n",
      "epoch: 38 loss: 0.864 accuracy 0.679 test_loss 0.893 test_accurary 0.632\n",
      "epoch: 39 loss: 0.856 accuracy 0.679 test_loss 0.885 test_accurary 0.632\n",
      "epoch: 40 loss: 0.848 accuracy 0.679 test_loss 0.878 test_accurary 0.632\n",
      "epoch: 41 loss: 0.84 accuracy 0.679 test_loss 0.87 test_accurary 0.632\n",
      "epoch: 42 loss: 0.833 accuracy 0.679 test_loss 0.863 test_accurary 0.632\n",
      "epoch: 43 loss: 0.825 accuracy 0.679 test_loss 0.855 test_accurary 0.632\n",
      "epoch: 44 loss: 0.818 accuracy 0.679 test_loss 0.848 test_accurary 0.632\n",
      "epoch: 45 loss: 0.809 accuracy 0.679 test_loss 0.84 test_accurary 0.632\n",
      "epoch: 46 loss: 0.798 accuracy 0.679 test_loss 0.83 test_accurary 0.632\n",
      "epoch: 47 loss: 0.786 accuracy 0.679 test_loss 0.819 test_accurary 0.632\n",
      "epoch: 48 loss: 0.774 accuracy 0.679 test_loss 0.807 test_accurary 0.632\n",
      "epoch: 49 loss: 0.764 accuracy 0.688 test_loss 0.797 test_accurary 0.632\n",
      "epoch: 50 loss: 0.754 accuracy 0.688 test_loss 0.788 test_accurary 0.632\n",
      "epoch: 51 loss: 0.745 accuracy 0.688 test_loss 0.779 test_accurary 0.632\n",
      "epoch: 52 loss: 0.736 accuracy 0.688 test_loss 0.771 test_accurary 0.632\n",
      "epoch: 53 loss: 0.726 accuracy 0.688 test_loss 0.762 test_accurary 0.632\n",
      "epoch: 54 loss: 0.717 accuracy 0.688 test_loss 0.753 test_accurary 0.632\n",
      "epoch: 55 loss: 0.708 accuracy 0.688 test_loss 0.744 test_accurary 0.632\n",
      "epoch: 56 loss: 0.699 accuracy 0.688 test_loss 0.736 test_accurary 0.632\n",
      "epoch: 57 loss: 0.691 accuracy 0.688 test_loss 0.728 test_accurary 0.632\n",
      "epoch: 58 loss: 0.682 accuracy 0.688 test_loss 0.719 test_accurary 0.632\n",
      "epoch: 59 loss: 0.674 accuracy 0.688 test_loss 0.712 test_accurary 0.632\n",
      "epoch: 60 loss: 0.666 accuracy 0.688 test_loss 0.703 test_accurary 0.632\n",
      "epoch: 61 loss: 0.658 accuracy 0.688 test_loss 0.695 test_accurary 0.632\n",
      "epoch: 62 loss: 0.65 accuracy 0.688 test_loss 0.687 test_accurary 0.632\n",
      "epoch: 63 loss: 0.642 accuracy 0.688 test_loss 0.679 test_accurary 0.632\n",
      "epoch: 64 loss: 0.634 accuracy 0.688 test_loss 0.672 test_accurary 0.632\n",
      "epoch: 65 loss: 0.627 accuracy 0.705 test_loss 0.664 test_accurary 0.632\n",
      "epoch: 66 loss: 0.619 accuracy 0.714 test_loss 0.656 test_accurary 0.632\n",
      "epoch: 67 loss: 0.612 accuracy 0.714 test_loss 0.649 test_accurary 0.632\n",
      "epoch: 68 loss: 0.605 accuracy 0.705 test_loss 0.642 test_accurary 0.632\n",
      "epoch: 69 loss: 0.599 accuracy 0.705 test_loss 0.636 test_accurary 0.632\n",
      "epoch: 70 loss: 0.592 accuracy 0.705 test_loss 0.63 test_accurary 0.632\n",
      "epoch: 71 loss: 0.586 accuracy 0.723 test_loss 0.623 test_accurary 0.632\n",
      "epoch: 72 loss: 0.58 accuracy 0.723 test_loss 0.617 test_accurary 0.632\n",
      "epoch: 73 loss: 0.574 accuracy 0.723 test_loss 0.611 test_accurary 0.632\n",
      "epoch: 74 loss: 0.568 accuracy 0.723 test_loss 0.605 test_accurary 0.632\n",
      "epoch: 75 loss: 0.562 accuracy 0.723 test_loss 0.599 test_accurary 0.632\n",
      "epoch: 76 loss: 0.557 accuracy 0.723 test_loss 0.593 test_accurary 0.632\n",
      "epoch: 77 loss: 0.552 accuracy 0.723 test_loss 0.588 test_accurary 0.632\n",
      "epoch: 78 loss: 0.547 accuracy 0.723 test_loss 0.582 test_accurary 0.632\n",
      "epoch: 79 loss: 0.542 accuracy 0.732 test_loss 0.576 test_accurary 0.632\n",
      "epoch: 80 loss: 0.537 accuracy 0.732 test_loss 0.572 test_accurary 0.632\n",
      "epoch: 81 loss: 0.532 accuracy 0.75 test_loss 0.566 test_accurary 0.632\n",
      "epoch: 82 loss: 0.527 accuracy 0.75 test_loss 0.561 test_accurary 0.632\n",
      "epoch: 83 loss: 0.523 accuracy 0.75 test_loss 0.557 test_accurary 0.632\n",
      "epoch: 84 loss: 0.518 accuracy 0.75 test_loss 0.553 test_accurary 0.632\n",
      "epoch: 85 loss: 0.514 accuracy 0.759 test_loss 0.548 test_accurary 0.632\n",
      "epoch: 86 loss: 0.51 accuracy 0.759 test_loss 0.543 test_accurary 0.632\n",
      "epoch: 87 loss: 0.505 accuracy 0.768 test_loss 0.538 test_accurary 0.632\n",
      "epoch: 88 loss: 0.501 accuracy 0.786 test_loss 0.534 test_accurary 0.711\n",
      "epoch: 89 loss: 0.497 accuracy 0.768 test_loss 0.53 test_accurary 0.632\n",
      "epoch: 90 loss: 0.493 accuracy 0.777 test_loss 0.526 test_accurary 0.684\n",
      "epoch: 91 loss: 0.489 accuracy 0.83 test_loss 0.52 test_accurary 0.789\n",
      "epoch: 92 loss: 0.485 accuracy 0.83 test_loss 0.516 test_accurary 0.789\n",
      "epoch: 93 loss: 0.481 accuracy 0.83 test_loss 0.512 test_accurary 0.789\n",
      "epoch: 94 loss: 0.477 accuracy 0.83 test_loss 0.508 test_accurary 0.789\n",
      "epoch: 95 loss: 0.473 accuracy 0.839 test_loss 0.503 test_accurary 0.816\n",
      "epoch: 96 loss: 0.469 accuracy 0.848 test_loss 0.499 test_accurary 0.842\n",
      "epoch: 97 loss: 0.466 accuracy 0.848 test_loss 0.495 test_accurary 0.842\n",
      "epoch: 98 loss: 0.462 accuracy 0.848 test_loss 0.491 test_accurary 0.842\n",
      "epoch: 99 loss: 0.458 accuracy 0.848 test_loss 0.488 test_accurary 0.842\n"
     ]
    }
   ],
   "source": [
    "def accuracy(y_pred, y_true):\n",
    "    y_pred = torch.argmax(y_pred, dim=1)  # 按(概率)最大值所在位置，转换为实际的预测结果(0 1 2)\n",
    "    acc = (y_pred == y_true).float().mean()\n",
    "    return acc\n",
    "\n",
    "train_loss, train_acc, test_loss, test_acc = [], [], [], []\n",
    "epochs = 100\n",
    "for epoch in range(epochs):\n",
    "    for batch, (x, y) in enumerate(train_dl):\n",
    "        y_pred = model(x)\n",
    "        loss = loss_fn(y_pred, y)\n",
    "        optim.zero_grad()\n",
    "        loss.backward()\n",
    "        optim.step()\n",
    "\n",
    "    with torch.no_grad():\n",
    "        epoch_train_accuracy = accuracy(model(train_x), train_y).item()\n",
    "        epoch_train_loss = loss_fn(model(train_x), train_y).data.item()\n",
    "        epoch_test_accuracy = accuracy(model(test_x), test_y).item()\n",
    "        epoch_test_loss = loss_fn(model(test_x), test_y).data.item()\n",
    "        print('epoch:', epoch,\n",
    "              'loss:', round(epoch_train_loss, 3), \"accuracy\", round(epoch_train_accuracy, 3),\n",
    "              \"test_loss\", round(epoch_test_loss, 3), \"test_accurary\", round(epoch_test_accuracy, 3))\n",
    "        train_loss.append(epoch_train_loss)\n",
    "        train_acc.append(epoch_train_accuracy)\n",
    "        test_loss.append(epoch_test_loss)\n",
    "        test_acc.append(epoch_test_accuracy)"
   ],
   "metadata": {
    "collapsed": false,
    "pycharm": {
     "name": "#%%\n"
    }
   }
  },
  {
   "cell_type": "markdown",
   "source": [
    "## 可视化"
   ],
   "metadata": {
    "collapsed": false,
    "pycharm": {
     "name": "#%% md\n"
    }
   }
  },
  {
   "cell_type": "code",
   "execution_count": 10,
   "outputs": [
    {
     "data": {
      "text/plain": "<matplotlib.legend.Legend at 0x17646ce0d08>"
     },
     "execution_count": 10,
     "metadata": {},
     "output_type": "execute_result"
    },
    {
     "data": {
      "text/plain": "<Figure size 1008x288 with 2 Axes>",
      "image/png": "[encoded data removed]"
     },
     "metadata": {
      "needs_background": "light"
     },
     "output_type": "display_data"
    }
   ],
   "source": [
    "fig = plt.figure(figsize=(14, 4))\n",
    "ax1 = fig.add_subplot(1, 2, 1)\n",
    "plt.plot(range(1, epochs+1), train_loss, label='train_loss')\n",
    "plt.plot(range(1, epochs+1), test_loss, label='test_loss')\n",
    "plt.legend()\n",
    "\n",
    "ax2 = fig.add_subplot(1, 2, 2)\n",
    "plt.plot(range(1, epochs+1), train_acc, label='train_acc')\n",
    "plt.plot(range(1, epochs+1), test_acc, label='test_acc')\n",
    "plt.legend()"
   ],
   "metadata": {
    "collapsed": false,
    "pycharm": {
     "name": "#%%\n"
    }
   }
  }
 ],
 "metadata": {
  "kernelspec": {
   "display_name": "Python 3",
   "language": "python",
   "name": "python3"
  },
  "language_info": {
   "codemirror_mode": {
    "name": "ipython",
    "version": 2
   },
   "file_extension": ".py",
   "mimetype": "text/x-python",
   "name": "python",
   "nbconvert_exporter": "python",
   "pygments_lexer": "ipython2",
   "version": "2.7.6"
  }
 },
 "nbformat": 4,
 "nbformat_minor": 0
}